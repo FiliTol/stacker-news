{
 "cells": [
  {
   "cell_type": "code",
   "execution_count": 2,
   "id": "initial_id",
   "metadata": {
    "collapsed": true,
    "ExecuteTime": {
     "end_time": "2023-10-05T05:55:04.260482155Z",
     "start_time": "2023-10-05T05:55:03.454833537Z"
    }
   },
   "outputs": [],
   "source": [
    "from bs4 import BeautifulSoup\n",
    "import requests as requests\n",
    "import time\n",
    "import re\n",
    "from datetime import datetime\n",
    "import pandas as pd\n",
    "import numpy as np\n",
    "from user_modules import scraping_user as su"
   ]
  },
  {
   "cell_type": "markdown",
   "source": [
    "## Test chunck\n",
    "NB: need to solve the problem of some items not having a title (these are the comments). At the current time, I solved the problem with a `try - except`."
   ],
   "metadata": {
    "collapsed": false
   },
   "id": "9c0978c01a736aa8"
  },
  {
   "cell_type": "code",
   "execution_count": 4,
   "outputs": [],
   "source": [
    "titles = []\n",
    "\n",
    "start = time.time()\n",
    "\n",
    "for i in range(1,11):\n",
    "    \n",
    "    try:\n",
    "        url_posts = 'https://stacker.news/items/%d' % (i)\n",
    "        response = requests.get(url_posts)\n",
    "        soup = BeautifulSoup(response.text, 'html.parser')\n",
    "    \n",
    "        title = soup.find_all('a', class_='item_title__FH7AS text-reset me-2')\n",
    "        \n",
    "        for e in title:\n",
    "            titles.append(e.get_text())\n",
    "        \n",
    "    except:\n",
    "        continue\n",
    "\n",
    "end = time.time()\n",
    "\n",
    "print(\"The time of execution of above program is :\",\n",
    "      (end-start), \"s\")"
   ],
   "metadata": {
    "collapsed": false,
    "ExecuteTime": {
     "end_time": "2023-10-04T07:55:47.488266126Z",
     "start_time": "2023-10-04T07:55:40.108224898Z"
    }
   },
   "id": "c1b53dd5238f1a54"
  },
  {
   "cell_type": "markdown",
   "source": [
    "## Collect post header with all the related data"
   ],
   "metadata": {
    "collapsed": false
   },
   "id": "22c54d832a42cfb6"
  },
  {
   "cell_type": "code",
   "execution_count": 1,
   "outputs": [
    {
     "ename": "NameError",
     "evalue": "name 'requests' is not defined",
     "output_type": "error",
     "traceback": [
      "\u001B[0;31m---------------------------------------------------------------------------\u001B[0m",
      "\u001B[0;31mNameError\u001B[0m                                 Traceback (most recent call last)",
      "Cell \u001B[0;32mIn[1], line 2\u001B[0m\n\u001B[1;32m      1\u001B[0m url_posts \u001B[38;5;241m=\u001B[39m \u001B[38;5;124m'\u001B[39m\u001B[38;5;124mhttps://stacker.news/items/1\u001B[39m\u001B[38;5;124m'\u001B[39m\n\u001B[0;32m----> 2\u001B[0m response \u001B[38;5;241m=\u001B[39m \u001B[43mrequests\u001B[49m\u001B[38;5;241m.\u001B[39mget(url_posts)\n\u001B[1;32m      3\u001B[0m soup \u001B[38;5;241m=\u001B[39m BeautifulSoup(response\u001B[38;5;241m.\u001B[39mtext, \u001B[38;5;124m'\u001B[39m\u001B[38;5;124mhtml.parser\u001B[39m\u001B[38;5;124m'\u001B[39m)\n\u001B[1;32m      5\u001B[0m titolo \u001B[38;5;241m=\u001B[39m soup\u001B[38;5;241m.\u001B[39mfind(\u001B[38;5;124m'\u001B[39m\u001B[38;5;124ma\u001B[39m\u001B[38;5;124m'\u001B[39m, class_\u001B[38;5;241m=\u001B[39m\u001B[38;5;124m'\u001B[39m\u001B[38;5;124mitem_title__FH7AS text-reset me-2\u001B[39m\u001B[38;5;124m'\u001B[39m)\u001B[38;5;241m.\u001B[39mget_text()\n",
      "\u001B[0;31mNameError\u001B[0m: name 'requests' is not defined"
     ]
    }
   ],
   "source": [
    "url_posts = 'https://stacker.news/items/1'\n",
    "response = requests.get(url_posts)\n",
    "soup = BeautifulSoup(response.text, 'html.parser')\n",
    "\n",
    "titolo = soup.find('a', class_='item_title__FH7AS text-reset me-2').get_text()\n",
    "banner = soup.find('div', class_='item_other__MjgP3')\n",
    "\n",
    "#post_stack = banner.find('span').text\n",
    "\n",
    "banner_data = []\n",
    "\n",
    "for i in banner.find_all('span'):\n",
    "    banner_data.append(i.text)\n",
    "    \n",
    "#n_comments = soup.find('a', class_='text-reset position-relative').get_text()\n",
    "#nym_creator = banner.find('a', ) \n",
    "\n",
    "print([titolo, banner_data])\n"
   ],
   "metadata": {
    "collapsed": false,
    "ExecuteTime": {
     "end_time": "2023-10-05T05:54:44.493652840Z",
     "start_time": "2023-10-05T05:54:44.292440766Z"
    }
   },
   "id": "83f77a4a0af8c262"
  },
  {
   "cell_type": "markdown",
   "source": [
    "## Collect timestamp of post creation\n",
    "The following code scans the parsed html response looking for an `<a>` tag that has an attribute `title` matching the timestamp format in the website.\n",
    "Then it extracts it and turns it into a datetime object. "
   ],
   "metadata": {
    "collapsed": false
   },
   "id": "3ed3193d82a84bf8"
  },
  {
   "cell_type": "code",
   "execution_count": 13,
   "outputs": [
    {
     "name": "stdout",
     "output_type": "stream",
     "text": [
      "2021-06-11 19:26:02.662000\n"
     ]
    }
   ],
   "source": [
    "# url_posts = 'https://stacker.news/items/1'\n",
    "# response = requests.get(url_posts)\n",
    "# soup = BeautifulSoup(response.text, 'html.parser')\n",
    "# \n",
    "# timestamp_pattern = re.compile(r'(\\d{4}-\\d{2}-\\d{2}T\\d{2}:\\d{2}:\\d{2}\\.\\d{3}Z)')\n",
    "# original_format = \"%Y-%m-%dT%H:%M:%S.%fZ\"\n",
    "# desired_format = \"%Y-%m-%d %H:%M:%S\"\n",
    "# \n",
    "# timestamp_element = soup.find('a', attrs={'title': timestamp_pattern})\n",
    "# timestamp_match = timestamp_pattern.search(timestamp_element['title']).group(1)\n",
    "# \n",
    "# timestamp_datetime = datetime.strptime(timestamp_match, original_format)\n",
    "# \n",
    "# print(timestamp_datetime)\n"
   ],
   "metadata": {
    "collapsed": false,
    "ExecuteTime": {
     "end_time": "2023-10-05T06:18:18.829062480Z",
     "start_time": "2023-10-05T06:18:16.453470053Z"
    }
   },
   "id": "a4979c26e0683acb"
  },
  {
   "cell_type": "code",
   "execution_count": 22,
   "outputs": [],
   "source": [
    "NA = None\n",
    "\n",
    "def get_item_page(item_code):  # TODO this function could be bundled-in the function scraping_user.get_profile()\n",
    "    \n",
    "    # Provided a string returns a bs4.BeautifulSoup object \n",
    "    try:\n",
    "        url_posts = f'https://stacker.news/items/{item_code}'\n",
    "        response = requests.get(url_posts)\n",
    "        soup = BeautifulSoup(response.text, 'html.parser')\n",
    "        return soup\n",
    "    except:\n",
    "        return NA\n",
    "        \n",
    "\n",
    "## Function that returns the datetime given an html file where a timestamp is present\n",
    "def get_timedate(item_code):\n",
    "    \n",
    "    # Provided a string returns a datetime.datetime object\n",
    "    page = get_item_page(item_code)\n",
    "    try:\n",
    "        timestamp_pattern = re.compile(r'(\\d{4}-\\d{2}-\\d{2}T\\d{2}:\\d{2}:\\d{2}\\.\\d{3}Z)')\n",
    "        original_format = \"%Y-%m-%dT%H:%M:%S.%fZ\"\n",
    "        \n",
    "        timestamp_element = page.find('a', attrs={'title': timestamp_pattern})\n",
    "        timestamp_match = timestamp_pattern.search(timestamp_element['title']).group(1)\n",
    "        timestamp_datetime = datetime.strptime(timestamp_match, original_format)\n",
    "        return timestamp_datetime\n",
    "    except:\n",
    "        return NA\n",
    "            "
   ],
   "metadata": {
    "collapsed": false,
    "ExecuteTime": {
     "end_time": "2023-10-05T06:21:04.438635292Z",
     "start_time": "2023-10-05T06:21:04.431063324Z"
    }
   },
   "id": "dc6b227b6590e92e"
  },
  {
   "cell_type": "markdown",
   "source": [
    "# Scraping Items of stacker.news"
   ],
   "metadata": {
    "collapsed": false
   },
   "id": "b0413ab8459c1374"
  },
  {
   "cell_type": "code",
   "execution_count": 5,
   "outputs": [
    {
     "name": "stderr",
     "output_type": "stream",
     "text": [
      "/tmp/ipykernel_13131/564396278.py:60: FutureWarning: Setting an item of incompatible dtype is deprecated and will raise in a future error of pandas. Value '' has dtype incompatible with float64, please explicitly cast to a compatible dtype first.\n",
      "  df.at[index, 'contenuto'] = contenuto\n"
     ]
    },
    {
     "name": "stdout",
     "output_type": "stream",
     "text": [
      "The time of execution of above program is : 12.514706373214722 s\n"
     ]
    },
    {
     "data": {
      "text/plain": "                                         titolo numero commenti    boost  \\\n0        El Salvador Makes Bitcoin Legal Tender     13 comments  4 boost   \n1                  stacker news soft launch AMA     30 comments      NaN   \n7  The Lightning Conference 2019: Alex Bosworth      2 comments      NaN   \n\n       sats               betha  \\\n0  603 sats  @k00b  11 Jun 2021   \n1    2 sats  @k00b  11 Jun 2021   \n7    0 sats  @k00b  11 Jun 2021   \n\n                                          commentors  \\\n0  [/k00b, /ln123, /k00b, /k00b, /OneOneSeven, /e...   \n1  [/k00b, /sha256, /k00b, /banana, /utxoclub, /k...   \n7         [/k00b, /k00b, /k00b, /k00b, /kr, /ekzyis]   \n\n                                           contenuto  \n0                                                     \n1  Figured I'd make a place to raise questions ab...  \n7                                                     ",
      "text/html": "<div>\n<style scoped>\n    .dataframe tbody tr th:only-of-type {\n        vertical-align: middle;\n    }\n\n    .dataframe tbody tr th {\n        vertical-align: top;\n    }\n\n    .dataframe thead th {\n        text-align: right;\n    }\n</style>\n<table border=\"1\" class=\"dataframe\">\n  <thead>\n    <tr style=\"text-align: right;\">\n      <th></th>\n      <th>titolo</th>\n      <th>numero commenti</th>\n      <th>boost</th>\n      <th>sats</th>\n      <th>betha</th>\n      <th>commentors</th>\n      <th>contenuto</th>\n    </tr>\n  </thead>\n  <tbody>\n    <tr>\n      <th>0</th>\n      <td>El Salvador Makes Bitcoin Legal Tender</td>\n      <td>13 comments</td>\n      <td>4 boost</td>\n      <td>603 sats</td>\n      <td>@k00b  11 Jun 2021</td>\n      <td>[/k00b, /ln123, /k00b, /k00b, /OneOneSeven, /e...</td>\n      <td></td>\n    </tr>\n    <tr>\n      <th>1</th>\n      <td>stacker news soft launch AMA</td>\n      <td>30 comments</td>\n      <td>NaN</td>\n      <td>2 sats</td>\n      <td>@k00b  11 Jun 2021</td>\n      <td>[/k00b, /sha256, /k00b, /banana, /utxoclub, /k...</td>\n      <td>Figured I'd make a place to raise questions ab...</td>\n    </tr>\n    <tr>\n      <th>7</th>\n      <td>The Lightning Conference 2019: Alex Bosworth</td>\n      <td>2 comments</td>\n      <td>NaN</td>\n      <td>0 sats</td>\n      <td>@k00b  11 Jun 2021</td>\n      <td>[/k00b, /k00b, /k00b, /k00b, /kr, /ekzyis]</td>\n      <td></td>\n    </tr>\n  </tbody>\n</table>\n</div>"
     },
     "execution_count": 5,
     "metadata": {},
     "output_type": "execute_result"
    }
   ],
   "source": [
    "df = pd.DataFrame(columns=['titolo', 'numero commenti', 'boost', 'sats', 'betha',\"commentors\"])\n",
    "n_posts = range(1,20)\n",
    "\n",
    "start = time.time()\n",
    "\n",
    "for number in n_posts:\n",
    "    # print(\"Doing\", number)\n",
    "    url_posts = f'https://stacker.news/items/{number}'\n",
    "    response = requests.get(url_posts)\n",
    "    soup = BeautifulSoup(response.text, 'html.parser')\n",
    "\n",
    "    try:\n",
    "        contenuto=soup.find('div', class_=\"item_fullItemContainer__ZAYtZ\").get_text()\n",
    "    except:\n",
    "        continue\n",
    "    try:\n",
    "        titolo = soup.find('a', class_='item_title__FH7AS text-reset me-2').get_text()\n",
    "    except:\n",
    "        continue\n",
    "    try:\n",
    "        banner = soup.find('div', class_='item_other__MjgP3')\n",
    "    except:\n",
    "        continue\n",
    "    try:\n",
    "        commento = soup.find('a', class_='text-reset position-relative').get_text()\n",
    "    except:        \n",
    "        continue\n",
    "    try:\n",
    "        a_elements = soup.find_all('a')\n",
    "    except:\n",
    "        continue\n",
    "    \n",
    "    at_elements = []\n",
    "\n",
    "    for el in a_elements:\n",
    "        links = el.get_text()\n",
    "    \n",
    "        if links.startswith('@'):\n",
    "            at_elements.append(el)\n",
    "    \n",
    "    commentors_list=[]\n",
    "    for ind in range(0,len(at_elements)):\n",
    "        commentors_list.append(at_elements[ind][\"href\"])\n",
    "\n",
    "\n",
    "    banner_data = []\n",
    "    for i in banner.find_all('span'):\n",
    "        banner_data.append(i.text)\n",
    "    index=number-1\n",
    "    for b in banner_data:\n",
    "        if \"boost\" in b:\n",
    "            df.at[index, 'boost'] = b\n",
    "        if \"sats\" in b:\n",
    "            df.at[index, 'sats'] = b\n",
    "        if \"@\" in b:\n",
    "            df.at[index, 'betha'] = b   # TODO: insert the datetime extraction function\n",
    "\n",
    "    df.at[index, 'titolo'] = titolo\n",
    "    df.at[index, 'numero commenti'] = commento\n",
    "    df.at[index, 'contenuto'] = contenuto\n",
    "    df.at[index, 'commentors'] = commentors_list\n",
    "\n",
    "end = time.time()\n",
    "\n",
    "print(\"The time of execution of above program is :\",\n",
    "      (end-start), \"s\")\n",
    "\n",
    "df\n"
   ],
   "metadata": {
    "collapsed": false,
    "ExecuteTime": {
     "end_time": "2023-10-04T23:10:45.583426141Z",
     "start_time": "2023-10-04T23:10:33.053897889Z"
    }
   },
   "id": "dd47a5648c207ac9"
  },
  {
   "cell_type": "markdown",
   "source": [
    "# Scraping user profiles\n",
    "Users profiles are scraped starting from the list of users extracted by scraping all the items (posts+comments)\n",
    "The link to get the user profile is `https://stacker.news/$username$` "
   ],
   "metadata": {
    "collapsed": false
   },
   "id": "7771202dfaced9e6"
  },
  {
   "cell_type": "markdown",
   "source": [
    "## Modularize the code - user profile scraping\n",
    "Define functions to modularize and simplify the user profile scraping.\n",
    "The functions are defined in `user_modules/scraping_user.py` and have been tested with `tests/test_scraping_user.py`. To run the tests open a the terminal/CMD and run the script `tests/test_scraping_user.py` from there, running it from a JupyterNotebook could raise errors.\n",
    "The testing script tested every function in some corner cases (missing data/request error). "
   ],
   "metadata": {
    "collapsed": false
   },
   "id": "6e52500e0ab6223e"
  },
  {
   "cell_type": "markdown",
   "source": [
    "**From the following two approaches we can create the final script for scraping the user profiles**.\n",
    "The next step would be the creation of a function that loops through the user list and assigns to the rows in the dataframe the values returned from the functions defined in `user_modules/scraping_user.py`."
   ],
   "metadata": {
    "collapsed": false
   },
   "id": "efe3fde8a3810bc4"
  },
  {
   "cell_type": "code",
   "execution_count": 142,
   "outputs": [
    {
     "name": "stdout",
     "output_type": "stream",
     "text": [
      "123353\n",
      "53789\n",
      "357270\n",
      "181422\n",
      "1114441\n",
      "6427\n",
      "0\n",
      "50703\n",
      "164002\n",
      "1369008\n",
      "The average time of execution of the above program for one user is : 0.6400596380233765 s\n"
     ]
    }
   ],
   "source": [
    "# TODO: integrate this method into the general scraping script for profile scraping\n",
    "\n",
    "user_list = np.array(['Monotone',\n",
    "                      'TNStacker',\n",
    "                      'kale',\n",
    "                      'DiracDelta',\n",
    "                      'kr',\n",
    "                      'moscowTimeBot',\n",
    "                      'mpuels',\n",
    "                      'blockstream_official',\n",
    "                      'nym',\n",
    "                      'random_'\n",
    "                      ])\n",
    "                      \n",
    "start = time.time()\n",
    "\n",
    "for i in np.nditer(user_list):\n",
    "    print(su.get_total_stacked(i))\n",
    "    \n",
    "end = time.time()\n",
    "print(\"The average time of execution of the above program for one user is :\",\n",
    "      (end-start)/len(user_list), \"s\")"
   ],
   "metadata": {
    "collapsed": false,
    "ExecuteTime": {
     "end_time": "2023-10-04T22:44:21.423256306Z",
     "start_time": "2023-10-04T22:44:15.021083037Z"
    }
   },
   "id": "19462e10c12c6aed"
  },
  {
   "cell_type": "code",
   "execution_count": 145,
   "outputs": [
    {
     "name": "stdout",
     "output_type": "stream",
     "text": [
      "123353\n",
      "53789\n",
      "357270\n",
      "181422\n",
      "1114441\n",
      "6427\n",
      "0\n",
      "50703\n",
      "164002\n",
      "1369008\n",
      "The average time of execution of the above program for one user is : 0.691546106338501 s\n"
     ]
    }
   ],
   "source": [
    "user_list = ['Monotone',\n",
    "             'TNStacker',\n",
    "             'kale',\n",
    "             'DiracDelta',\n",
    "             'kr',\n",
    "             'moscowTimeBot',\n",
    "             'mpuels',\n",
    "             'blockstream_official',\n",
    "             'nym',\n",
    "             'random_',\n",
    "             ]\n",
    "                      \n",
    "start = time.time()\n",
    "\n",
    "for i in user_list:\n",
    "    print(su.get_total_stacked(i))\n",
    "    \n",
    "end = time.time()\n",
    "print(\"The average time of execution of the above program for one user is :\",\n",
    "      (end-start)/len(user_list), \"s\")"
   ],
   "metadata": {
    "collapsed": false,
    "ExecuteTime": {
     "end_time": "2023-10-04T22:45:42.499201556Z",
     "start_time": "2023-10-04T22:45:35.576494260Z"
    }
   },
   "id": "930f937ca7b5188f"
  }
 ],
 "metadata": {
  "kernelspec": {
   "display_name": "Python 3",
   "language": "python",
   "name": "python3"
  },
  "language_info": {
   "codemirror_mode": {
    "name": "ipython",
    "version": 2
   },
   "file_extension": ".py",
   "mimetype": "text/x-python",
   "name": "python",
   "nbconvert_exporter": "python",
   "pygments_lexer": "ipython2",
   "version": "2.7.6"
  }
 },
 "nbformat": 4,
 "nbformat_minor": 5
}
