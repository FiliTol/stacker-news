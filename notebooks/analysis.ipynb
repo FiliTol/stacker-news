{
 "cells": [
  {
   "cell_type": "code",
   "execution_count": 5,
   "id": "initial_id",
   "metadata": {
    "collapsed": true,
    "ExecuteTime": {
     "end_time": "2023-10-04T19:21:57.537230932Z",
     "start_time": "2023-10-04T19:21:56.643258928Z"
    }
   },
   "outputs": [],
   "source": [
    "from bs4 import BeautifulSoup\n",
    "import requests as requests\n",
    "import time\n",
    "import re\n",
    "from datetime import datetime\n",
    "import pandas as pd\n",
    "import numpy as np"
   ]
  },
  {
   "cell_type": "code",
   "execution_count": 3,
   "outputs": [],
   "source": [
    "## Key variables valid for all the chuncks\n",
    "timestamp_pattern = re.compile(r'(\\d{4}-\\d{2}-\\d{2}T\\d{2}:\\d{2}:\\d{2}\\.\\d{3}Z)')\n",
    "original_format = \"%Y-%m-%dT%H:%M:%S.%fZ\"\n",
    "desired_format = \"%Y-%m-%d %H:%M:%S\"\n"
   ],
   "metadata": {
    "collapsed": false,
    "ExecuteTime": {
     "end_time": "2023-10-04T17:15:25.742446521Z",
     "start_time": "2023-10-04T17:15:25.734514740Z"
    }
   },
   "id": "43c8560280689a13"
  },
  {
   "cell_type": "markdown",
   "source": [
    "## Test chunck\n",
    "NB: need to solve the problem of some items not having a title (these are the comments). At the current time, I solved the problem with a `try - except`."
   ],
   "metadata": {
    "collapsed": false
   },
   "id": "9c0978c01a736aa8"
  },
  {
   "cell_type": "code",
   "execution_count": 4,
   "outputs": [],
   "source": [
    "titles = []\n",
    "\n",
    "start = time.time()\n",
    "\n",
    "for i in range(1,11):\n",
    "    \n",
    "    try:\n",
    "        url_posts = 'https://stacker.news/items/%d' % (i)\n",
    "        response = requests.get(url_posts)\n",
    "        soup = BeautifulSoup(response.text, 'html.parser')\n",
    "    \n",
    "        title = soup.find_all('a', class_='item_title__FH7AS text-reset me-2')\n",
    "        \n",
    "        for e in title:\n",
    "            titles.append(e.get_text())\n",
    "        \n",
    "    except:\n",
    "        continue\n",
    "\n",
    "end = time.time()\n",
    "\n",
    "print(\"The time of execution of above program is :\",\n",
    "      (end-start), \"s\")"
   ],
   "metadata": {
    "collapsed": false,
    "ExecuteTime": {
     "end_time": "2023-10-04T07:55:47.488266126Z",
     "start_time": "2023-10-04T07:55:40.108224898Z"
    }
   },
   "id": "c1b53dd5238f1a54"
  },
  {
   "cell_type": "markdown",
   "source": [
    "## Collect post header with all the related data"
   ],
   "metadata": {
    "collapsed": false
   },
   "id": "22c54d832a42cfb6"
  },
  {
   "cell_type": "code",
   "execution_count": 47,
   "outputs": [
    {
     "name": "stdout",
     "output_type": "stream",
     "text": [
      "['El Salvador Makes Bitcoin Legal Tender', ['603 sats', ' \\\\ ', '4 boost', ' \\\\ ', ' \\\\ ', '@k00b  11 Jun 2021', ' ', '', ' ', 'bitcoin', '']]\n"
     ]
    }
   ],
   "source": [
    "url_posts = 'https://stacker.news/items/1'\n",
    "response = requests.get(url_posts)\n",
    "soup = BeautifulSoup(response.text, 'html.parser')\n",
    "\n",
    "titolo = soup.find('a', class_='item_title__FH7AS text-reset me-2').get_text()\n",
    "banner = soup.find('div', class_='item_other__MjgP3')\n",
    "\n",
    "#post_stack = banner.find('span').text\n",
    "\n",
    "banner_data = []\n",
    "\n",
    "for i in banner.find_all('span'):\n",
    "    banner_data.append(i.text)\n",
    "    \n",
    "#n_comments = soup.find('a', class_='text-reset position-relative').get_text()\n",
    "#nym_creator = banner.find('a', ) \n",
    "\n",
    "print([titolo, banner_data])\n"
   ],
   "metadata": {
    "collapsed": false,
    "ExecuteTime": {
     "end_time": "2023-10-04T15:45:46.701773660Z",
     "start_time": "2023-10-04T15:45:45.275482782Z"
    }
   },
   "id": "83f77a4a0af8c262"
  },
  {
   "cell_type": "markdown",
   "source": [
    "## Collect timestamp of post creation\n",
    "The following code scans the parsed html response looking for an `<a>` tag that has an attribute `title` matching the timestamp format in the website.\n",
    "Then it extracts it and turns it into a datetime object. "
   ],
   "metadata": {
    "collapsed": false
   },
   "id": "3ed3193d82a84bf8"
  },
  {
   "cell_type": "code",
   "execution_count": 20,
   "outputs": [
    {
     "name": "stdout",
     "output_type": "stream",
     "text": [
      "2021-06-11 19:26:02.662000\n"
     ]
    }
   ],
   "source": [
    "url_posts = 'https://stacker.news/items/1'\n",
    "response = requests.get(url_posts)\n",
    "soup = BeautifulSoup(response.text, 'html.parser')\n",
    "\n",
    "timestamp_element = soup.find('a', attrs={'title': timestamp_pattern})\n",
    "timestamp_match = timestamp_pattern.search(timestamp_element['title']).group(1)\n",
    "\n",
    "timestamp_datetime = datetime.strptime(timestamp_match, original_format)\n",
    "\n",
    "print(timestamp_datetime)\n"
   ],
   "metadata": {
    "collapsed": false,
    "ExecuteTime": {
     "end_time": "2023-10-04T16:41:01.133921699Z",
     "start_time": "2023-10-04T16:41:00.085128832Z"
    }
   },
   "id": "a4979c26e0683acb"
  },
  {
   "cell_type": "markdown",
   "source": [
    "# Scraping Items of stacker.news"
   ],
   "metadata": {
    "collapsed": false
   },
   "id": "b0413ab8459c1374"
  },
  {
   "cell_type": "code",
   "execution_count": 7,
   "outputs": [
    {
     "name": "stdout",
     "output_type": "stream",
     "text": [
      "Doing 1\n"
     ]
    },
    {
     "name": "stderr",
     "output_type": "stream",
     "text": [
      "/tmp/ipykernel_2556/2015901663.py:40: FutureWarning: Setting an item of incompatible dtype is deprecated and will raise in a future error of pandas. Value '' has dtype incompatible with float64, please explicitly cast to a compatible dtype first.\n",
      "  df.at[index, 'contenuto'] = contenuto\n"
     ]
    },
    {
     "name": "stdout",
     "output_type": "stream",
     "text": [
      "Doing 2\n",
      "Doing 3\n",
      "Doing 4\n",
      "Doing 5\n",
      "Doing 6\n",
      "Doing 7\n",
      "Doing 8\n",
      "Doing 9\n",
      "Doing 10\n",
      "Doing 11\n",
      "Doing 12\n",
      "Doing 13\n",
      "Doing 14\n",
      "Doing 15\n",
      "Doing 16\n",
      "Doing 17\n",
      "Doing 18\n",
      "Doing 19\n"
     ]
    },
    {
     "data": {
      "text/plain": "                                         titolo numero commenti    boost  \\\n0        El Salvador Makes Bitcoin Legal Tender     13 comments  4 boost   \n1                  stacker news soft launch AMA     30 comments      NaN   \n7  The Lightning Conference 2019: Alex Bosworth      2 comments      NaN   \n\n       sats                                          contenuto author  \\\n0  603 sats                                                      k00b   \n1    2 sats  Figured I'd make a place to raise questions ab...   k00b   \n7    0 sats                                                      k00b   \n\n          data  \n0  11 Jun 2021  \n1  11 Jun 2021  \n7  11 Jun 2021  ",
      "text/html": "<div>\n<style scoped>\n    .dataframe tbody tr th:only-of-type {\n        vertical-align: middle;\n    }\n\n    .dataframe tbody tr th {\n        vertical-align: top;\n    }\n\n    .dataframe thead th {\n        text-align: right;\n    }\n</style>\n<table border=\"1\" class=\"dataframe\">\n  <thead>\n    <tr style=\"text-align: right;\">\n      <th></th>\n      <th>titolo</th>\n      <th>numero commenti</th>\n      <th>boost</th>\n      <th>sats</th>\n      <th>contenuto</th>\n      <th>author</th>\n      <th>data</th>\n    </tr>\n  </thead>\n  <tbody>\n    <tr>\n      <th>0</th>\n      <td>El Salvador Makes Bitcoin Legal Tender</td>\n      <td>13 comments</td>\n      <td>4 boost</td>\n      <td>603 sats</td>\n      <td></td>\n      <td>k00b</td>\n      <td>11 Jun 2021</td>\n    </tr>\n    <tr>\n      <th>1</th>\n      <td>stacker news soft launch AMA</td>\n      <td>30 comments</td>\n      <td>NaN</td>\n      <td>2 sats</td>\n      <td>Figured I'd make a place to raise questions ab...</td>\n      <td>k00b</td>\n      <td>11 Jun 2021</td>\n    </tr>\n    <tr>\n      <th>7</th>\n      <td>The Lightning Conference 2019: Alex Bosworth</td>\n      <td>2 comments</td>\n      <td>NaN</td>\n      <td>0 sats</td>\n      <td></td>\n      <td>k00b</td>\n      <td>11 Jun 2021</td>\n    </tr>\n  </tbody>\n</table>\n</div>"
     },
     "execution_count": 7,
     "metadata": {},
     "output_type": "execute_result"
    }
   ],
   "source": [
    "df = pd.DataFrame(columns=['titolo', 'numero commenti', 'boost', 'sats', 'betha'])\n",
    "n_posts = range(1,20)\n",
    "\n",
    "for number in n_posts:\n",
    "    print(\"Doing\", number)\n",
    "    url_posts = f'https://stacker.news/items/{number}'\n",
    "    response = requests.get(url_posts)\n",
    "    soup = BeautifulSoup(response.text, 'html.parser')\n",
    "    try:\n",
    "        contenuto=soup.find('div', class_=\"item_fullItemContainer__ZAYtZ\").get_text()\n",
    "    except:\n",
    "        continue\n",
    "    try:\n",
    "        titolo = soup.find('a', class_='item_title__FH7AS text-reset me-2').get_text()\n",
    "    except:\n",
    "        continue\n",
    "    try:\n",
    "        banner = soup.find('div', class_='item_other__MjgP3')\n",
    "    except:\n",
    "        continue\n",
    "    try:\n",
    "        commento = soup.find('a', class_='text-reset position-relative').get_text()\n",
    "    except:        \n",
    "        continue\n",
    "\n",
    "    banner_data = []\n",
    "    for i in banner.find_all('span'):\n",
    "        banner_data.append(i.text)\n",
    "    index=number-1\n",
    "    for b in banner_data:\n",
    "        if \"boost\" in b:\n",
    "            df.at[index, 'boost'] = b\n",
    "        if \"sats\" in b:\n",
    "            df.at[index, 'sats'] = b\n",
    "        if \"@\" in b:\n",
    "            df.at[index, 'betha'] = b\n",
    "\n",
    "    df.at[index, 'titolo'] = titolo\n",
    "    df.at[index, 'numero commenti'] = commento\n",
    "    df.at[index, 'contenuto'] = contenuto\n",
    "\n",
    "df['author'] = df['betha'].str.extract(r'@(\\w+)')\n",
    "df['data'] = df['betha'].str.extract(r'(\\d+\\s\\w+\\s\\d+)')\n",
    "df.drop('betha', axis=1, inplace=True)\n",
    "\n",
    "df\n"
   ],
   "metadata": {
    "collapsed": false,
    "ExecuteTime": {
     "end_time": "2023-10-04T19:23:02.843857304Z",
     "start_time": "2023-10-04T19:22:36.570460482Z"
    }
   },
   "id": "dd47a5648c207ac9"
  },
  {
   "cell_type": "markdown",
   "source": [
    "# Scraping user profiles\n",
    "Users profiles are scraped starting from the list of users extracted by scraping all the items (posts+comments)\n",
    "The link to get the user profile is `https://stacker.news/$username$` "
   ],
   "metadata": {
    "collapsed": false
   },
   "id": "7771202dfaced9e6"
  },
  {
   "cell_type": "code",
   "execution_count": 106,
   "outputs": [
    {
     "name": "stdout",
     "output_type": "stream",
     "text": [
      "None\n"
     ]
    }
   ],
   "source": [
    "## Test user - the creator of stacker.news\n",
    "# \n",
    "name = 'ppp'\n",
    "\n",
    "url_posts = f'https://stacker.news/{name}'\n",
    "response = requests.get(url_posts)\n",
    "soup = BeautifulSoup(response.text, 'html.parser')\n",
    "\n",
    "if str(response)=='<Response [404]>':\n",
    "    print(None)\n",
    "\n",
    "\n",
    "# # This could became a function\n",
    "# nym_tot_stacked = soup.find('div', class_='mb-2 ms-0 ms-sm-1 user-header_username__bqOV1 text-success').get_text()\n",
    "# regex_sats = r'[^\\d]+'\n",
    "# nym_tot_stacked = int(re.sub(regex_sats, '', nym_tot_stacked))\n",
    "\n",
    "# # Nym address\n",
    "# nym_lnaddress = soup.find('button', class_='fw-bold ms-0 btn btn-primary', type='button').get_text()\n",
    "\n",
    "# # Stacking since -> first user appearance (measured by the first item he/she created)\n",
    "# # We need to decide the datatype for this index -> string is better\n",
    "# nym_first_item = soup.find('a', class_='ms-1').get_text()[1:]\n",
    "\n",
    "# # Longest cowboy hat streak (README.md for cowboy-hat meaning)\n",
    "# # This could became a function\n",
    "# nym_ch_streak = soup.find_all('small', class_='text-muted d-flex-inline')[1].text\n",
    "# regex_ch = r'[^\\d]+'\n",
    "# nym_ch_streak = int(re.sub(regex_ch, '', nym_ch_streak))\n",
    "\n",
    "# # Total number of Items created by the user\n",
    "# nym_tot_items = soup.find('a', class_='nav-link', href=f'/{name}/all').get_text()\n",
    "# regex_nym_items = r' items\\b'\n",
    "# nym_tot_items = int(re.sub(regex_nym_items, '', nym_tot_items))\n",
    "\n",
    "#print([name, nym_tot_stacked, nym_lnaddress, nym_first_item, nym_ch_streak, nym_tot_items])\n"
   ],
   "metadata": {
    "collapsed": false,
    "ExecuteTime": {
     "end_time": "2023-10-04T21:28:43.706040495Z",
     "start_time": "2023-10-04T21:28:42.553487831Z"
    }
   },
   "id": "15d37cfa68a482fe"
  },
  {
   "cell_type": "markdown",
   "source": [
    "## Modularize the code - user profile scraping\n",
    "Define functions to modularize and simplify the user profile scraping"
   ],
   "metadata": {
    "collapsed": false
   },
   "id": "6e52500e0ab6223e"
  },
  {
   "cell_type": "code",
   "execution_count": 126,
   "outputs": [],
   "source": [
    "## Fixed value to be returned for missing values or request errors\n",
    "NA = np.nan\n",
    "\n",
    "## Function that returns the webpage where the user profile is\n",
    "def get_profile(name):\n",
    "    \n",
    "    try:\n",
    "        # Provided a string returns a bs4.BeautifulSoup object\n",
    "        url_posts = f'https://stacker.news/{name}'\n",
    "        response = requests.get(url_posts)\n",
    "        response.raise_for_status()\n",
    "        soup = BeautifulSoup(response.text, 'html.parser')\n",
    "        return soup\n",
    "    except:\n",
    "        return NA\n",
    "        \n",
    "\n",
    "## Function that returns the total amount of sats stacked by the user\n",
    "def get_total_stacked(name):\n",
    "    \n",
    "    # Provided a string returns an integer\n",
    "    page = get_profile(name)\n",
    "    try:\n",
    "        nym_tot_stacked = page.find('div', class_='mb-2 ms-0 ms-sm-1 user-header_username__bqOV1 text-success').get_text()\n",
    "        regex_sats = r'[^\\d]+'\n",
    "        nym_tot_stacked = int(re.sub(regex_sats, '', nym_tot_stacked))\n",
    "        return nym_tot_stacked \n",
    "    except:\n",
    "        return NA\n",
    "\n",
    "\n",
    "## Function that returns the first user appearance (measured by the code of the first item created)\n",
    "def get_stacking_since(name):\n",
    "    \n",
    "    # Provided a string returns a string\n",
    "    page = get_profile(name)\n",
    "    try:\n",
    "        nym_first_item = page.find('a', class_='ms-1').get_text()[1:]\n",
    "        return nym_first_item\n",
    "    except:\n",
    "        return NA\n",
    "\n",
    "\n",
    "## Function that returns the longest cowboy-hat streak\n",
    "## If a user tip 100 sats (or more) in a day it gets a cowboy hat for that day\n",
    "def get_cowboy_streak(name):\n",
    "    \n",
    "    # Provided a string returns an integer\n",
    "    page = get_profile(name)\n",
    "    try:\n",
    "        nym_ch_streak = page.find_all('small', class_='text-muted d-flex-inline')[1].text\n",
    "        regex_ch = r'[^\\d]+'\n",
    "        nym_ch_streak = int(re.sub(regex_ch, '', nym_ch_streak))\n",
    "        return nym_ch_streak\n",
    "    except:\n",
    "        return NA\n",
    "\n",
    "\n",
    "## Function that returns the total number of Items created by the user\n",
    "def get_total_items(name):\n",
    "    \n",
    "    # Provided a string returns an integer\n",
    "    page = get_profile(name)\n",
    "    try:\n",
    "        nym_tot_items = page.find('a', class_='nav-link', href=f'/{name}/all').get_text()\n",
    "        regex_nym_items = r' items\\b'\n",
    "        nym_tot_items = int(re.sub(regex_nym_items, '', nym_tot_items))\n",
    "        return nym_tot_items\n",
    "    except:\n",
    "        return NA\n"
   ],
   "metadata": {
    "collapsed": false,
    "ExecuteTime": {
     "end_time": "2023-10-04T21:39:26.072235563Z",
     "start_time": "2023-10-04T21:39:26.052273483Z"
    }
   },
   "id": "568cfc8c8523ea10"
  },
  {
   "cell_type": "markdown",
   "source": [
    "### Testing functions for code modularization\n",
    "There are a few corner cases to test"
   ],
   "metadata": {
    "collapsed": false
   },
   "id": "d78a5e3d57f6d47d"
  },
  {
   "cell_type": "code",
   "execution_count": 131,
   "outputs": [
    {
     "name": "stderr",
     "output_type": "stream",
     "text": [
      "E\n",
      "======================================================================\n",
      "ERROR: /home/filippo/ (unittest.loader._FailedTest./home/filippo/)\n",
      "----------------------------------------------------------------------\n",
      "AttributeError: module '__main__' has no attribute '/home/filippo/'\n",
      "\n",
      "----------------------------------------------------------------------\n",
      "Ran 1 test in 0.001s\n",
      "\n",
      "FAILED (errors=1)\n"
     ]
    },
    {
     "ename": "SystemExit",
     "evalue": "True",
     "output_type": "error",
     "traceback": [
      "An exception has occurred, use %tb to see the full traceback.\n",
      "\u001B[0;31mSystemExit\u001B[0m\u001B[0;31m:\u001B[0m True\n"
     ]
    },
    {
     "name": "stderr",
     "output_type": "stream",
     "text": [
      "/home/filippo/repositories/stacker-news/venv/lib/python3.11/site-packages/IPython/core/interactiveshell.py:3534: UserWarning: To exit: use 'exit', 'quit', or Ctrl-D.\n",
      "  warn(\"To exit: use 'exit', 'quit', or Ctrl-D.\", stacklevel=1)\n"
     ]
    }
   ],
   "source": [
    "import unittest\n",
    "import numpy as np\n",
    "from bs4 import BeautifulSoup\n",
    "\n",
    "# # Import your functions here\n",
    "# from your_module import (\n",
    "#     get_profile,\n",
    "#     get_total_stacked,\n",
    "#     get_stacking_since,\n",
    "#     get_cowboy_streak,\n",
    "#     get_total_items,\n",
    "# )\n",
    "\n",
    "NA = np.nan\n",
    "\n",
    "# Create a test class\n",
    "class TestUserProfileFunctions(unittest.TestCase):\n",
    "\n",
    "    def test_get_profile(self):\n",
    "        # Test a valid profile\n",
    "        profile = get_profile(\"valid_username\")\n",
    "        self.assertIsInstance(profile, BeautifulSoup)\n",
    "\n",
    "        # Test an invalid profile\n",
    "        invalid_profile = get_profile(\"invalid_username\")\n",
    "        self.assertEqual(invalid_profile, NA)\n",
    "\n",
    "    def test_get_total_stacked(self):\n",
    "        # Test a valid profile with total stacked\n",
    "        total_stacked = get_total_stacked(\"valid_username_with_total_stacked\")\n",
    "        self.assertIsInstance(total_stacked, int)\n",
    "\n",
    "        # Test a valid profile without total stacked\n",
    "        total_stacked_missing = get_total_stacked(\"valid_username_without_total_stacked\")\n",
    "        self.assertEqual(total_stacked_missing, NA)\n",
    "\n",
    "        # Test an invalid profile\n",
    "        invalid_profile = get_total_stacked(\"invalid_username\")\n",
    "        self.assertEqual(invalid_profile, NA)\n",
    "\n",
    "    def test_get_stacking_since(self):\n",
    "        # Test a valid profile with stacking since date\n",
    "        stacking_since = get_stacking_since(\"valid_username_with_stacking_since\")\n",
    "        self.assertIsInstance(stacking_since, str)\n",
    "\n",
    "        # Test a valid profile without stacking since date\n",
    "        stacking_since_missing = get_stacking_since(\"valid_username_without_stacking_since\")\n",
    "        self.assertEqual(stacking_since_missing, NA)\n",
    "\n",
    "        # Test an invalid profile\n",
    "        invalid_profile = get_stacking_since(\"invalid_username\")\n",
    "        self.assertEqual(invalid_profile, NA)\n",
    "\n",
    "    def test_get_cowboy_streak(self):\n",
    "        # Test a valid profile with cowboy streak\n",
    "        cowboy_streak = get_cowboy_streak(\"valid_username_with_cowboy_streak\")\n",
    "        self.assertIsInstance(cowboy_streak, int)\n",
    "\n",
    "        # Test a valid profile without cowboy streak\n",
    "        cowboy_streak_missing = get_cowboy_streak(\"valid_username_without_cowboy_streak\")\n",
    "        self.assertEqual(cowboy_streak_missing, NA)\n",
    "\n",
    "        # Test an invalid profile\n",
    "        invalid_profile = get_cowboy_streak(\"invalid_username\")\n",
    "        self.assertEqual(invalid_profile, NA)\n",
    "\n",
    "    def test_get_total_items(self):\n",
    "        # Test a valid profile with total items\n",
    "        total_items = get_total_items(\"valid_username_with_total_items\")\n",
    "        self.assertIsInstance(total_items, int)\n",
    "\n",
    "        # Test a valid profile without total items\n",
    "        total_items_missing = get_total_items(\"valid_username_without_total_items\")\n",
    "        self.assertEqual(total_items_missing, NA)\n",
    "\n",
    "        # Test an invalid profile\n",
    "        invalid_profile = get_total_items(\"invalid_username\")\n",
    "        self.assertEqual(invalid_profile, NA)\n",
    "\n",
    "\n",
    "if __name__ == \"__main__\":\n",
    "    unittest.main()\n"
   ],
   "metadata": {
    "collapsed": false,
    "ExecuteTime": {
     "end_time": "2023-10-04T21:42:37.118889467Z",
     "start_time": "2023-10-04T21:42:37.076061880Z"
    }
   },
   "id": "163eddb15d727ac2"
  }
 ],
 "metadata": {
  "kernelspec": {
   "display_name": "Python 3",
   "language": "python",
   "name": "python3"
  },
  "language_info": {
   "codemirror_mode": {
    "name": "ipython",
    "version": 2
   },
   "file_extension": ".py",
   "mimetype": "text/x-python",
   "name": "python",
   "nbconvert_exporter": "python",
   "pygments_lexer": "ipython2",
   "version": "2.7.6"
  }
 },
 "nbformat": 4,
 "nbformat_minor": 5
}
