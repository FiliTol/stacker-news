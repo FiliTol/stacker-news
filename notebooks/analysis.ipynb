{
 "cells": [
  {
   "cell_type": "code",
   "execution_count": 2,
   "id": "initial_id",
   "metadata": {
    "collapsed": true,
    "ExecuteTime": {
     "end_time": "2023-10-03T20:23:12.412657968Z",
     "start_time": "2023-10-03T20:23:12.202504816Z"
    }
   },
   "outputs": [],
   "source": [
    "from bs4 import BeautifulSoup\n",
    "import requests as requests"
   ]
  },
  {
   "cell_type": "code",
   "execution_count": 3,
   "outputs": [],
   "source": [
    "url = 'https://stacker.news/'\n",
    "response = requests.get(url)\n",
    "soup = BeautifulSoup(response.text, 'html.parser')"
   ],
   "metadata": {
    "collapsed": false,
    "ExecuteTime": {
     "end_time": "2023-10-03T20:23:16.314932410Z",
     "start_time": "2023-10-03T20:23:14.451358285Z"
    }
   },
   "id": "34cd722b124bbb45"
  },
  {
   "cell_type": "markdown",
   "source": [
    "**Collect posts**"
   ],
   "metadata": {
    "collapsed": false
   },
   "id": "2914a1c26a0a736"
  },
  {
   "cell_type": "code",
   "execution_count": 14,
   "outputs": [
    {
     "name": "stdout",
     "output_type": "stream",
     "text": [
      "Oshi Updates: Bitcoin-infused rewards and loyalty program features\n",
      "Announcing LND 0.17 beta: Tapping into Taproot 🥕⚡\n",
      "Coming Soon: An Easier Way To Bootstrap Your Node's Utxo Set\n",
      "Cut the crap and stop creating Bitcoin BS idols\n",
      "Why Should One Care About Rising US Bond Yields?\n",
      "Best setup for freshly orange pilled non-tech friend?\n",
      "Today 100 sats = 1฿\n",
      "Stacker Saloon\n",
      "Valor X Valor - Making the V4V model accessible for next 7.5% of the world\n",
      "NFL Survivor- Week 5\n",
      "Designed with ♥️ Stacker News Community\n",
      "BIP324 integration by sipa (merged)\n",
      "Release lnd v0.17.0-beta · lightningnetwork/lnd\n",
      "FixedFloat's Lightning and Litecoin Networks down for almost 2 weeks\n",
      "Bitcoin-Funded Reforestation Project (BTCPay)\n",
      "Parents, how do you raise BTC-proud children? \n",
      "Bitcoin hardware wishlist\n",
      "Learn Bitcoin\n",
      "Thank You SN team for the NEW rewards distribution system!\n",
      "Blockchain Analytics Firm Chainalysis Cuts 15% of Staff\n",
      "Stacker Sports- Meta Takeover- Day 91\n",
      "Mutiny Wallet: Self-hosting fixes this\n",
      "Oshi Updates: Bitcoin-infused rewards and loyalty program features\n",
      "Announcing LND 0.17 beta: Tapping into Taproot 🥕⚡\n",
      "Coming Soon: An Easier Way To Bootstrap Your Node's Utxo Set\n",
      "Cut the crap and stop creating Bitcoin BS idols\n",
      "Why Should One Care About Rising US Bond Yields?\n",
      "Best setup for freshly orange pilled non-tech friend?\n",
      "Today 100 sats = 1฿\n",
      "Stacker Saloon\n",
      "Valor X Valor - Making the V4V model accessible for next 7.5% of the world\n",
      "NFL Survivor- Week 5\n",
      "Designed with ♥️ Stacker News Community\n",
      "BIP324 integration by sipa (merged)\n",
      "Release lnd v0.17.0-beta · lightningnetwork/lnd\n",
      "FixedFloat's Lightning and Litecoin Networks down for almost 2 weeks\n",
      "Bitcoin-Funded Reforestation Project (BTCPay)\n",
      "Parents, how do you raise BTC-proud children? \n",
      "Bitcoin hardware wishlist\n",
      "Learn Bitcoin\n",
      "Thank You SN team for the NEW rewards distribution system!\n",
      "Blockchain Analytics Firm Chainalysis Cuts 15% of Staff\n",
      "Stacker Sports- Meta Takeover- Day 91\n",
      "Mutiny Wallet: Self-hosting fixes this\n",
      "Oshi Updates: Bitcoin-infused rewards and loyalty program features\n",
      "Announcing LND 0.17 beta: Tapping into Taproot 🥕⚡\n",
      "Coming Soon: An Easier Way To Bootstrap Your Node's Utxo Set\n",
      "Cut the crap and stop creating Bitcoin BS idols\n",
      "Why Should One Care About Rising US Bond Yields?\n",
      "Best setup for freshly orange pilled non-tech friend?\n",
      "Today 100 sats = 1฿\n",
      "Stacker Saloon\n",
      "Valor X Valor - Making the V4V model accessible for next 7.5% of the world\n",
      "NFL Survivor- Week 5\n",
      "Designed with ♥️ Stacker News Community\n",
      "BIP324 integration by sipa (merged)\n",
      "Release lnd v0.17.0-beta · lightningnetwork/lnd\n",
      "FixedFloat's Lightning and Litecoin Networks down for almost 2 weeks\n",
      "Bitcoin-Funded Reforestation Project (BTCPay)\n",
      "Parents, how do you raise BTC-proud children? \n",
      "Bitcoin hardware wishlist\n",
      "Learn Bitcoin\n",
      "Thank You SN team for the NEW rewards distribution system!\n",
      "Blockchain Analytics Firm Chainalysis Cuts 15% of Staff\n",
      "Stacker Sports- Meta Takeover- Day 91\n",
      "Mutiny Wallet: Self-hosting fixes this\n",
      "Oshi Updates: Bitcoin-infused rewards and loyalty program features\n",
      "Announcing LND 0.17 beta: Tapping into Taproot 🥕⚡\n",
      "Coming Soon: An Easier Way To Bootstrap Your Node's Utxo Set\n",
      "Cut the crap and stop creating Bitcoin BS idols\n",
      "Why Should One Care About Rising US Bond Yields?\n",
      "Best setup for freshly orange pilled non-tech friend?\n",
      "Today 100 sats = 1฿\n",
      "Stacker Saloon\n",
      "Valor X Valor - Making the V4V model accessible for next 7.5% of the world\n",
      "NFL Survivor- Week 5\n",
      "Designed with ♥️ Stacker News Community\n",
      "BIP324 integration by sipa (merged)\n",
      "Release lnd v0.17.0-beta · lightningnetwork/lnd\n",
      "FixedFloat's Lightning and Litecoin Networks down for almost 2 weeks\n",
      "Bitcoin-Funded Reforestation Project (BTCPay)\n",
      "Parents, how do you raise BTC-proud children? \n",
      "Bitcoin hardware wishlist\n",
      "Learn Bitcoin\n",
      "Thank You SN team for the NEW rewards distribution system!\n",
      "Blockchain Analytics Firm Chainalysis Cuts 15% of Staff\n",
      "Stacker Sports- Meta Takeover- Day 91\n",
      "Mutiny Wallet: Self-hosting fixes this\n",
      "Oshi Updates: Bitcoin-infused rewards and loyalty program features\n",
      "Announcing LND 0.17 beta: Tapping into Taproot 🥕⚡\n",
      "Coming Soon: An Easier Way To Bootstrap Your Node's Utxo Set\n",
      "Cut the crap and stop creating Bitcoin BS idols\n",
      "Why Should One Care About Rising US Bond Yields?\n",
      "Best setup for freshly orange pilled non-tech friend?\n",
      "Today 100 sats = 1฿\n",
      "Stacker Saloon\n",
      "Valor X Valor - Making the V4V model accessible for next 7.5% of the world\n",
      "NFL Survivor- Week 5\n",
      "Designed with ♥️ Stacker News Community\n",
      "BIP324 integration by sipa (merged)\n",
      "Release lnd v0.17.0-beta · lightningnetwork/lnd\n",
      "FixedFloat's Lightning and Litecoin Networks down for almost 2 weeks\n",
      "Bitcoin-Funded Reforestation Project (BTCPay)\n",
      "Parents, how do you raise BTC-proud children? \n",
      "Bitcoin hardware wishlist\n",
      "Learn Bitcoin\n",
      "Thank You SN team for the NEW rewards distribution system!\n",
      "Blockchain Analytics Firm Chainalysis Cuts 15% of Staff\n",
      "Stacker Sports- Meta Takeover- Day 91\n",
      "Mutiny Wallet: Self-hosting fixes this\n",
      "Oshi Updates: Bitcoin-infused rewards and loyalty program features\n",
      "Announcing LND 0.17 beta: Tapping into Taproot 🥕⚡\n",
      "Coming Soon: An Easier Way To Bootstrap Your Node's Utxo Set\n",
      "Cut the crap and stop creating Bitcoin BS idols\n",
      "Why Should One Care About Rising US Bond Yields?\n",
      "Best setup for freshly orange pilled non-tech friend?\n",
      "Today 100 sats = 1฿\n",
      "Stacker Saloon\n",
      "Valor X Valor - Making the V4V model accessible for next 7.5% of the world\n",
      "NFL Survivor- Week 5\n",
      "Designed with ♥️ Stacker News Community\n",
      "BIP324 integration by sipa (merged)\n",
      "Release lnd v0.17.0-beta · lightningnetwork/lnd\n",
      "FixedFloat's Lightning and Litecoin Networks down for almost 2 weeks\n",
      "Bitcoin-Funded Reforestation Project (BTCPay)\n",
      "Parents, how do you raise BTC-proud children? \n",
      "Bitcoin hardware wishlist\n",
      "Learn Bitcoin\n",
      "Thank You SN team for the NEW rewards distribution system!\n",
      "Blockchain Analytics Firm Chainalysis Cuts 15% of Staff\n",
      "Stacker Sports- Meta Takeover- Day 91\n",
      "Mutiny Wallet: Self-hosting fixes this\n",
      "Oshi Updates: Bitcoin-infused rewards and loyalty program features\n",
      "Announcing LND 0.17 beta: Tapping into Taproot 🥕⚡\n",
      "Coming Soon: An Easier Way To Bootstrap Your Node's Utxo Set\n",
      "Cut the crap and stop creating Bitcoin BS idols\n",
      "Why Should One Care About Rising US Bond Yields?\n",
      "Best setup for freshly orange pilled non-tech friend?\n",
      "Today 100 sats = 1฿\n",
      "Stacker Saloon\n",
      "Valor X Valor - Making the V4V model accessible for next 7.5% of the world\n",
      "NFL Survivor- Week 5\n",
      "Designed with ♥️ Stacker News Community\n",
      "BIP324 integration by sipa (merged)\n",
      "Release lnd v0.17.0-beta · lightningnetwork/lnd\n",
      "FixedFloat's Lightning and Litecoin Networks down for almost 2 weeks\n",
      "Bitcoin-Funded Reforestation Project (BTCPay)\n",
      "Parents, how do you raise BTC-proud children? \n",
      "Bitcoin hardware wishlist\n",
      "Learn Bitcoin\n",
      "Thank You SN team for the NEW rewards distribution system!\n",
      "Blockchain Analytics Firm Chainalysis Cuts 15% of Staff\n",
      "Stacker Sports- Meta Takeover- Day 91\n",
      "Mutiny Wallet: Self-hosting fixes this\n",
      "Oshi Updates: Bitcoin-infused rewards and loyalty program features\n",
      "Announcing LND 0.17 beta: Tapping into Taproot 🥕⚡\n",
      "Coming Soon: An Easier Way To Bootstrap Your Node's Utxo Set\n",
      "Cut the crap and stop creating Bitcoin BS idols\n",
      "Why Should One Care About Rising US Bond Yields?\n",
      "Best setup for freshly orange pilled non-tech friend?\n",
      "Today 100 sats = 1฿\n",
      "Stacker Saloon\n",
      "Valor X Valor - Making the V4V model accessible for next 7.5% of the world\n",
      "NFL Survivor- Week 5\n",
      "Designed with ♥️ Stacker News Community\n",
      "BIP324 integration by sipa (merged)\n",
      "Release lnd v0.17.0-beta · lightningnetwork/lnd\n",
      "FixedFloat's Lightning and Litecoin Networks down for almost 2 weeks\n",
      "Bitcoin-Funded Reforestation Project (BTCPay)\n",
      "Parents, how do you raise BTC-proud children? \n",
      "Bitcoin hardware wishlist\n",
      "Learn Bitcoin\n",
      "Thank You SN team for the NEW rewards distribution system!\n",
      "Blockchain Analytics Firm Chainalysis Cuts 15% of Staff\n",
      "Stacker Sports- Meta Takeover- Day 91\n",
      "Mutiny Wallet: Self-hosting fixes this\n",
      "Oshi Updates: Bitcoin-infused rewards and loyalty program features\n",
      "Announcing LND 0.17 beta: Tapping into Taproot 🥕⚡\n",
      "Coming Soon: An Easier Way To Bootstrap Your Node's Utxo Set\n",
      "Cut the crap and stop creating Bitcoin BS idols\n",
      "Why Should One Care About Rising US Bond Yields?\n",
      "Best setup for freshly orange pilled non-tech friend?\n",
      "Today 100 sats = 1฿\n",
      "Stacker Saloon\n",
      "Valor X Valor - Making the V4V model accessible for next 7.5% of the world\n",
      "NFL Survivor- Week 5\n",
      "Designed with ♥️ Stacker News Community\n",
      "BIP324 integration by sipa (merged)\n",
      "Release lnd v0.17.0-beta · lightningnetwork/lnd\n",
      "FixedFloat's Lightning and Litecoin Networks down for almost 2 weeks\n",
      "Bitcoin-Funded Reforestation Project (BTCPay)\n",
      "Parents, how do you raise BTC-proud children? \n",
      "Bitcoin hardware wishlist\n",
      "Learn Bitcoin\n",
      "Thank You SN team for the NEW rewards distribution system!\n",
      "Blockchain Analytics Firm Chainalysis Cuts 15% of Staff\n",
      "Stacker Sports- Meta Takeover- Day 91\n",
      "Mutiny Wallet: Self-hosting fixes this\n"
     ]
    }
   ],
   "source": [
    "for i in range(1,10):\n",
    "    \n",
    "    url_posts = 'https://stacker.news/items/%d' % (i)\n",
    "    title = soup.find_all('a', class_='item_title__FH7AS text-reset me-2')\n",
    "    \n",
    "    for e in title:\n",
    "        print(e.get_text())"
   ],
   "metadata": {
    "collapsed": false,
    "ExecuteTime": {
     "end_time": "2023-10-03T20:39:46.099250242Z",
     "start_time": "2023-10-03T20:39:46.054944504Z"
    }
   },
   "id": "6d3ee1aa458bfe32"
  },
  {
   "cell_type": "markdown",
   "source": [
    "**I have to insert a try except because some posts do not have a title**"
   ],
   "metadata": {
    "collapsed": false
   },
   "id": "9c0978c01a736aa8"
  },
  {
   "cell_type": "code",
   "execution_count": 24,
   "outputs": [],
   "source": [
    "titles = []\n",
    "\n",
    "for i in range(1, 100):\n",
    "    \n",
    "    try:\n",
    "        url_posts = 'https://stacker.news/items/%d' % (i)\n",
    "        response = requests.get(url_posts)\n",
    "        soup = BeautifulSoup(response.text, 'html.parser')\n",
    "    \n",
    "        title = soup.find_all('a', class_='item_title__FH7AS text-reset me-2')\n",
    "        \n",
    "        for e in title:\n",
    "            titles.append(e.get_text())\n",
    "        \n",
    "    except:\n",
    "        continue\n",
    "        "
   ],
   "metadata": {
    "collapsed": false,
    "ExecuteTime": {
     "end_time": "2023-10-03T20:54:15.755430149Z",
     "start_time": "2023-10-03T20:52:36.752723774Z"
    }
   },
   "id": "c1b53dd5238f1a54"
  },
  {
   "cell_type": "code",
   "execution_count": 27,
   "outputs": [
    {
     "data": {
      "text/plain": "['El Salvador Makes Bitcoin Legal Tender',\n 'stacker news soft launch AMA',\n 'The Lightning Conference 2019: Alex Bosworth',\n 'Pieter Wuille on the Taproot Genesis Story ',\n 'Next Bitcoin Soft-Fork ANYPREVOUT',\n 'Fedcoin is coming',\n \"Why Altcoins aren't copying Taproot. Bitcoin Tech Talk #244\",\n \"Bitrefill's Work in El Salvador\",\n '3 Ways El Salvador Has Changed Bitcoin Forever',\n 'Russell Okung asks the Nigerian government to adopt a Bitcoin standard',\n 'Bitcoin Optech Newsletter #152',\n 'The Colonial Pipeline hack - what actually happened',\n 'China Miner Shutdown Actually Being Enforced',\n 'Stranded Energy and Home Mining',\n 'Submarine swaps and Loops (Lightning Network) with Alex Bosworth',\n 'Stacks Blockchain Explanation ',\n 'Lightning Ubiquity and the United Nations of Bitcoin',\n 'Stephan Livera live tweets \"Bitcoin Mining Council\" meeting',\n 'Lightning Dev Kit',\n 'Texas Clarifies that State-chartered Banks can Custody Bitcoin',\n 'Taproot Derivation Support for Descriptors',\n 'Removing tor v2 support from Bitcoin Core',\n 'Inconsistent BIP32 Derivations',\n 'c-lightning channel upgrade support',\n '#bitcoin-core-dev irc moves to libera.chat',\n 'blockchain.com wallet (finally) supports native segwit',\n 'Blinding A Seed Using Secret BIP32 Paths',\n 'Faster Blockchain Validation with Utreexo Accumulators',\n 'Improvement on the current block building algorithm',\n 'Plebfi Austin',\n 'BIP300 gains steam!',\n 'Lightning Labs lnd 0.13-beta released!',\n 'World Bank must accept Bitcoin payment from El Salvador',\n 'A repository of open Bitcoin research problems',\n 'Here’s what’s happening to bitcoin mining in Iran',\n 'Over 1,512 bitcoin are now locked up in Lightning channels',\n 'Bitcoin and the Illusion of Reality',\n \"Sen. Cynthia Lummis: Why I'm All In on Bitcoin\",\n 'Ethiopia and Bitcoin',\n \"China's Bitcoin miners could be headed to Texas\",\n 'Microstrategy now holds over 105,000 Bitcoins',\n 'Russell O’Connor on soft fork activation methods',\n 'Store a message forever on the Bitcoin blockchain',\n 'A from-scratch tour of Bitcoin in Python',\n 'Bitcoin Optech newsletter #154',\n 'Andrew Poelstra intro to Miniscript',\n 'Fighting Monetary Colonization with Open Source Code',\n \"Lightning Builder's Guide: Understanding Liquidity\",\n 'Why El Salvador Made Bitcoin Legal Tender with President Nayib Bukele',\n 'Romanian man believed to hold 100k Bitcoin dies tragicly']"
     },
     "execution_count": 27,
     "metadata": {},
     "output_type": "execute_result"
    }
   ],
   "source": [
    "titles"
   ],
   "metadata": {
    "collapsed": false,
    "ExecuteTime": {
     "end_time": "2023-10-03T20:55:00.713903383Z",
     "start_time": "2023-10-03T20:55:00.701480280Z"
    }
   },
   "id": "230320972149100d"
  }
 ],
 "metadata": {
  "kernelspec": {
   "display_name": "Python 3",
   "language": "python",
   "name": "python3"
  },
  "language_info": {
   "codemirror_mode": {
    "name": "ipython",
    "version": 2
   },
   "file_extension": ".py",
   "mimetype": "text/x-python",
   "name": "python",
   "nbconvert_exporter": "python",
   "pygments_lexer": "ipython2",
   "version": "2.7.6"
  }
 },
 "nbformat": 4,
 "nbformat_minor": 5
}
