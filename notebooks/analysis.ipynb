{
 "cells": [
  {
   "cell_type": "code",
   "execution_count": 8,
   "id": "initial_id",
   "metadata": {
    "collapsed": true,
    "ExecuteTime": {
     "end_time": "2023-10-03T16:19:02.677585497Z",
     "start_time": "2023-10-03T16:19:02.607835076Z"
    }
   },
   "outputs": [],
   "source": [
    "from bs4 import BeautifulSoup\n",
    "import requests as requests"
   ]
  },
  {
   "cell_type": "code",
   "execution_count": 11,
   "outputs": [],
   "source": [
    "url = 'https://stacker.news/'\n",
    "response = requests.get(url)\n",
    "soup = BeautifulSoup(response.text, 'html.parser')"
   ],
   "metadata": {
    "collapsed": false,
    "ExecuteTime": {
     "end_time": "2023-10-03T16:20:09.064729598Z",
     "start_time": "2023-10-03T16:20:08.142560389Z"
    }
   },
   "id": "34cd722b124bbb45"
  },
  {
   "cell_type": "code",
   "execution_count": 16,
   "outputs": [],
   "source": [
    "articles = soup.find_all('a', class_='item_title__FH7AS text-reset me-2')\n",
    "\n",
    "retrieved = []\n",
    "\n",
    "for article in articles:\n",
    "    retrieved.append(article)"
   ],
   "metadata": {
    "collapsed": false,
    "ExecuteTime": {
     "end_time": "2023-10-03T16:23:45.766037790Z",
     "start_time": "2023-10-03T16:23:45.721727301Z"
    }
   },
   "id": "3092b8bbc7196725"
  },
  {
   "cell_type": "markdown",
   "source": [
    "Request to load the content behind the 'more' button\n",
    "\n",
    "Spotting AJAX requests in your browser's developer tools can be useful when you need to identify the specific request URL, headers, and payload used to fetch data dynamically on a web page. Here are the steps to spot an AJAX request:\n",
    "\n",
    "Open Developer Tools:\n",
    "\n",
    "Open your web browser (commonly used ones are Chrome, Firefox, or Edge), go to the web page you're interested in, and right-click on the page. Select \"Inspect\" or \"Inspect Element\" to open the developer tools.\n",
    "\n",
    "Navigate to the \"Network\" Tab:\n",
    "\n",
    "In the developer tools, look for a tab labeled \"Network.\" Click on it to access network-related information.\n",
    "\n",
    "Reload the Page or Trigger the AJAX Action:\n",
    "\n",
    "To capture AJAX requests, you can either:\n",
    "\n",
    "Reload the page: If the AJAX request is made as soon as the page loads.\n",
    "Trigger the AJAX action: If the request is triggered by a specific user action like clicking a button or scrolling.\n",
    "Look for XHR Requests:\n",
    "\n",
    "In the \"Network\" tab, you should see a list of network requests, including XHR (XMLHttpRequest) requests. XHR is a common method for making AJAX requests.\n",
    "\n",
    "Filter by XHR: You can often filter the requests to show only XHR requests. Look for a filter or tab labeled \"XHR\" or \"XMLHttpRequest.\"\n",
    "Identify the AJAX Request:\n",
    "\n",
    "Look through the list of XHR requests to find the one related to the data you want to extract. These requests typically have a name, method (GET or POST), URL, status, and various details.\n",
    "\n",
    "URL: This is the URL of the request. It's where the browser is fetching data from.\n",
    "Method: Indicates whether it's a GET or POST request.\n",
    "Headers: You can often expand the request to see the headers sent with the request.\n",
    "Response: You can also inspect the response data.\n",
    "Inspect Request Headers and Payload:\n",
    "\n",
    "Click on the AJAX request to open its details. Look at the request headers (e.g., Request Headers) to see the headers sent with the request. You might find important information there.\n",
    "\n",
    "If the request includes a payload (e.g., for POST requests), you can often find it under the \"Request Payload\" or \"Form Data\" tab. This payload can contain data like parameters or filters used in the request.\n",
    "\n",
    "Use the Request URL and Data:\n",
    "\n",
    "The URL of the AJAX request and any data it sends can be used in your web scraping code to simulate the same request and retrieve the desired data programmatically.\n",
    "\n",
    "Remember that the specific location and labeling of elements in the developer tools may vary slightly between different browsers, but the overall process remains the same. By inspecting network traffic, you can identify and replicate AJAX requests to scrape data from websites that use dynamic loading or updates."
   ],
   "metadata": {
    "collapsed": false
   },
   "id": "b69e82805c1dad71"
  },
  {
   "cell_type": "code",
   "execution_count": null,
   "outputs": [],
   "source": [
    "url = 'https://example.com/articles'\n",
    "headers = {\n",
    "    'User-Agent': 'Your User Agent Here',  # Add a user agent to mimic a web browser\n",
    "}\n",
    "\n",
    "# Function to fetch and parse content from the URL\n",
    "def fetch_and_parse(url):\n",
    "    response = requests.get(url, headers=headers)\n",
    "    soup = BeautifulSoup(response.text, 'html.parser')\n",
    "    return soup\n",
    "\n",
    "while True:\n",
    "    # Fetch the page\n",
    "    soup = fetch_and_parse(url)\n",
    "\n",
    "    # Extract and print the data (adjust this based on your page structure)\n",
    "    articles = soup.find_all('h2', class_='article-title')\n",
    "    for article in articles:\n",
    "        print(article.text)\n",
    "\n",
    "    # Check if there is a \"Load More\" button and its AJAX URL\n",
    "    load_more_button = soup.find('button', {'class': 'load-more-button'})\n",
    "    if not load_more_button:\n",
    "        break\n",
    "\n",
    "    # Extract the AJAX URL (replace with your actual URL)\n",
    "    ajax_url = 'https://example.com/load-more-url'\n",
    "\n",
    "    # Make the AJAX request to load more content\n",
    "    response = requests.get(ajax_url, headers=headers)\n",
    "\n",
    "    # Update the URL for the next iteration\n",
    "    url = 'https://example.com/articles?page=' + str(int(url.split('=')[-1]) + 1)\n",
    "\n",
    "    # Add a delay to avoid overloading the server (adjust as needed)\n",
    "    time.sleep(2)\n"
   ],
   "metadata": {
    "collapsed": false
   },
   "id": "a0bbe6a6db55e8f4"
  }
 ],
 "metadata": {
  "kernelspec": {
   "display_name": "Python 3",
   "language": "python",
   "name": "python3"
  },
  "language_info": {
   "codemirror_mode": {
    "name": "ipython",
    "version": 2
   },
   "file_extension": ".py",
   "mimetype": "text/x-python",
   "name": "python",
   "nbconvert_exporter": "python",
   "pygments_lexer": "ipython2",
   "version": "2.7.6"
  }
 },
 "nbformat": 4,
 "nbformat_minor": 5
}
