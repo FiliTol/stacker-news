{
 "cells": [
  {
   "cell_type": "code",
   "execution_count": 1,
   "id": "initial_id",
   "metadata": {
    "collapsed": true,
    "ExecuteTime": {
     "end_time": "2023-10-09T11:44:07.957486705Z",
     "start_time": "2023-10-09T11:44:07.416340758Z"
    }
   },
   "outputs": [],
   "source": [
    "from importlib import reload\n",
    "from bs4 import BeautifulSoup\n",
    "import requests as requests\n",
    "import time\n",
    "import re\n",
    "import pandas as pd\n",
    "import numpy as np\n",
    "from scripts import user\n",
    "from user_modules import scraping_item as si\n",
    "import csv"
   ]
  },
  {
   "cell_type": "markdown",
   "source": [
    "## Test chunck"
   ],
   "metadata": {
    "collapsed": false
   },
   "id": "9c0978c01a736aa8"
  },
  {
   "cell_type": "code",
   "execution_count": null,
   "outputs": [],
   "source": [
    "titles = []\n",
    "\n",
    "start = time.time()\n",
    "\n",
    "for i in range(1,5):\n",
    "    \n",
    "    try:\n",
    "        url_posts = 'https://stacker.news/items/%d' % (i)\n",
    "        response = requests.get(url_posts)\n",
    "        soup = BeautifulSoup(response.text, 'html.parser')\n",
    "    \n",
    "        title = soup.find_all('a', class_='item_title__FH7AS text-reset me-2')\n",
    "        \n",
    "        for e in title:\n",
    "            titles.append(e.get_text())\n",
    "        \n",
    "    except:\n",
    "        continue\n",
    "    \n",
    "end = time.time()\n",
    "\n",
    "print(\"The time of execution of above program is :\",\n",
    "      (end-start), \"s\")\n",
    "print(titles)"
   ],
   "metadata": {
    "collapsed": false
   },
   "id": "c1b53dd5238f1a54"
  },
  {
   "cell_type": "markdown",
   "source": [
    "## Collect post header with all the related data"
   ],
   "metadata": {
    "collapsed": false
   },
   "id": "22c54d832a42cfb6"
  },
  {
   "cell_type": "code",
   "execution_count": null,
   "outputs": [],
   "source": [
    "url_posts = 'https://stacker.news/items/1'\n",
    "response = requests.get(url_posts)\n",
    "soup = BeautifulSoup(response.text, 'html.parser')\n",
    "\n",
    "titolo = soup.find('a', class_='item_title__FH7AS text-reset me-2').get_text()\n",
    "banner = soup.find('div', class_='item_other__MjgP3')\n",
    "\n",
    "#post_stack = banner.find('span').text\n",
    "\n",
    "banner_data = []\n",
    "\n",
    "for i in banner.find_all('span'):\n",
    "    banner_data.append(i.text)\n",
    "    \n",
    "#n_comments = soup.find('a', class_='text-reset position-relative').get_text()\n",
    "#nym_creator = banner.find('a', ) \n",
    "\n",
    "print([titolo, banner_data])\n"
   ],
   "metadata": {
    "collapsed": false
   },
   "id": "83f77a4a0af8c262"
  },
  {
   "cell_type": "markdown",
   "source": [
    "# Scraping Items of stacker.news"
   ],
   "metadata": {
    "collapsed": false
   },
   "id": "b0413ab8459c1374"
  },
  {
   "cell_type": "code",
   "execution_count": 5,
   "outputs": [
    {
     "name": "stdout",
     "output_type": "stream",
     "text": [
      "Doing 1\n",
      "Doing 2\n",
      "Doing 3\n",
      "Doing 4\n",
      "Doing 5\n",
      "Doing 6\n",
      "Doing 7\n",
      "Doing 8\n",
      "Doing 9\n",
      "Doing 10\n",
      "Doing 11\n",
      "Doing 12\n",
      "Doing 13\n",
      "Doing 14\n",
      "Doing 15\n",
      "Doing 16\n",
      "Doing 17\n",
      "Doing 18\n",
      "Doing 19\n",
      "Doing 20\n",
      "Doing 21\n",
      "Doing 22\n",
      "Doing 23\n",
      "Doing 24\n",
      "Doing 25\n",
      "Doing 26\n",
      "Doing 27\n",
      "Doing 28\n",
      "Doing 29\n",
      "Doing 30\n",
      "Doing 31\n",
      "Doing 32\n",
      "Doing 33\n",
      "Doing 34\n",
      "Doing 35\n",
      "Doing 36\n",
      "Doing 37\n",
      "Doing 38\n",
      "Doing 39\n",
      "Doing 40\n",
      "Doing 41\n",
      "Doing 42\n",
      "Doing 43\n",
      "Doing 44\n",
      "Doing 45\n",
      "Doing 46\n",
      "Doing 47\n",
      "Doing 48\n",
      "Doing 49\n",
      "Doing 50\n",
      "Doing 51\n",
      "Doing 52\n",
      "Doing 53\n",
      "Doing 54\n",
      "Doing 55\n",
      "Doing 56\n",
      "Doing 57\n",
      "Doing 58\n",
      "Doing 59\n",
      "Doing 60\n",
      "Doing 61\n",
      "Doing 62\n",
      "Doing 63\n",
      "Doing 64\n",
      "Doing 65\n",
      "Doing 66\n",
      "Doing 67\n",
      "Doing 68\n",
      "Doing 69\n",
      "Doing 70\n",
      "Doing 71\n",
      "Doing 72\n",
      "Doing 73\n",
      "Doing 74\n",
      "Doing 75\n",
      "Doing 76\n",
      "Doing 77\n",
      "Doing 78\n",
      "Doing 79\n",
      "Doing 80\n",
      "Doing 81\n",
      "Doing 82\n",
      "Doing 83\n",
      "Doing 84\n",
      "Doing 85\n",
      "Doing 86\n",
      "Doing 87\n",
      "Doing 88\n",
      "Doing 89\n",
      "Doing 90\n",
      "Doing 91\n",
      "Doing 92\n",
      "Doing 93\n",
      "Doing 94\n",
      "Doing 95\n",
      "Doing 96\n",
      "Doing 97\n",
      "Doing 98\n",
      "Doing 99\n"
     ]
    },
    {
     "data": {
      "text/plain": "   item                                              title   n_comments  \\\n0     1             El Salvador Makes Bitcoin Legal Tender  13 comments   \n1     2                       stacker news soft launch AMA  30 comments   \n7     8       The Lightning Conference 2019: Alex Bosworth   2 comments   \n20   21        Pieter Wuille on the Taproot Genesis Story    2 comments   \n25   26                  Next Bitcoin Soft-Fork ANYPREVOUT    1 comment   \n30   31                                  Fedcoin is coming   2 comments   \n33   34  Why Altcoins aren't copying Taproot. Bitcoin T...   0 comments   \n34   35                    Bitrefill's Work in El Salvador   0 comments   \n35   36     3 Ways El Salvador Has Changed Bitcoin Forever    1 comment   \n37   38  Russell Okung asks the Nigerian government to ...   0 comments   \n38   39                     Bitcoin Optech Newsletter #152   2 comments   \n39   40  The Colonial Pipeline hack - what actually hap...   0 comments   \n40   41       China Miner Shutdown Actually Being Enforced   0 comments   \n41   42                    Stranded Energy and Home Mining   0 comments   \n44   45  Submarine swaps and Loops (Lightning Network) ...   0 comments   \n46   47                     Stacks Blockchain Explanation     1 comment   \n48   49  Lightning Ubiquity and the United Nations of B...   0 comments   \n50   51  Stephan Livera live tweets \"Bitcoin Mining Cou...   0 comments   \n51   52                                  Lightning Dev Kit    1 comment   \n52   53  Texas Clarifies that State-chartered Banks can...   0 comments   \n53   54         Taproot Derivation Support for Descriptors    1 comment   \n55   56          Removing tor v2 support from Bitcoin Core   0 comments   \n56   57                     Inconsistent BIP32 Derivations   0 comments   \n57   58                c-lightning channel upgrade support   0 comments   \n58   59         #bitcoin-core-dev irc moves to libera.chat   0 comments   \n59   60  blockchain.com wallet (finally) supports nativ...   4 comments   \n60   61           Blinding A Seed Using Secret BIP32 Paths   0 comments   \n61   62  Faster Blockchain Validation with Utreexo Accu...   0 comments   \n62   63  Improvement on the current block building algo...    1 comment   \n65   66                                      Plebfi Austin    1 comment   \n69   70                                BIP300 gains steam!   3 comments   \n71   72             Lightning Labs lnd 0.13-beta released!   0 comments   \n74   75  World Bank must accept Bitcoin payment from El...   0 comments   \n75   76     A repository of open Bitcoin research problems   0 comments   \n76   77  Here’s what’s happening to bitcoin mining in Iran    1 comment   \n77   78  Over 1,512 bitcoin are now locked up in Lightn...   0 comments   \n79   80                Bitcoin and the Illusion of Reality   0 comments   \n80   81     Sen. Cynthia Lummis: Why I'm All In on Bitcoin    1 comment   \n81   82                               Ethiopia and Bitcoin   0 comments   \n82   83    China's Bitcoin miners could be headed to Texas   0 comments   \n83   84      Microstrategy now holds over 105,000 Bitcoins   0 comments   \n84   85   Russell O’Connor on soft fork activation methods   0 comments   \n85   86  Store a message forever on the Bitcoin blockchain    1 comment   \n87   88           A from-scratch tour of Bitcoin in Python   3 comments   \n88   89                     Bitcoin Optech newsletter #154   0 comments   \n89   90                Andrew Poelstra intro to Miniscript    1 comment   \n90   91  Fighting Monetary Colonization with Open Sourc...   0 comments   \n91   92  Lightning Builder's Guide: Understanding Liqui...    1 comment   \n93   94  Why El Salvador Made Bitcoin Legal Tender with...   3 comments   \n98   99  Romanian man believed to hold 100k Bitcoin die...   0 comments   \n\n                                               corpus      boost      sats  \\\n0                                                        4 boost  603 sats   \n1   Figured I'd make a place to raise questions ab...        NaN    2 sats   \n7                                                            NaN    0 sats   \n20                                                           NaN       NaN   \n25                                                           NaN    4 sats   \n30                                                           NaN    3 sats   \n33                                                           NaN       NaN   \n34                                                           NaN       NaN   \n35                                                           NaN       NaN   \n37                                                           NaN    0 sats   \n38                                                           NaN    2 sats   \n39                                                           NaN       NaN   \n40                                                           NaN    0 sats   \n41                                                           NaN    0 sats   \n44                                                           NaN    0 sats   \n46                                                           NaN    2 sats   \n48                                                           NaN    3 sats   \n50                                                       1 boost       NaN   \n51                                                           NaN    2 sats   \n52                                                           NaN    0 sats   \n53                                                           NaN    0 sats   \n55                                                           NaN    0 sats   \n56                                                           NaN    0 sats   \n57                                                           NaN    0 sats   \n58                                                           NaN    2 sats   \n59                                                       2 boost    4 sats   \n60                                                           NaN    0 sats   \n61                                                           NaN    0 sats   \n62                                                           NaN    2 sats   \n65                                                           NaN       NaN   \n69                                                     221 boost   10 sats   \n71                                                       2 boost    3 sats   \n74                                                           NaN       NaN   \n75                                                           NaN       NaN   \n76                                                       1 boost    2 sats   \n77                                                       2 boost    2 sats   \n79                                                           NaN       NaN   \n80                                                           NaN   10 sats   \n81                                                           NaN    0 sats   \n82                                                           NaN       NaN   \n83                                                           NaN       NaN   \n84                                                       1 boost    0 sats   \n85                                                           NaN       NaN   \n87                                                           NaN    4 sats   \n88                                                       1 boost    0 sats   \n89                                                       1 boost    0 sats   \n90                                                           NaN    2 sats   \n91                                                           NaN    3 sats   \n93                                                           NaN       NaN   \n98                                                       1 boost       NaN   \n\n                                           commentors  \\\n0   [/k00b, /ln123, /k00b, /k00b, /OneOneSeven, /e...   \n1   [/k00b, /sha256, /k00b, /banana, /banana, /k00...   \n7          [/k00b, /k00b, /k00b, /k00b, /kr, /ekzyis]   \n20     [/banana, /sha256, /k00b, /k00b, /kr, /ekzyis]   \n25              [/sha256, /k00b, /k00b, /kr, /ekzyis]   \n30  [/satoshisuncle, /k00b, /washedup, /k00b, /kr,...   \n33              [/satoshisuncle, /k00b, /kr, /ekzyis]   \n34              [/satoshisuncle, /k00b, /kr, /ekzyis]   \n35  [/satoshisuncle, /satoshisuncle, /k00b, /kr, /...   \n37                       [/k00b, /k00b, /kr, /ekzyis]   \n38            [/k00b, /guacjoin, /k00b, /kr, /ekzyis]   \n39                     [/banana, /k00b, /kr, /ekzyis]   \n40                       [/k00b, /k00b, /kr, /ekzyis]   \n41                       [/k00b, /k00b, /kr, /ekzyis]   \n44                       [/k00b, /k00b, /kr, /ekzyis]   \n46        [/washedup, /washedup, /k00b, /kr, /ekzyis]   \n48                   [/washedup, /k00b, /kr, /ekzyis]   \n50                       [/k00b, /k00b, /kr, /ekzyis]   \n51                [/k00b, /k00b, /k00b, /kr, /ekzyis]   \n52                       [/k00b, /k00b, /kr, /ekzyis]   \n53                [/k00b, /k00b, /k00b, /kr, /ekzyis]   \n55                       [/k00b, /k00b, /kr, /ekzyis]   \n56                       [/k00b, /k00b, /kr, /ekzyis]   \n57                       [/k00b, /k00b, /kr, /ekzyis]   \n58                       [/k00b, /k00b, /kr, /ekzyis]   \n59  [/k00b, /lylepratt, /JPisAu, /k00b, /kr, /ekzyis]   \n60                       [/k00b, /k00b, /kr, /ekzyis]   \n61                       [/k00b, /k00b, /kr, /ekzyis]   \n62       [/k00b, /satoshisuncle, /k00b, /kr, /ekzyis]   \n65              [/sha256, /k00b, /k00b, /kr, /ekzyis]   \n69  [/lylepratt, /025b3f351f, /fxha, /k00b, /k00b,...   \n71                     [/andrew, /k00b, /kr, /ekzyis]   \n74                       [/k00b, /k00b, /kr, /ekzyis]   \n75                   [/washedup, /k00b, /kr, /ekzyis]   \n76                [/k00b, /k00b, /k00b, /kr, /ekzyis]   \n77                       [/k00b, /k00b, /kr, /ekzyis]   \n79                   [/washedup, /k00b, /kr, /ekzyis]   \n80          [/k00b, /cryptocoin, /k00b, /kr, /ekzyis]   \n81                       [/k00b, /k00b, /kr, /ekzyis]   \n82                       [/k00b, /k00b, /kr, /ekzyis]   \n83                       [/k00b, /k00b, /kr, /ekzyis]   \n84                       [/k00b, /k00b, /kr, /ekzyis]   \n85                [/k00b, /k00b, /k00b, /kr, /ekzyis]   \n87  [/sha256, /0312bdabf7, /g4ala, /k00b, /kr, /ek...   \n88                       [/k00b, /k00b, /kr, /ekzyis]   \n89                [/k00b, /k00b, /k00b, /kr, /ekzyis]   \n90                       [/k00b, /k00b, /kr, /ekzyis]   \n91       [/satoshisuncle, /k00b, /k00b, /kr, /ekzyis]   \n93  [/sha256, /supertestnet, /sha256, /k00b, /kr, ...   \n98                       [/k00b, /k00b, /kr, /ekzyis]   \n\n                                       external_links         author  \\\n0   bitcoinmagazine.com/business/el-salvador-appro...           k00b   \n1   bitcoinmagazine.com/business/el-salvador-appro...           k00b   \n7                 www.youtube.com/watch?v=Y4uxMtFwaYc           k00b   \n20     twitter.com/pwuille/status/1403725170993336322         banana   \n25                   github.com/bitcoin/bips/pull/943         sha256   \n30  www.politico.com/news/2021/06/12/fed-remake-us...  satoshisuncle   \n33  jimmysong.substack.com/p/why-altcoins-arent-co...  satoshisuncle   \n34   twitter.com/bitrefill/status/1402624057120641036  satoshisuncle   \n35  medium.com/tantra-labs/3-ways-el-salvador-has-...  satoshisuncle   \n37  bitcoinmagazine.com/culture/bitcoin-letter-to-...           k00b   \n38          bitcoinops.org/en/newsletters/2021/06/09/           k00b   \n39  dossier.substack.com/p/the-colonial-pipeline-h...         banana   \n40  www.theblockcrypto.com/post/107707/xinjiang-bi...           k00b   \n41  chainfail.substack.com/p/stranded-energy-and-h...           k00b   \n44                www.youtube.com/watch?v=qixhNBIHDyE           k00b   \n46                       stacks.org/stacks-blockchain       washedup   \n48  lightninglabs.substack.com/p/lightning-ubiquit...       washedup   \n50  twitter.com/stephanlivera/status/1405333653157...           k00b   \n51                               lightningdevkit.org/           k00b   \n52  bitcoinmagazine.com/business/texas-state-chart...           k00b   \n53              github.com/bitcoin/bitcoin/pull/22051           k00b   \n55              github.com/bitcoin/bitcoin/pull/22050           k00b   \n56  blog.polychainlabs.com/bitcoin,/bip32,/bip39,/...           k00b   \n57     github.com/ElementsProject/lightning/pull/4532           k00b   \n58    twitter.com/achow101/status/1397408341404626944           k00b   \n59  github.com/blockchain/blockchain-wallet-v4-fro...           k00b   \n60                     github.com/mflaxman/blind-xpub           k00b   \n61  blog.bitmex.com/faster-blockchain-validation-w...           k00b   \n62  gist.github.com/Xekyo/5cb413fe9f26dbce57abfd34...           k00b   \n65                                    pleb.fi/austin/         sha256   \n69  github.com/bitcoin/bips/blob/master/bip-0300.m...      lylepratt   \n71  lightning.engineering/posts/2021-06-17-lnd-v0.13/         andrew   \n74  www.forbes.com/sites/martinrivers/2021/06/17/e...           k00b   \n75                        bitcoin-problems.github.io/       washedup   \n76  compassmining.io/education/bitcoin-mining-iran...           k00b   \n77  www.btctimes.com/news/lightning-network-hits-r...           k00b   \n79  bitcoinmagazine.com/culture/bitcoin-illusion-o...       washedup   \n80  reason.com/podcast/2021/06/16/sen-cynthia-lumm...           k00b   \n81  bitcoinmagazine.com/culture/the-marathon-ethio...           k00b   \n82  www.cnbc.com/2021/06/15/chinas-bitcoin-miner-e...           k00b   \n83  www.microstrategy.com/en/investor-relations/pr...           k00b   \n84                   r6.ca/blog/20210615T191422Z.html           k00b   \n85                                   opreturnbot.com/           k00b   \n87          karpathy.github.io/2021/06/21/blockchain/         sha256   \n88          bitcoinops.org/en/newsletters/2021/06/23/           k00b   \n89  tv.bit2me.com/andrew-poelstra-an-intro-miniscr...           k00b   \n90  bitcoinmagazine.com/culture/bitcoin-a-currency...           k00b   \n91  docs.lightning.engineering/the-lightning-netwo...  satoshisuncle   \n93                               youtu.be/qdx_alPrmVY         sha256   \n98        thewhet.net/2021/06/goodnight-sweet-master/           k00b   \n\n           data  \n0   11 Jun 2021  \n1   11 Jun 2021  \n7   11 Jun 2021  \n20  12 Jun 2021  \n25  12 Jun 2021  \n30  13 Jun 2021  \n33  14 Jun 2021  \n34  14 Jun 2021  \n35  14 Jun 2021  \n37  14 Jun 2021  \n38  14 Jun 2021  \n39  14 Jun 2021  \n40  14 Jun 2021  \n41  14 Jun 2021  \n44  15 Jun 2021  \n46  16 Jun 2021  \n48  16 Jun 2021  \n50  17 Jun 2021  \n51  17 Jun 2021  \n52  17 Jun 2021  \n53  17 Jun 2021  \n55  17 Jun 2021  \n56  17 Jun 2021  \n57  17 Jun 2021  \n58  17 Jun 2021  \n59  17 Jun 2021  \n60  17 Jun 2021  \n61  17 Jun 2021  \n62  17 Jun 2021  \n65  18 Jun 2021  \n69  18 Jun 2021  \n71  18 Jun 2021  \n74  19 Jun 2021  \n75  21 Jun 2021  \n76  21 Jun 2021  \n77  21 Jun 2021  \n79  21 Jun 2021  \n80  21 Jun 2021  \n81  21 Jun 2021  \n82  21 Jun 2021  \n83  21 Jun 2021  \n84  22 Jun 2021  \n85  22 Jun 2021  \n87  22 Jun 2021  \n88  23 Jun 2021  \n89  24 Jun 2021  \n90  24 Jun 2021  \n91  25 Jun 2021  \n93  26 Jun 2021  \n98  27 Jun 2021  ",
      "text/html": "<div>\n<style scoped>\n    .dataframe tbody tr th:only-of-type {\n        vertical-align: middle;\n    }\n\n    .dataframe tbody tr th {\n        vertical-align: top;\n    }\n\n    .dataframe thead th {\n        text-align: right;\n    }\n</style>\n<table border=\"1\" class=\"dataframe\">\n  <thead>\n    <tr style=\"text-align: right;\">\n      <th></th>\n      <th>item</th>\n      <th>title</th>\n      <th>n_comments</th>\n      <th>corpus</th>\n      <th>boost</th>\n      <th>sats</th>\n      <th>commentors</th>\n      <th>external_links</th>\n      <th>author</th>\n      <th>data</th>\n    </tr>\n  </thead>\n  <tbody>\n    <tr>\n      <th>0</th>\n      <td>1</td>\n      <td>El Salvador Makes Bitcoin Legal Tender</td>\n      <td>13 comments</td>\n      <td></td>\n      <td>4 boost</td>\n      <td>603 sats</td>\n      <td>[/k00b, /ln123, /k00b, /k00b, /OneOneSeven, /e...</td>\n      <td>bitcoinmagazine.com/business/el-salvador-appro...</td>\n      <td>k00b</td>\n      <td>11 Jun 2021</td>\n    </tr>\n    <tr>\n      <th>1</th>\n      <td>2</td>\n      <td>stacker news soft launch AMA</td>\n      <td>30 comments</td>\n      <td>Figured I'd make a place to raise questions ab...</td>\n      <td>NaN</td>\n      <td>2 sats</td>\n      <td>[/k00b, /sha256, /k00b, /banana, /banana, /k00...</td>\n      <td>bitcoinmagazine.com/business/el-salvador-appro...</td>\n      <td>k00b</td>\n      <td>11 Jun 2021</td>\n    </tr>\n    <tr>\n      <th>7</th>\n      <td>8</td>\n      <td>The Lightning Conference 2019: Alex Bosworth</td>\n      <td>2 comments</td>\n      <td></td>\n      <td>NaN</td>\n      <td>0 sats</td>\n      <td>[/k00b, /k00b, /k00b, /k00b, /kr, /ekzyis]</td>\n      <td>www.youtube.com/watch?v=Y4uxMtFwaYc</td>\n      <td>k00b</td>\n      <td>11 Jun 2021</td>\n    </tr>\n    <tr>\n      <th>20</th>\n      <td>21</td>\n      <td>Pieter Wuille on the Taproot Genesis Story</td>\n      <td>2 comments</td>\n      <td></td>\n      <td>NaN</td>\n      <td>NaN</td>\n      <td>[/banana, /sha256, /k00b, /k00b, /kr, /ekzyis]</td>\n      <td>twitter.com/pwuille/status/1403725170993336322</td>\n      <td>banana</td>\n      <td>12 Jun 2021</td>\n    </tr>\n    <tr>\n      <th>25</th>\n      <td>26</td>\n      <td>Next Bitcoin Soft-Fork ANYPREVOUT</td>\n      <td>1 comment</td>\n      <td></td>\n      <td>NaN</td>\n      <td>4 sats</td>\n      <td>[/sha256, /k00b, /k00b, /kr, /ekzyis]</td>\n      <td>github.com/bitcoin/bips/pull/943</td>\n      <td>sha256</td>\n      <td>12 Jun 2021</td>\n    </tr>\n    <tr>\n      <th>30</th>\n      <td>31</td>\n      <td>Fedcoin is coming</td>\n      <td>2 comments</td>\n      <td></td>\n      <td>NaN</td>\n      <td>3 sats</td>\n      <td>[/satoshisuncle, /k00b, /washedup, /k00b, /kr,...</td>\n      <td>www.politico.com/news/2021/06/12/fed-remake-us...</td>\n      <td>satoshisuncle</td>\n      <td>13 Jun 2021</td>\n    </tr>\n    <tr>\n      <th>33</th>\n      <td>34</td>\n      <td>Why Altcoins aren't copying Taproot. Bitcoin T...</td>\n      <td>0 comments</td>\n      <td></td>\n      <td>NaN</td>\n      <td>NaN</td>\n      <td>[/satoshisuncle, /k00b, /kr, /ekzyis]</td>\n      <td>jimmysong.substack.com/p/why-altcoins-arent-co...</td>\n      <td>satoshisuncle</td>\n      <td>14 Jun 2021</td>\n    </tr>\n    <tr>\n      <th>34</th>\n      <td>35</td>\n      <td>Bitrefill's Work in El Salvador</td>\n      <td>0 comments</td>\n      <td></td>\n      <td>NaN</td>\n      <td>NaN</td>\n      <td>[/satoshisuncle, /k00b, /kr, /ekzyis]</td>\n      <td>twitter.com/bitrefill/status/1402624057120641036</td>\n      <td>satoshisuncle</td>\n      <td>14 Jun 2021</td>\n    </tr>\n    <tr>\n      <th>35</th>\n      <td>36</td>\n      <td>3 Ways El Salvador Has Changed Bitcoin Forever</td>\n      <td>1 comment</td>\n      <td></td>\n      <td>NaN</td>\n      <td>NaN</td>\n      <td>[/satoshisuncle, /satoshisuncle, /k00b, /kr, /...</td>\n      <td>medium.com/tantra-labs/3-ways-el-salvador-has-...</td>\n      <td>satoshisuncle</td>\n      <td>14 Jun 2021</td>\n    </tr>\n    <tr>\n      <th>37</th>\n      <td>38</td>\n      <td>Russell Okung asks the Nigerian government to ...</td>\n      <td>0 comments</td>\n      <td></td>\n      <td>NaN</td>\n      <td>0 sats</td>\n      <td>[/k00b, /k00b, /kr, /ekzyis]</td>\n      <td>bitcoinmagazine.com/culture/bitcoin-letter-to-...</td>\n      <td>k00b</td>\n      <td>14 Jun 2021</td>\n    </tr>\n    <tr>\n      <th>38</th>\n      <td>39</td>\n      <td>Bitcoin Optech Newsletter #152</td>\n      <td>2 comments</td>\n      <td></td>\n      <td>NaN</td>\n      <td>2 sats</td>\n      <td>[/k00b, /guacjoin, /k00b, /kr, /ekzyis]</td>\n      <td>bitcoinops.org/en/newsletters/2021/06/09/</td>\n      <td>k00b</td>\n      <td>14 Jun 2021</td>\n    </tr>\n    <tr>\n      <th>39</th>\n      <td>40</td>\n      <td>The Colonial Pipeline hack - what actually hap...</td>\n      <td>0 comments</td>\n      <td></td>\n      <td>NaN</td>\n      <td>NaN</td>\n      <td>[/banana, /k00b, /kr, /ekzyis]</td>\n      <td>dossier.substack.com/p/the-colonial-pipeline-h...</td>\n      <td>banana</td>\n      <td>14 Jun 2021</td>\n    </tr>\n    <tr>\n      <th>40</th>\n      <td>41</td>\n      <td>China Miner Shutdown Actually Being Enforced</td>\n      <td>0 comments</td>\n      <td></td>\n      <td>NaN</td>\n      <td>0 sats</td>\n      <td>[/k00b, /k00b, /kr, /ekzyis]</td>\n      <td>www.theblockcrypto.com/post/107707/xinjiang-bi...</td>\n      <td>k00b</td>\n      <td>14 Jun 2021</td>\n    </tr>\n    <tr>\n      <th>41</th>\n      <td>42</td>\n      <td>Stranded Energy and Home Mining</td>\n      <td>0 comments</td>\n      <td></td>\n      <td>NaN</td>\n      <td>0 sats</td>\n      <td>[/k00b, /k00b, /kr, /ekzyis]</td>\n      <td>chainfail.substack.com/p/stranded-energy-and-h...</td>\n      <td>k00b</td>\n      <td>14 Jun 2021</td>\n    </tr>\n    <tr>\n      <th>44</th>\n      <td>45</td>\n      <td>Submarine swaps and Loops (Lightning Network) ...</td>\n      <td>0 comments</td>\n      <td></td>\n      <td>NaN</td>\n      <td>0 sats</td>\n      <td>[/k00b, /k00b, /kr, /ekzyis]</td>\n      <td>www.youtube.com/watch?v=qixhNBIHDyE</td>\n      <td>k00b</td>\n      <td>15 Jun 2021</td>\n    </tr>\n    <tr>\n      <th>46</th>\n      <td>47</td>\n      <td>Stacks Blockchain Explanation</td>\n      <td>1 comment</td>\n      <td></td>\n      <td>NaN</td>\n      <td>2 sats</td>\n      <td>[/washedup, /washedup, /k00b, /kr, /ekzyis]</td>\n      <td>stacks.org/stacks-blockchain</td>\n      <td>washedup</td>\n      <td>16 Jun 2021</td>\n    </tr>\n    <tr>\n      <th>48</th>\n      <td>49</td>\n      <td>Lightning Ubiquity and the United Nations of B...</td>\n      <td>0 comments</td>\n      <td></td>\n      <td>NaN</td>\n      <td>3 sats</td>\n      <td>[/washedup, /k00b, /kr, /ekzyis]</td>\n      <td>lightninglabs.substack.com/p/lightning-ubiquit...</td>\n      <td>washedup</td>\n      <td>16 Jun 2021</td>\n    </tr>\n    <tr>\n      <th>50</th>\n      <td>51</td>\n      <td>Stephan Livera live tweets \"Bitcoin Mining Cou...</td>\n      <td>0 comments</td>\n      <td></td>\n      <td>1 boost</td>\n      <td>NaN</td>\n      <td>[/k00b, /k00b, /kr, /ekzyis]</td>\n      <td>twitter.com/stephanlivera/status/1405333653157...</td>\n      <td>k00b</td>\n      <td>17 Jun 2021</td>\n    </tr>\n    <tr>\n      <th>51</th>\n      <td>52</td>\n      <td>Lightning Dev Kit</td>\n      <td>1 comment</td>\n      <td></td>\n      <td>NaN</td>\n      <td>2 sats</td>\n      <td>[/k00b, /k00b, /k00b, /kr, /ekzyis]</td>\n      <td>lightningdevkit.org/</td>\n      <td>k00b</td>\n      <td>17 Jun 2021</td>\n    </tr>\n    <tr>\n      <th>52</th>\n      <td>53</td>\n      <td>Texas Clarifies that State-chartered Banks can...</td>\n      <td>0 comments</td>\n      <td></td>\n      <td>NaN</td>\n      <td>0 sats</td>\n      <td>[/k00b, /k00b, /kr, /ekzyis]</td>\n      <td>bitcoinmagazine.com/business/texas-state-chart...</td>\n      <td>k00b</td>\n      <td>17 Jun 2021</td>\n    </tr>\n    <tr>\n      <th>53</th>\n      <td>54</td>\n      <td>Taproot Derivation Support for Descriptors</td>\n      <td>1 comment</td>\n      <td></td>\n      <td>NaN</td>\n      <td>0 sats</td>\n      <td>[/k00b, /k00b, /k00b, /kr, /ekzyis]</td>\n      <td>github.com/bitcoin/bitcoin/pull/22051</td>\n      <td>k00b</td>\n      <td>17 Jun 2021</td>\n    </tr>\n    <tr>\n      <th>55</th>\n      <td>56</td>\n      <td>Removing tor v2 support from Bitcoin Core</td>\n      <td>0 comments</td>\n      <td></td>\n      <td>NaN</td>\n      <td>0 sats</td>\n      <td>[/k00b, /k00b, /kr, /ekzyis]</td>\n      <td>github.com/bitcoin/bitcoin/pull/22050</td>\n      <td>k00b</td>\n      <td>17 Jun 2021</td>\n    </tr>\n    <tr>\n      <th>56</th>\n      <td>57</td>\n      <td>Inconsistent BIP32 Derivations</td>\n      <td>0 comments</td>\n      <td></td>\n      <td>NaN</td>\n      <td>0 sats</td>\n      <td>[/k00b, /k00b, /kr, /ekzyis]</td>\n      <td>blog.polychainlabs.com/bitcoin,/bip32,/bip39,/...</td>\n      <td>k00b</td>\n      <td>17 Jun 2021</td>\n    </tr>\n    <tr>\n      <th>57</th>\n      <td>58</td>\n      <td>c-lightning channel upgrade support</td>\n      <td>0 comments</td>\n      <td></td>\n      <td>NaN</td>\n      <td>0 sats</td>\n      <td>[/k00b, /k00b, /kr, /ekzyis]</td>\n      <td>github.com/ElementsProject/lightning/pull/4532</td>\n      <td>k00b</td>\n      <td>17 Jun 2021</td>\n    </tr>\n    <tr>\n      <th>58</th>\n      <td>59</td>\n      <td>#bitcoin-core-dev irc moves to libera.chat</td>\n      <td>0 comments</td>\n      <td></td>\n      <td>NaN</td>\n      <td>2 sats</td>\n      <td>[/k00b, /k00b, /kr, /ekzyis]</td>\n      <td>twitter.com/achow101/status/1397408341404626944</td>\n      <td>k00b</td>\n      <td>17 Jun 2021</td>\n    </tr>\n    <tr>\n      <th>59</th>\n      <td>60</td>\n      <td>blockchain.com wallet (finally) supports nativ...</td>\n      <td>4 comments</td>\n      <td></td>\n      <td>2 boost</td>\n      <td>4 sats</td>\n      <td>[/k00b, /lylepratt, /JPisAu, /k00b, /kr, /ekzyis]</td>\n      <td>github.com/blockchain/blockchain-wallet-v4-fro...</td>\n      <td>k00b</td>\n      <td>17 Jun 2021</td>\n    </tr>\n    <tr>\n      <th>60</th>\n      <td>61</td>\n      <td>Blinding A Seed Using Secret BIP32 Paths</td>\n      <td>0 comments</td>\n      <td></td>\n      <td>NaN</td>\n      <td>0 sats</td>\n      <td>[/k00b, /k00b, /kr, /ekzyis]</td>\n      <td>github.com/mflaxman/blind-xpub</td>\n      <td>k00b</td>\n      <td>17 Jun 2021</td>\n    </tr>\n    <tr>\n      <th>61</th>\n      <td>62</td>\n      <td>Faster Blockchain Validation with Utreexo Accu...</td>\n      <td>0 comments</td>\n      <td></td>\n      <td>NaN</td>\n      <td>0 sats</td>\n      <td>[/k00b, /k00b, /kr, /ekzyis]</td>\n      <td>blog.bitmex.com/faster-blockchain-validation-w...</td>\n      <td>k00b</td>\n      <td>17 Jun 2021</td>\n    </tr>\n    <tr>\n      <th>62</th>\n      <td>63</td>\n      <td>Improvement on the current block building algo...</td>\n      <td>1 comment</td>\n      <td></td>\n      <td>NaN</td>\n      <td>2 sats</td>\n      <td>[/k00b, /satoshisuncle, /k00b, /kr, /ekzyis]</td>\n      <td>gist.github.com/Xekyo/5cb413fe9f26dbce57abfd34...</td>\n      <td>k00b</td>\n      <td>17 Jun 2021</td>\n    </tr>\n    <tr>\n      <th>65</th>\n      <td>66</td>\n      <td>Plebfi Austin</td>\n      <td>1 comment</td>\n      <td></td>\n      <td>NaN</td>\n      <td>NaN</td>\n      <td>[/sha256, /k00b, /k00b, /kr, /ekzyis]</td>\n      <td>pleb.fi/austin/</td>\n      <td>sha256</td>\n      <td>18 Jun 2021</td>\n    </tr>\n    <tr>\n      <th>69</th>\n      <td>70</td>\n      <td>BIP300 gains steam!</td>\n      <td>3 comments</td>\n      <td></td>\n      <td>221 boost</td>\n      <td>10 sats</td>\n      <td>[/lylepratt, /025b3f351f, /fxha, /k00b, /k00b,...</td>\n      <td>github.com/bitcoin/bips/blob/master/bip-0300.m...</td>\n      <td>lylepratt</td>\n      <td>18 Jun 2021</td>\n    </tr>\n    <tr>\n      <th>71</th>\n      <td>72</td>\n      <td>Lightning Labs lnd 0.13-beta released!</td>\n      <td>0 comments</td>\n      <td></td>\n      <td>2 boost</td>\n      <td>3 sats</td>\n      <td>[/andrew, /k00b, /kr, /ekzyis]</td>\n      <td>lightning.engineering/posts/2021-06-17-lnd-v0.13/</td>\n      <td>andrew</td>\n      <td>18 Jun 2021</td>\n    </tr>\n    <tr>\n      <th>74</th>\n      <td>75</td>\n      <td>World Bank must accept Bitcoin payment from El...</td>\n      <td>0 comments</td>\n      <td></td>\n      <td>NaN</td>\n      <td>NaN</td>\n      <td>[/k00b, /k00b, /kr, /ekzyis]</td>\n      <td>www.forbes.com/sites/martinrivers/2021/06/17/e...</td>\n      <td>k00b</td>\n      <td>19 Jun 2021</td>\n    </tr>\n    <tr>\n      <th>75</th>\n      <td>76</td>\n      <td>A repository of open Bitcoin research problems</td>\n      <td>0 comments</td>\n      <td></td>\n      <td>NaN</td>\n      <td>NaN</td>\n      <td>[/washedup, /k00b, /kr, /ekzyis]</td>\n      <td>bitcoin-problems.github.io/</td>\n      <td>washedup</td>\n      <td>21 Jun 2021</td>\n    </tr>\n    <tr>\n      <th>76</th>\n      <td>77</td>\n      <td>Here’s what’s happening to bitcoin mining in Iran</td>\n      <td>1 comment</td>\n      <td></td>\n      <td>1 boost</td>\n      <td>2 sats</td>\n      <td>[/k00b, /k00b, /k00b, /kr, /ekzyis]</td>\n      <td>compassmining.io/education/bitcoin-mining-iran...</td>\n      <td>k00b</td>\n      <td>21 Jun 2021</td>\n    </tr>\n    <tr>\n      <th>77</th>\n      <td>78</td>\n      <td>Over 1,512 bitcoin are now locked up in Lightn...</td>\n      <td>0 comments</td>\n      <td></td>\n      <td>2 boost</td>\n      <td>2 sats</td>\n      <td>[/k00b, /k00b, /kr, /ekzyis]</td>\n      <td>www.btctimes.com/news/lightning-network-hits-r...</td>\n      <td>k00b</td>\n      <td>21 Jun 2021</td>\n    </tr>\n    <tr>\n      <th>79</th>\n      <td>80</td>\n      <td>Bitcoin and the Illusion of Reality</td>\n      <td>0 comments</td>\n      <td></td>\n      <td>NaN</td>\n      <td>NaN</td>\n      <td>[/washedup, /k00b, /kr, /ekzyis]</td>\n      <td>bitcoinmagazine.com/culture/bitcoin-illusion-o...</td>\n      <td>washedup</td>\n      <td>21 Jun 2021</td>\n    </tr>\n    <tr>\n      <th>80</th>\n      <td>81</td>\n      <td>Sen. Cynthia Lummis: Why I'm All In on Bitcoin</td>\n      <td>1 comment</td>\n      <td></td>\n      <td>NaN</td>\n      <td>10 sats</td>\n      <td>[/k00b, /cryptocoin, /k00b, /kr, /ekzyis]</td>\n      <td>reason.com/podcast/2021/06/16/sen-cynthia-lumm...</td>\n      <td>k00b</td>\n      <td>21 Jun 2021</td>\n    </tr>\n    <tr>\n      <th>81</th>\n      <td>82</td>\n      <td>Ethiopia and Bitcoin</td>\n      <td>0 comments</td>\n      <td></td>\n      <td>NaN</td>\n      <td>0 sats</td>\n      <td>[/k00b, /k00b, /kr, /ekzyis]</td>\n      <td>bitcoinmagazine.com/culture/the-marathon-ethio...</td>\n      <td>k00b</td>\n      <td>21 Jun 2021</td>\n    </tr>\n    <tr>\n      <th>82</th>\n      <td>83</td>\n      <td>China's Bitcoin miners could be headed to Texas</td>\n      <td>0 comments</td>\n      <td></td>\n      <td>NaN</td>\n      <td>NaN</td>\n      <td>[/k00b, /k00b, /kr, /ekzyis]</td>\n      <td>www.cnbc.com/2021/06/15/chinas-bitcoin-miner-e...</td>\n      <td>k00b</td>\n      <td>21 Jun 2021</td>\n    </tr>\n    <tr>\n      <th>83</th>\n      <td>84</td>\n      <td>Microstrategy now holds over 105,000 Bitcoins</td>\n      <td>0 comments</td>\n      <td></td>\n      <td>NaN</td>\n      <td>NaN</td>\n      <td>[/k00b, /k00b, /kr, /ekzyis]</td>\n      <td>www.microstrategy.com/en/investor-relations/pr...</td>\n      <td>k00b</td>\n      <td>21 Jun 2021</td>\n    </tr>\n    <tr>\n      <th>84</th>\n      <td>85</td>\n      <td>Russell O’Connor on soft fork activation methods</td>\n      <td>0 comments</td>\n      <td></td>\n      <td>1 boost</td>\n      <td>0 sats</td>\n      <td>[/k00b, /k00b, /kr, /ekzyis]</td>\n      <td>r6.ca/blog/20210615T191422Z.html</td>\n      <td>k00b</td>\n      <td>22 Jun 2021</td>\n    </tr>\n    <tr>\n      <th>85</th>\n      <td>86</td>\n      <td>Store a message forever on the Bitcoin blockchain</td>\n      <td>1 comment</td>\n      <td></td>\n      <td>NaN</td>\n      <td>NaN</td>\n      <td>[/k00b, /k00b, /k00b, /kr, /ekzyis]</td>\n      <td>opreturnbot.com/</td>\n      <td>k00b</td>\n      <td>22 Jun 2021</td>\n    </tr>\n    <tr>\n      <th>87</th>\n      <td>88</td>\n      <td>A from-scratch tour of Bitcoin in Python</td>\n      <td>3 comments</td>\n      <td></td>\n      <td>NaN</td>\n      <td>4 sats</td>\n      <td>[/sha256, /0312bdabf7, /g4ala, /k00b, /kr, /ek...</td>\n      <td>karpathy.github.io/2021/06/21/blockchain/</td>\n      <td>sha256</td>\n      <td>22 Jun 2021</td>\n    </tr>\n    <tr>\n      <th>88</th>\n      <td>89</td>\n      <td>Bitcoin Optech newsletter #154</td>\n      <td>0 comments</td>\n      <td></td>\n      <td>1 boost</td>\n      <td>0 sats</td>\n      <td>[/k00b, /k00b, /kr, /ekzyis]</td>\n      <td>bitcoinops.org/en/newsletters/2021/06/23/</td>\n      <td>k00b</td>\n      <td>23 Jun 2021</td>\n    </tr>\n    <tr>\n      <th>89</th>\n      <td>90</td>\n      <td>Andrew Poelstra intro to Miniscript</td>\n      <td>1 comment</td>\n      <td></td>\n      <td>1 boost</td>\n      <td>0 sats</td>\n      <td>[/k00b, /k00b, /k00b, /kr, /ekzyis]</td>\n      <td>tv.bit2me.com/andrew-poelstra-an-intro-miniscr...</td>\n      <td>k00b</td>\n      <td>24 Jun 2021</td>\n    </tr>\n    <tr>\n      <th>90</th>\n      <td>91</td>\n      <td>Fighting Monetary Colonization with Open Sourc...</td>\n      <td>0 comments</td>\n      <td></td>\n      <td>NaN</td>\n      <td>2 sats</td>\n      <td>[/k00b, /k00b, /kr, /ekzyis]</td>\n      <td>bitcoinmagazine.com/culture/bitcoin-a-currency...</td>\n      <td>k00b</td>\n      <td>24 Jun 2021</td>\n    </tr>\n    <tr>\n      <th>91</th>\n      <td>92</td>\n      <td>Lightning Builder's Guide: Understanding Liqui...</td>\n      <td>1 comment</td>\n      <td></td>\n      <td>NaN</td>\n      <td>3 sats</td>\n      <td>[/satoshisuncle, /k00b, /k00b, /kr, /ekzyis]</td>\n      <td>docs.lightning.engineering/the-lightning-netwo...</td>\n      <td>satoshisuncle</td>\n      <td>25 Jun 2021</td>\n    </tr>\n    <tr>\n      <th>93</th>\n      <td>94</td>\n      <td>Why El Salvador Made Bitcoin Legal Tender with...</td>\n      <td>3 comments</td>\n      <td></td>\n      <td>NaN</td>\n      <td>NaN</td>\n      <td>[/sha256, /supertestnet, /sha256, /k00b, /kr, ...</td>\n      <td>youtu.be/qdx_alPrmVY</td>\n      <td>sha256</td>\n      <td>26 Jun 2021</td>\n    </tr>\n    <tr>\n      <th>98</th>\n      <td>99</td>\n      <td>Romanian man believed to hold 100k Bitcoin die...</td>\n      <td>0 comments</td>\n      <td></td>\n      <td>1 boost</td>\n      <td>NaN</td>\n      <td>[/k00b, /k00b, /kr, /ekzyis]</td>\n      <td>thewhet.net/2021/06/goodnight-sweet-master/</td>\n      <td>k00b</td>\n      <td>27 Jun 2021</td>\n    </tr>\n  </tbody>\n</table>\n</div>"
     },
     "execution_count": 5,
     "metadata": {},
     "output_type": "execute_result"
    }
   ],
   "source": [
    "# Create a list of the items to scrape\n",
    "n_posts = range(1, 100)\n",
    "\n",
    "df = pd.DataFrame(columns=['item','title', 'n_comments','corpus' ,'boost', 'sats', 'betha','commentors','external_links'])\n",
    "\n",
    "for number in n_posts:\n",
    "    # Initialize the dataframe\n",
    "\n",
    "    url_posts = f'https://stacker.news/items/{number}'\n",
    "    response = requests.get(url_posts)\n",
    "    soup = BeautifulSoup(response.text, 'html.parser')\n",
    "    index = number-1\n",
    "#-------------------------------------------------------------------------------\n",
    "    # TITLE\n",
    "    try:\n",
    "        title = soup.find('a', class_='item_title__FH7AS text-reset me-2').get_text()\n",
    "    except:\n",
    "        continue\n",
    "    # add title to dataframe\n",
    "    df.at[index, 'title'] = title\n",
    "#-------------------------------------------------------------------------------\n",
    "    # ITEM\n",
    "    df.at[index, 'item'] = number\n",
    "#-------------------------------------------------------------------------------\n",
    "    # CORPUS\n",
    "    try:\n",
    "        corpus=soup.find('div', class_=\"item_fullItemContainer__ZAYtZ\").get_text()\n",
    "    except:\n",
    "        df.at[index, 'corpus'] = \"NaN\"\n",
    "    # add title to dataframe\n",
    "    df.at[index, 'corpus'] = corpus\n",
    "#-------------------------------------------------------------------------------\n",
    "    # EXTERNAL LINKS\n",
    "    try:\n",
    "        ex_link=soup.find('a', class_=\"item_link__4cWVs\").get_text()\n",
    "    except:\n",
    "        df.at[index, 'external_links'] = \"NaN\"\n",
    "    # add external links to dataframe\n",
    "    df.at[index, 'external_links'] = ex_link\n",
    "\n",
    "#-------------------------------------------------------------------------------\n",
    "    # BANNER\n",
    "    try:\n",
    "        banner = soup.find('div', class_='item_other__MjgP3')\n",
    "    except:\n",
    "        df.at[index, 'boost'] = \"NaN\"\n",
    "        df.at[index, 'sats'] = \"NaN\"\n",
    "        df.at[index, 'betha'] = \"NaN\"\n",
    "    # deal with banner\n",
    "    banner_data = []\n",
    "    for i in banner.find_all('span'):\n",
    "        banner_data.append(i.text)\n",
    "    for b in banner_data:\n",
    "        if \"boost\" in b:\n",
    "            df.at[index, 'boost'] = b\n",
    "        if \"sats\" in b:\n",
    "            df.at[index, 'sats'] = b\n",
    "        if \"@\" in b:\n",
    "            df.at[index, 'betha'] = b\n",
    "#-------------------------------------------------------------------------------\n",
    "    # N_COMMENTS\n",
    "    try:\n",
    "        n_comments = soup.find('a', class_='text-reset position-relative').get_text()\n",
    "    except:        \n",
    "        df.at[index, 'n_comments'] = \"NaN\"\n",
    "    # add n_comments to dataframe\n",
    "    df.at[index, 'n_comments'] = n_comments\n",
    "#-------------------------------------------------------------------------------\n",
    "    # COMMENTORS\n",
    "    \n",
    "    a_elements = soup.find_all('a')\n",
    "    \n",
    "    df.at[index, 'commentors'] = \"NaN\"\n",
    "    at_elements = []\n",
    "\n",
    "    for el in a_elements:\n",
    "        links = el.get_text() \n",
    "        if links.startswith('@'):\n",
    "            at_elements.append(el)\n",
    "    \n",
    "    commentors_list=[]\n",
    "    for ind in range(0,len(at_elements)):\n",
    "        commentors_list.append(at_elements[ind][\"href\"])\n",
    "    # add commentors to dataframe\n",
    "    df.at[index, 'commentors'] = commentors_list\n",
    "#-------------------------------------------------------------------------------\n",
    "# Fixing the dataframe\n",
    "df['author'] = df['betha'].str.extract(r'@(\\w+)')\n",
    "df['data'] = df['betha'].str.extract(r'(\\d+\\s\\w+\\s\\d+)')\n",
    "df.drop('betha', axis=1, inplace=True)\n",
    "df"
   ],
   "metadata": {
    "collapsed": false,
    "ExecuteTime": {
     "end_time": "2023-10-09T12:38:33.532842157Z",
     "start_time": "2023-10-09T12:37:11.822923643Z"
    }
   },
   "id": "dd5f21f2f7aff4e5"
  },
  {
   "cell_type": "markdown",
   "source": [
    "## Reframing the previous code\n",
    "Main steps in the code\n",
    "1. Retrieve item webpage provided the item code\n",
    "2. Detect item type:\n",
    "    - Comment or post ?\n",
    "    - If post, which kind of post:\n",
    "        1. Discussion\n",
    "        2. Link\n",
    "        3. Poll\n",
    "        4. Bounty\n",
    "        5. Job\n",
    "3. Retrieve title\n",
    "4. Retrieve banner\n",
    "    - Extract number of comment, **compulsory**\n",
    "    - Extract stacked amount by the item, **if present**\n",
    "    - Extract Boost value, **if present**\n",
    "    - Extract username, **compulsory**\n",
    "    - Extract timestamp, **compulsory**\n",
    "    - Extract badge, **compulsory**\n",
    "5. Extract amount stacked by comments, **compulsory**\n",
    "6. Extract item code of comments **OR** extract user that commented\n",
    "\n",
    "**Note that**:\n",
    "- Some items do not have the stacked amount nor the possibility to receive sats. For example the user @saloon created all this kind of posts. Is he/she a bot? Is it an 'official bot' of the forum and so it's not possible to give sats to it?\n"
   ],
   "metadata": {
    "collapsed": false
   },
   "id": "7cd9ceda58f8bbc2"
  },
  {
   "cell_type": "markdown",
   "source": [
    "### Detecting item types\n",
    "First of all we need to determine the kind of item we are working with.\n",
    "The typology is described by the tag of the post in the post-creation."
   ],
   "metadata": {
    "collapsed": false
   },
   "id": "e7397c7e162d9e3d"
  },
  {
   "cell_type": "code",
   "execution_count": null,
   "outputs": [],
   "source": [
    "reload(si)\n",
    "\n",
    "NA = None\n",
    "\n",
    "\n"
   ],
   "metadata": {
    "collapsed": false
   },
   "id": "d0864f7fbcca9cdf"
  },
  {
   "cell_type": "markdown",
   "source": [
    "# Scraping user profiles\n",
    "Users profiles are scraped starting from the list of users extracted by scraping all the items (posts+comments)\n",
    "The link to get the user profile is `https://stacker.news/$username$` "
   ],
   "metadata": {
    "collapsed": false
   },
   "id": "7771202dfaced9e6"
  },
  {
   "cell_type": "code",
   "execution_count": 2,
   "outputs": [
    {
     "name": "stdout",
     "output_type": "stream",
     "text": [
      "The average time of execution of above program for every entry is : 0.7955794767899946 \n",
      "The total time of execution is  17.502748489379883\n"
     ]
    }
   ],
   "source": [
    "user_list = ['Monotone',\n",
    "             'TNStacker',\n",
    "             'kale',\n",
    "             'DiracDelta',\n",
    "             'kr',\n",
    "             'moscowTimeBot',\n",
    "             'mpuels',\n",
    "             'blockstream_official',\n",
    "             'nym',\n",
    "             'random_',\n",
    "             'saloon',\n",
    "             \"k00b\",\n",
    "             \"DarthCoin\",\n",
    "             \"Wumbo\",\n",
    "             \"mf\",\n",
    "             \"NoStranger\",\n",
    "             \"anipy\",\n",
    "             \"OneOneSeven\",\n",
    "             \"Bitman\",\n",
    "             \"nemo\",\n",
    "             \"sahil\",\n",
    "             \"prova_di_nullo\"\n",
    "             ]\n",
    "\n",
    "user_list2 = [\"k00b\", \"DarthCoin\", \"saloon\"]\n",
    "\n",
    "start = time.time()\n",
    "\n",
    "user.save_profile_csv(user_list)\n",
    "\n",
    "end = time.time()\n",
    "print(\"The average time of execution of above program for every entry is :\",\n",
    "      (end-start)/len(user_list), \"\\nThe total time of execution is \", (end-start))"
   ],
   "metadata": {
    "collapsed": false,
    "ExecuteTime": {
     "end_time": "2023-10-09T11:44:31.487638525Z",
     "start_time": "2023-10-09T11:44:13.968977241Z"
    }
   },
   "id": "872713e01a844e3a"
  },
  {
   "cell_type": "markdown",
   "source": [
    "## Modularize the code - user profile scraping\n",
    "Define functions to modularize and simplify the user profile scraping.\n",
    "The functions are defined in `user_modules/scraping_user.py` and have been tested with `tests/test_scraping_user.py`. To run the tests open a the terminal/CMD and run the script `tests/test_scraping_user.py` from there, running it from a JupyterNotebook could raise errors.\n",
    "The testing script tested every function in some corner cases (missing data/request error). "
   ],
   "metadata": {
    "collapsed": false
   },
   "id": "6e52500e0ab6223e"
  },
  {
   "cell_type": "markdown",
   "source": [
    "**From the following two approaches we can create the final script for scraping the user profiles**.\n",
    "The next step would be the creation of a function that loops through the user list and assigns to the rows in the dataframe the values returned from the functions defined in `user_modules/scraping_user.py`."
   ],
   "metadata": {
    "collapsed": false
   },
   "id": "efe3fde8a3810bc4"
  },
  {
   "cell_type": "code",
   "execution_count": null,
   "outputs": [],
   "source": [
    "# TODO: integrate this method into the general scraping script for profile scraping\n",
    "\n",
    "user_list = np.array(['Monotone',\n",
    "                      'TNStacker',\n",
    "                      'kale',\n",
    "                      'DiracDelta',\n",
    "                      'kr',\n",
    "                      'moscowTimeBot',\n",
    "                      'mpuels',\n",
    "                      'blockstream_official',\n",
    "                      'nym',\n",
    "                      'random_'\n",
    "                      ])\n",
    "                      \n",
    "start = time.time()\n",
    "\n",
    "for i in np.nditer(user_list):\n",
    "    print(user.get_profile(i))\n",
    "    \n",
    "end = time.time()\n",
    "print(\"The average time of execution of the above program for one user is :\",\n",
    "      (end-start)/len(user_list), \"s\")"
   ],
   "metadata": {
    "collapsed": false
   },
   "id": "19462e10c12c6aed"
  },
  {
   "cell_type": "code",
   "execution_count": null,
   "outputs": [],
   "source": [
    "user_list = ['Monotone',\n",
    "             'TNStacker',\n",
    "             'kale',\n",
    "             'DiracDelta',\n",
    "             'kr',\n",
    "             'moscowTimeBot',\n",
    "             'mpuels',\n",
    "             'blockstream_official',\n",
    "             'nym',\n",
    "             'random_',\n",
    "             ]\n",
    "                      \n",
    "start = time.time()\n",
    "\n",
    "for i in user_list:\n",
    "    print(user.get_profile(i))\n",
    "    \n",
    "end = time.time()\n",
    "print(\"The average time of execution of the above program for one user is :\",\n",
    "      (end-start)/len(user_list), \"s\")"
   ],
   "metadata": {
    "collapsed": false
   },
   "id": "930f937ca7b5188f"
  }
 ],
 "metadata": {
  "kernelspec": {
   "display_name": "Python 3",
   "language": "python",
   "name": "python3"
  },
  "language_info": {
   "codemirror_mode": {
    "name": "ipython",
    "version": 2
   },
   "file_extension": ".py",
   "mimetype": "text/x-python",
   "name": "python",
   "nbconvert_exporter": "python",
   "pygments_lexer": "ipython2",
   "version": "2.7.6"
  }
 },
 "nbformat": 4,
 "nbformat_minor": 5
}
