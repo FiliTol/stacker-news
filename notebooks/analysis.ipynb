{
 "cells": [
  {
   "cell_type": "code",
   "execution_count": 5,
   "id": "initial_id",
   "metadata": {
    "collapsed": true,
    "ExecuteTime": {
     "end_time": "2023-10-04T19:21:57.537230932Z",
     "start_time": "2023-10-04T19:21:56.643258928Z"
    }
   },
   "outputs": [],
   "source": [
    "from bs4 import BeautifulSoup\n",
    "import requests as requests\n",
    "import time\n",
    "import re\n",
    "from datetime import datetime\n",
    "import pandas as pd\n",
    "import numpy as np"
   ]
  },
  {
   "cell_type": "code",
   "execution_count": 3,
   "outputs": [],
   "source": [
    "## Key variables valid for all the chuncks\n",
    "timestamp_pattern = re.compile(r'(\\d{4}-\\d{2}-\\d{2}T\\d{2}:\\d{2}:\\d{2}\\.\\d{3}Z)')\n",
    "original_format = \"%Y-%m-%dT%H:%M:%S.%fZ\"\n",
    "desired_format = \"%Y-%m-%d %H:%M:%S\"\n"
   ],
   "metadata": {
    "collapsed": false,
    "ExecuteTime": {
     "end_time": "2023-10-04T17:15:25.742446521Z",
     "start_time": "2023-10-04T17:15:25.734514740Z"
    }
   },
   "id": "43c8560280689a13"
  },
  {
   "cell_type": "markdown",
   "source": [
    "## Test chunck\n",
    "NB: need to solve the problem of some items not having a title (these are the comments). At the current time, I solved the problem with a `try - except`."
   ],
   "metadata": {
    "collapsed": false
   },
   "id": "9c0978c01a736aa8"
  },
  {
   "cell_type": "code",
   "execution_count": 4,
   "outputs": [],
   "source": [
    "titles = []\n",
    "\n",
    "start = time.time()\n",
    "\n",
    "for i in range(1,11):\n",
    "    \n",
    "    try:\n",
    "        url_posts = 'https://stacker.news/items/%d' % (i)\n",
    "        response = requests.get(url_posts)\n",
    "        soup = BeautifulSoup(response.text, 'html.parser')\n",
    "    \n",
    "        title = soup.find_all('a', class_='item_title__FH7AS text-reset me-2')\n",
    "        \n",
    "        for e in title:\n",
    "            titles.append(e.get_text())\n",
    "        \n",
    "    except:\n",
    "        continue\n",
    "\n",
    "end = time.time()\n",
    "\n",
    "print(\"The time of execution of above program is :\",\n",
    "      (end-start), \"s\")"
   ],
   "metadata": {
    "collapsed": false,
    "ExecuteTime": {
     "end_time": "2023-10-04T07:55:47.488266126Z",
     "start_time": "2023-10-04T07:55:40.108224898Z"
    }
   },
   "id": "c1b53dd5238f1a54"
  },
  {
   "cell_type": "markdown",
   "source": [
    "## Collect post header with all the related data"
   ],
   "metadata": {
    "collapsed": false
   },
   "id": "22c54d832a42cfb6"
  },
  {
   "cell_type": "code",
   "execution_count": 47,
   "outputs": [
    {
     "name": "stdout",
     "output_type": "stream",
     "text": [
      "['El Salvador Makes Bitcoin Legal Tender', ['603 sats', ' \\\\ ', '4 boost', ' \\\\ ', ' \\\\ ', '@k00b  11 Jun 2021', ' ', '', ' ', 'bitcoin', '']]\n"
     ]
    }
   ],
   "source": [
    "url_posts = 'https://stacker.news/items/1'\n",
    "response = requests.get(url_posts)\n",
    "soup = BeautifulSoup(response.text, 'html.parser')\n",
    "\n",
    "titolo = soup.find('a', class_='item_title__FH7AS text-reset me-2').get_text()\n",
    "banner = soup.find('div', class_='item_other__MjgP3')\n",
    "\n",
    "#post_stack = banner.find('span').text\n",
    "\n",
    "banner_data = []\n",
    "\n",
    "for i in banner.find_all('span'):\n",
    "    banner_data.append(i.text)\n",
    "    \n",
    "#n_comments = soup.find('a', class_='text-reset position-relative').get_text()\n",
    "#nym_creator = banner.find('a', ) \n",
    "\n",
    "print([titolo, banner_data])\n"
   ],
   "metadata": {
    "collapsed": false,
    "ExecuteTime": {
     "end_time": "2023-10-04T15:45:46.701773660Z",
     "start_time": "2023-10-04T15:45:45.275482782Z"
    }
   },
   "id": "83f77a4a0af8c262"
  },
  {
   "cell_type": "markdown",
   "source": [
    "## Collect timestamp of post creation\n",
    "The following code scans the parsed html response looking for an `<a>` tag that has an attribute `title` matching the timestamp format in the website.\n",
    "Then it extracts it and turns it into a datetime object. "
   ],
   "metadata": {
    "collapsed": false
   },
   "id": "3ed3193d82a84bf8"
  },
  {
   "cell_type": "code",
   "execution_count": 20,
   "outputs": [
    {
     "name": "stdout",
     "output_type": "stream",
     "text": [
      "2021-06-11 19:26:02.662000\n"
     ]
    }
   ],
   "source": [
    "url_posts = 'https://stacker.news/items/1'\n",
    "response = requests.get(url_posts)\n",
    "soup = BeautifulSoup(response.text, 'html.parser')\n",
    "\n",
    "timestamp_element = soup.find('a', attrs={'title': timestamp_pattern})\n",
    "timestamp_match = timestamp_pattern.search(timestamp_element['title']).group(1)\n",
    "\n",
    "timestamp_datetime = datetime.strptime(timestamp_match, original_format)\n",
    "\n",
    "print(timestamp_datetime)\n"
   ],
   "metadata": {
    "collapsed": false,
    "ExecuteTime": {
     "end_time": "2023-10-04T16:41:01.133921699Z",
     "start_time": "2023-10-04T16:41:00.085128832Z"
    }
   },
   "id": "a4979c26e0683acb"
  },
  {
   "cell_type": "markdown",
   "source": [
    "# Scraping Items of stacker.news"
   ],
   "metadata": {
    "collapsed": false
   },
   "id": "b0413ab8459c1374"
  },
  {
   "cell_type": "code",
   "execution_count": 7,
   "outputs": [
    {
     "name": "stdout",
     "output_type": "stream",
     "text": [
      "Doing 1\n"
     ]
    },
    {
     "name": "stderr",
     "output_type": "stream",
     "text": [
      "/tmp/ipykernel_2556/2015901663.py:40: FutureWarning: Setting an item of incompatible dtype is deprecated and will raise in a future error of pandas. Value '' has dtype incompatible with float64, please explicitly cast to a compatible dtype first.\n",
      "  df.at[index, 'contenuto'] = contenuto\n"
     ]
    },
    {
     "name": "stdout",
     "output_type": "stream",
     "text": [
      "Doing 2\n",
      "Doing 3\n",
      "Doing 4\n",
      "Doing 5\n",
      "Doing 6\n",
      "Doing 7\n",
      "Doing 8\n",
      "Doing 9\n",
      "Doing 10\n",
      "Doing 11\n",
      "Doing 12\n",
      "Doing 13\n",
      "Doing 14\n",
      "Doing 15\n",
      "Doing 16\n",
      "Doing 17\n",
      "Doing 18\n",
      "Doing 19\n"
     ]
    },
    {
     "data": {
      "text/plain": "                                         titolo numero commenti    boost  \\\n0        El Salvador Makes Bitcoin Legal Tender     13 comments  4 boost   \n1                  stacker news soft launch AMA     30 comments      NaN   \n7  The Lightning Conference 2019: Alex Bosworth      2 comments      NaN   \n\n       sats                                          contenuto author  \\\n0  603 sats                                                      k00b   \n1    2 sats  Figured I'd make a place to raise questions ab...   k00b   \n7    0 sats                                                      k00b   \n\n          data  \n0  11 Jun 2021  \n1  11 Jun 2021  \n7  11 Jun 2021  ",
      "text/html": "<div>\n<style scoped>\n    .dataframe tbody tr th:only-of-type {\n        vertical-align: middle;\n    }\n\n    .dataframe tbody tr th {\n        vertical-align: top;\n    }\n\n    .dataframe thead th {\n        text-align: right;\n    }\n</style>\n<table border=\"1\" class=\"dataframe\">\n  <thead>\n    <tr style=\"text-align: right;\">\n      <th></th>\n      <th>titolo</th>\n      <th>numero commenti</th>\n      <th>boost</th>\n      <th>sats</th>\n      <th>contenuto</th>\n      <th>author</th>\n      <th>data</th>\n    </tr>\n  </thead>\n  <tbody>\n    <tr>\n      <th>0</th>\n      <td>El Salvador Makes Bitcoin Legal Tender</td>\n      <td>13 comments</td>\n      <td>4 boost</td>\n      <td>603 sats</td>\n      <td></td>\n      <td>k00b</td>\n      <td>11 Jun 2021</td>\n    </tr>\n    <tr>\n      <th>1</th>\n      <td>stacker news soft launch AMA</td>\n      <td>30 comments</td>\n      <td>NaN</td>\n      <td>2 sats</td>\n      <td>Figured I'd make a place to raise questions ab...</td>\n      <td>k00b</td>\n      <td>11 Jun 2021</td>\n    </tr>\n    <tr>\n      <th>7</th>\n      <td>The Lightning Conference 2019: Alex Bosworth</td>\n      <td>2 comments</td>\n      <td>NaN</td>\n      <td>0 sats</td>\n      <td></td>\n      <td>k00b</td>\n      <td>11 Jun 2021</td>\n    </tr>\n  </tbody>\n</table>\n</div>"
     },
     "execution_count": 7,
     "metadata": {},
     "output_type": "execute_result"
    }
   ],
   "source": [
    "df = pd.DataFrame(columns=['titolo', 'numero commenti', 'boost', 'sats', 'betha'])\n",
    "n_posts = range(1,20)\n",
    "\n",
    "for number in n_posts:\n",
    "    print(\"Doing\", number)\n",
    "    url_posts = f'https://stacker.news/items/{number}'\n",
    "    response = requests.get(url_posts)\n",
    "    soup = BeautifulSoup(response.text, 'html.parser')\n",
    "    try:\n",
    "        contenuto=soup.find('div', class_=\"item_fullItemContainer__ZAYtZ\").get_text()\n",
    "    except:\n",
    "        continue\n",
    "    try:\n",
    "        titolo = soup.find('a', class_='item_title__FH7AS text-reset me-2').get_text()\n",
    "    except:\n",
    "        continue\n",
    "    try:\n",
    "        banner = soup.find('div', class_='item_other__MjgP3')\n",
    "    except:\n",
    "        continue\n",
    "    try:\n",
    "        commento = soup.find('a', class_='text-reset position-relative').get_text()\n",
    "    except:        \n",
    "        continue\n",
    "\n",
    "    banner_data = []\n",
    "    for i in banner.find_all('span'):\n",
    "        banner_data.append(i.text)\n",
    "    index=number-1\n",
    "    for b in banner_data:\n",
    "        if \"boost\" in b:\n",
    "            df.at[index, 'boost'] = b\n",
    "        if \"sats\" in b:\n",
    "            df.at[index, 'sats'] = b\n",
    "        if \"@\" in b:\n",
    "            df.at[index, 'betha'] = b\n",
    "\n",
    "    df.at[index, 'titolo'] = titolo\n",
    "    df.at[index, 'numero commenti'] = commento\n",
    "    df.at[index, 'contenuto'] = contenuto\n",
    "\n",
    "df['author'] = df['betha'].str.extract(r'@(\\w+)')\n",
    "df['data'] = df['betha'].str.extract(r'(\\d+\\s\\w+\\s\\d+)')\n",
    "df.drop('betha', axis=1, inplace=True)\n",
    "\n",
    "df\n"
   ],
   "metadata": {
    "collapsed": false,
    "ExecuteTime": {
     "end_time": "2023-10-04T19:23:02.843857304Z",
     "start_time": "2023-10-04T19:22:36.570460482Z"
    }
   },
   "id": "dd47a5648c207ac9"
  },
  {
   "cell_type": "markdown",
   "source": [
    "# Scraping user profiles\n",
    "Users profiles are scraped starting from the list of users extracted by scraping all the items (posts+comments)\n",
    "The link to get the user profile is `https://stacker.news/$username$` "
   ],
   "metadata": {
    "collapsed": false
   },
   "id": "7771202dfaced9e6"
  },
  {
   "cell_type": "markdown",
   "source": [
    "## Modularize the code - user profile scraping\n",
    "Define functions to modularize and simplify the user profile scraping.\n",
    "The functions are defined in [](scraping_user.py) and have been tested with [](test_scraping_user.py). To run the tests open a the terminal/CMD and run the script [](/tests/test_scraping_user.py) from there, running it from a JupyterNotebook could raise errors.\n",
    "The testing script tested every function in some corner cases (missing data/request error). "
   ],
   "metadata": {
    "collapsed": false
   },
   "id": "6e52500e0ab6223e"
  }
 ],
 "metadata": {
  "kernelspec": {
   "display_name": "Python 3",
   "language": "python",
   "name": "python3"
  },
  "language_info": {
   "codemirror_mode": {
    "name": "ipython",
    "version": 2
   },
   "file_extension": ".py",
   "mimetype": "text/x-python",
   "name": "python",
   "nbconvert_exporter": "python",
   "pygments_lexer": "ipython2",
   "version": "2.7.6"
  }
 },
 "nbformat": 4,
 "nbformat_minor": 5
}
