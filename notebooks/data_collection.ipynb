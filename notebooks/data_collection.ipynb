{
 "cells": [
  {
   "cell_type": "markdown",
   "source": [
    "# Data collection activities\n",
    "All the data collection activities are automated using user defined functions retrievable in the folder `scripts`."
   ],
   "metadata": {
    "collapsed": false
   },
   "id": "8cef29dc85632b19"
  },
  {
   "cell_type": "code",
   "execution_count": 2,
   "outputs": [],
   "source": [
    "import time\n",
    "from bs4 import BeautifulSoup\n",
    "import requests as requests\n",
    "from scripts import item \n",
    "from scripts import discussion \n",
    "from scripts import link\n",
    "from scripts import comment\n",
    "from scripts import user\n",
    "from tqdm import tqdm\n",
    "import sqlite3\n",
    "import pandas as pd"
   ],
   "metadata": {
    "collapsed": false,
    "ExecuteTime": {
     "end_time": "2023-10-29T09:06:36.889301862Z",
     "start_time": "2023-10-29T09:06:35.629262463Z"
    }
   },
   "id": "initial_id"
  },
  {
   "cell_type": "markdown",
   "source": [
    "### Fix wrongly retrieved rows\n",
    "Some posts and comments have been wrongfully retieved, now they're missing the author and the amount of sats stacked.\n",
    "In order to fix the error a new scraping session is needed.\n",
    "The goal is:\n",
    "- Collect the wrongfully scraped items\n",
    "- Scrape them again with the proper setup and correct html tags"
   ],
   "metadata": {
    "collapsed": false
   },
   "id": "202cfd1101a4c7fa"
  },
  {
   "cell_type": "markdown",
   "source": [
    "#### Comments"
   ],
   "metadata": {
    "collapsed": false
   },
   "id": "3eb5bef05e1bc3d2"
  },
  {
   "cell_type": "code",
   "execution_count": 2,
   "outputs": [],
   "source": [
    "# Spot the wrongfully retrieved rows for the Comments table\n",
    "conn = sqlite3.connect('../data/stacker_news.sqlite')\n",
    "wrong_comments = \"\"\"\n",
    "SELECT *\n",
    "FROM comments\n",
    "WHERE Author=='None' AND Sats LIKE '@%';\n",
    "\"\"\"\n",
    "\n",
    "retrieve_wrong_comments = pd.read_sql(wrong_comments, conn)\n",
    "\n",
    "retrieve_wrong_comments = pd.DataFrame(retrieve_wrong_comments)\n",
    "\n",
    "conn.close()"
   ],
   "metadata": {
    "collapsed": false,
    "ExecuteTime": {
     "end_time": "2023-10-28T13:48:07.162644817Z",
     "start_time": "2023-10-28T13:48:07.105661601Z"
    }
   },
   "id": "169659a8ee44481"
  },
  {
   "cell_type": "code",
   "execution_count": 3,
   "outputs": [
    {
     "data": {
      "text/plain": "     ItemCode                                  Sats    Boost   Comments  \\\n0          28           @satoshisuncle  12 Jun 2021  1 boost    1 reply   \n1          37        @satoshisuncle  OP 14 Jun 2021     None  0 replies   \n2          64           @satoshisuncle  17 Jun 2021     None  0 replies   \n3        1312          @satoshi_std  OP 23 Aug 2021     None  0 replies   \n4        1708         @satoshisuncle  OP 3 Sep 2021     None  0 replies   \n...       ...                                   ...      ...        ...   \n1695   269426                   @designsats  28 Sep     None    1 reply   \n1696   269543  @satoshi_in_the_classroom  OP 29 Sep     None  0 replies   \n1697   269544  @satoshi_in_the_classroom  OP 29 Sep     None  0 replies   \n1698   269546  @satoshi_in_the_classroom  OP 29 Sep     None  2 replies   \n1699   269547  @satoshi_in_the_classroom  OP 29 Sep     None  0 replies   \n\n     Author      Tag            Timestamp  CommentsItemCode  \n0      None  freebie  2021-06-12 17:26:20              [29]  \n1      None  freebie  2021-06-14 18:30:33                []  \n2      None  freebie  2021-06-17 22:07:33                []  \n3      None  freebie  2021-08-23 14:30:19                []  \n4      None  freebie  2021-09-03 22:49:38                []  \n...     ...      ...                  ...               ...  \n1695   None     meta  2023-09-28 21:26:33          [269427]  \n1696   None  bitcoin  2023-09-29 04:46:06                []  \n1697   None  bitcoin  2023-09-29 04:46:19                []  \n1698   None  bitcoin  2023-09-29 04:46:43  [269550, 269552]  \n1699   None  bitcoin  2023-09-29 04:46:51                []  \n\n[1700 rows x 8 columns]",
      "text/html": "<div>\n<style scoped>\n    .dataframe tbody tr th:only-of-type {\n        vertical-align: middle;\n    }\n\n    .dataframe tbody tr th {\n        vertical-align: top;\n    }\n\n    .dataframe thead th {\n        text-align: right;\n    }\n</style>\n<table border=\"1\" class=\"dataframe\">\n  <thead>\n    <tr style=\"text-align: right;\">\n      <th></th>\n      <th>ItemCode</th>\n      <th>Sats</th>\n      <th>Boost</th>\n      <th>Comments</th>\n      <th>Author</th>\n      <th>Tag</th>\n      <th>Timestamp</th>\n      <th>CommentsItemCode</th>\n    </tr>\n  </thead>\n  <tbody>\n    <tr>\n      <th>0</th>\n      <td>28</td>\n      <td>@satoshisuncle  12 Jun 2021</td>\n      <td>1 boost</td>\n      <td>1 reply</td>\n      <td>None</td>\n      <td>freebie</td>\n      <td>2021-06-12 17:26:20</td>\n      <td>[29]</td>\n    </tr>\n    <tr>\n      <th>1</th>\n      <td>37</td>\n      <td>@satoshisuncle  OP 14 Jun 2021</td>\n      <td>None</td>\n      <td>0 replies</td>\n      <td>None</td>\n      <td>freebie</td>\n      <td>2021-06-14 18:30:33</td>\n      <td>[]</td>\n    </tr>\n    <tr>\n      <th>2</th>\n      <td>64</td>\n      <td>@satoshisuncle  17 Jun 2021</td>\n      <td>None</td>\n      <td>0 replies</td>\n      <td>None</td>\n      <td>freebie</td>\n      <td>2021-06-17 22:07:33</td>\n      <td>[]</td>\n    </tr>\n    <tr>\n      <th>3</th>\n      <td>1312</td>\n      <td>@satoshi_std  OP 23 Aug 2021</td>\n      <td>None</td>\n      <td>0 replies</td>\n      <td>None</td>\n      <td>freebie</td>\n      <td>2021-08-23 14:30:19</td>\n      <td>[]</td>\n    </tr>\n    <tr>\n      <th>4</th>\n      <td>1708</td>\n      <td>@satoshisuncle  OP 3 Sep 2021</td>\n      <td>None</td>\n      <td>0 replies</td>\n      <td>None</td>\n      <td>freebie</td>\n      <td>2021-09-03 22:49:38</td>\n      <td>[]</td>\n    </tr>\n    <tr>\n      <th>...</th>\n      <td>...</td>\n      <td>...</td>\n      <td>...</td>\n      <td>...</td>\n      <td>...</td>\n      <td>...</td>\n      <td>...</td>\n      <td>...</td>\n    </tr>\n    <tr>\n      <th>1695</th>\n      <td>269426</td>\n      <td>@designsats  28 Sep</td>\n      <td>None</td>\n      <td>1 reply</td>\n      <td>None</td>\n      <td>meta</td>\n      <td>2023-09-28 21:26:33</td>\n      <td>[269427]</td>\n    </tr>\n    <tr>\n      <th>1696</th>\n      <td>269543</td>\n      <td>@satoshi_in_the_classroom  OP 29 Sep</td>\n      <td>None</td>\n      <td>0 replies</td>\n      <td>None</td>\n      <td>bitcoin</td>\n      <td>2023-09-29 04:46:06</td>\n      <td>[]</td>\n    </tr>\n    <tr>\n      <th>1697</th>\n      <td>269544</td>\n      <td>@satoshi_in_the_classroom  OP 29 Sep</td>\n      <td>None</td>\n      <td>0 replies</td>\n      <td>None</td>\n      <td>bitcoin</td>\n      <td>2023-09-29 04:46:19</td>\n      <td>[]</td>\n    </tr>\n    <tr>\n      <th>1698</th>\n      <td>269546</td>\n      <td>@satoshi_in_the_classroom  OP 29 Sep</td>\n      <td>None</td>\n      <td>2 replies</td>\n      <td>None</td>\n      <td>bitcoin</td>\n      <td>2023-09-29 04:46:43</td>\n      <td>[269550, 269552]</td>\n    </tr>\n    <tr>\n      <th>1699</th>\n      <td>269547</td>\n      <td>@satoshi_in_the_classroom  OP 29 Sep</td>\n      <td>None</td>\n      <td>0 replies</td>\n      <td>None</td>\n      <td>bitcoin</td>\n      <td>2023-09-29 04:46:51</td>\n      <td>[]</td>\n    </tr>\n  </tbody>\n</table>\n<p>1700 rows × 8 columns</p>\n</div>"
     },
     "execution_count": 3,
     "metadata": {},
     "output_type": "execute_result"
    }
   ],
   "source": [
    "retrieve_wrong_comments"
   ],
   "metadata": {
    "collapsed": false,
    "ExecuteTime": {
     "end_time": "2023-10-28T13:48:11.330027072Z",
     "start_time": "2023-10-28T13:48:11.307249350Z"
    }
   },
   "id": "42077e0f3912863b"
  },
  {
   "cell_type": "markdown",
   "source": [
    "#### Posts"
   ],
   "metadata": {
    "collapsed": false
   },
   "id": "6d95606aeb50c32d"
  },
  {
   "cell_type": "code",
   "execution_count": 4,
   "outputs": [],
   "source": [
    "# Spot the wrongfully retrieved rows for the Post table\n",
    "conn = sqlite3.connect('../data/stacker_news.sqlite')\n",
    "\n",
    "wrong_posts = \"\"\"\n",
    "SELECT *\n",
    "FROM post\n",
    "WHERE Author=='None' AND Sats LIKE '@%';\n",
    "\"\"\"\n",
    "\n",
    "retrieve_wrong_posts = pd.read_sql(wrong_posts, conn)\n",
    "\n",
    "retrieve_wrong_posts = pd.DataFrame(retrieve_wrong_posts)\n",
    "\n",
    "conn.close()"
   ],
   "metadata": {
    "collapsed": false,
    "ExecuteTime": {
     "end_time": "2023-10-28T13:48:23.280435780Z",
     "start_time": "2023-10-28T13:48:23.240012024Z"
    }
   },
   "id": "3bbf67b24007cdf0"
  },
  {
   "cell_type": "code",
   "execution_count": 5,
   "outputs": [
    {
     "data": {
      "text/plain": "                                                  Title    Category ItemCode  \\\n0                                     Fedcoin is coming        link       31   \n1     Why Altcoins aren't copying Taproot. Bitcoin T...        link       34   \n2                       Bitrefill's Work in El Salvador        link       35   \n3        3 Ways El Salvador Has Changed Bitcoin Forever        link       36   \n4     Lightning Builder's Guide: Understanding Liqui...        link       92   \n...                                                 ...         ...      ...   \n1126  Tether Bitcoin Mining Moria Instrument Demonst...        link   268075   \n1127  Hopes Of A Spot Bitcoin ETF Dashed As SEC Agai...        link   268337   \n1128  A reminder to purposely USE Bitcoin and Lightn...  discussion   268523   \n1129  What Happens When Bitcoin Miners Mine an Inval...        link   268678   \n1130      Go to a Bitcoin meetup!!!! (Or organize one!)  discussion   269031   \n\n                                   Sats Boost     Comments Author      Tag  \\\n0           @satoshisuncle  13 Jun 2021  None   2 comments   None  bitcoin   \n1           @satoshisuncle  14 Jun 2021  None   0 comments   None  bitcoin   \n2           @satoshisuncle  14 Jun 2021  None   0 comments   None  bitcoin   \n3           @satoshisuncle  14 Jun 2021  None    1 comment   None  bitcoin   \n4           @satoshisuncle  25 Jun 2021  None    1 comment   None  bitcoin   \n...                                 ...   ...          ...    ...      ...   \n1126                 @satsyoshi  27 Sep  None    1 comment   None  bitcoin   \n1127                 @satsyoshi  27 Sep  None   3 comments   None  bitcoin   \n1128  @satoshi_in_the_classroom  27 Sep  None   8 comments   None  bitcoin   \n1129                 @satsyoshi  27 Sep  None    1 comment   None  bitcoin   \n1130  @satoshi_in_the_classroom  28 Sep  None  30 comments   None  bitcoin   \n\n                Timestamp MainLink  \\\n0     2021-06-13 15:36:08     None   \n1     2021-06-14 18:17:21     None   \n2     2021-06-14 18:23:46     None   \n3     2021-06-14 18:27:33     None   \n4     2021-06-25 18:01:11     None   \n...                   ...      ...   \n1126  2023-09-27 14:13:14     None   \n1127  2023-09-27 15:53:04     None   \n1128  2023-09-27 18:39:05     None   \n1129  2023-09-27 23:07:00     None   \n1130  2023-09-28 14:10:03     None   \n\n                                              BodyLinks SatsReceivedComments  \\\n0     ['https://www.politico.com/news/2021/06/12/fed...                1 sat   \n1     ['https://jimmysong.substack.com/p/why-altcoin...                 None   \n2     ['https://twitter.com/bitrefill/status/1402624...                 None   \n3     ['https://medium.com/tantra-labs/3-ways-el-sal...               0 sats   \n4     ['https://docs.lightning.engineering/the-light...                1 sat   \n...                                                 ...                  ...   \n1126  ['https://u.today/tether-bitcoin-mining-moria-...               0 sats   \n1127  ['https://zycrypto.com/hopes-of-a-spot-bitcoin...               0 sats   \n1128                                                 []              35 sats   \n1129  ['https://beincrypto.com/marathon-digital-mine...               0 sats   \n1130  ['https://www.nnva.gov/', 'https://btcmap.org/...            1055 sats   \n\n                                       CommentsItemCode  \n0                                              [32, 46]  \n1                                                    []  \n2                                                    []  \n3                                                  [37]  \n4                                                  [98]  \n...                                                 ...  \n1126                                           [268103]  \n1127                           [268415, 268399, 268346]  \n1128  [268529, 268627, 268628, 268549, 268629, 26863...  \n1129                                           [268680]  \n1130  [269253, 269268, 269416, 269543, 269548, 26955...  \n\n[1131 rows x 13 columns]",
      "text/html": "<div>\n<style scoped>\n    .dataframe tbody tr th:only-of-type {\n        vertical-align: middle;\n    }\n\n    .dataframe tbody tr th {\n        vertical-align: top;\n    }\n\n    .dataframe thead th {\n        text-align: right;\n    }\n</style>\n<table border=\"1\" class=\"dataframe\">\n  <thead>\n    <tr style=\"text-align: right;\">\n      <th></th>\n      <th>Title</th>\n      <th>Category</th>\n      <th>ItemCode</th>\n      <th>Sats</th>\n      <th>Boost</th>\n      <th>Comments</th>\n      <th>Author</th>\n      <th>Tag</th>\n      <th>Timestamp</th>\n      <th>MainLink</th>\n      <th>BodyLinks</th>\n      <th>SatsReceivedComments</th>\n      <th>CommentsItemCode</th>\n    </tr>\n  </thead>\n  <tbody>\n    <tr>\n      <th>0</th>\n      <td>Fedcoin is coming</td>\n      <td>link</td>\n      <td>31</td>\n      <td>@satoshisuncle  13 Jun 2021</td>\n      <td>None</td>\n      <td>2 comments</td>\n      <td>None</td>\n      <td>bitcoin</td>\n      <td>2021-06-13 15:36:08</td>\n      <td>None</td>\n      <td>['https://www.politico.com/news/2021/06/12/fed...</td>\n      <td>1 sat</td>\n      <td>[32, 46]</td>\n    </tr>\n    <tr>\n      <th>1</th>\n      <td>Why Altcoins aren't copying Taproot. Bitcoin T...</td>\n      <td>link</td>\n      <td>34</td>\n      <td>@satoshisuncle  14 Jun 2021</td>\n      <td>None</td>\n      <td>0 comments</td>\n      <td>None</td>\n      <td>bitcoin</td>\n      <td>2021-06-14 18:17:21</td>\n      <td>None</td>\n      <td>['https://jimmysong.substack.com/p/why-altcoin...</td>\n      <td>None</td>\n      <td>[]</td>\n    </tr>\n    <tr>\n      <th>2</th>\n      <td>Bitrefill's Work in El Salvador</td>\n      <td>link</td>\n      <td>35</td>\n      <td>@satoshisuncle  14 Jun 2021</td>\n      <td>None</td>\n      <td>0 comments</td>\n      <td>None</td>\n      <td>bitcoin</td>\n      <td>2021-06-14 18:23:46</td>\n      <td>None</td>\n      <td>['https://twitter.com/bitrefill/status/1402624...</td>\n      <td>None</td>\n      <td>[]</td>\n    </tr>\n    <tr>\n      <th>3</th>\n      <td>3 Ways El Salvador Has Changed Bitcoin Forever</td>\n      <td>link</td>\n      <td>36</td>\n      <td>@satoshisuncle  14 Jun 2021</td>\n      <td>None</td>\n      <td>1 comment</td>\n      <td>None</td>\n      <td>bitcoin</td>\n      <td>2021-06-14 18:27:33</td>\n      <td>None</td>\n      <td>['https://medium.com/tantra-labs/3-ways-el-sal...</td>\n      <td>0 sats</td>\n      <td>[37]</td>\n    </tr>\n    <tr>\n      <th>4</th>\n      <td>Lightning Builder's Guide: Understanding Liqui...</td>\n      <td>link</td>\n      <td>92</td>\n      <td>@satoshisuncle  25 Jun 2021</td>\n      <td>None</td>\n      <td>1 comment</td>\n      <td>None</td>\n      <td>bitcoin</td>\n      <td>2021-06-25 18:01:11</td>\n      <td>None</td>\n      <td>['https://docs.lightning.engineering/the-light...</td>\n      <td>1 sat</td>\n      <td>[98]</td>\n    </tr>\n    <tr>\n      <th>...</th>\n      <td>...</td>\n      <td>...</td>\n      <td>...</td>\n      <td>...</td>\n      <td>...</td>\n      <td>...</td>\n      <td>...</td>\n      <td>...</td>\n      <td>...</td>\n      <td>...</td>\n      <td>...</td>\n      <td>...</td>\n      <td>...</td>\n    </tr>\n    <tr>\n      <th>1126</th>\n      <td>Tether Bitcoin Mining Moria Instrument Demonst...</td>\n      <td>link</td>\n      <td>268075</td>\n      <td>@satsyoshi  27 Sep</td>\n      <td>None</td>\n      <td>1 comment</td>\n      <td>None</td>\n      <td>bitcoin</td>\n      <td>2023-09-27 14:13:14</td>\n      <td>None</td>\n      <td>['https://u.today/tether-bitcoin-mining-moria-...</td>\n      <td>0 sats</td>\n      <td>[268103]</td>\n    </tr>\n    <tr>\n      <th>1127</th>\n      <td>Hopes Of A Spot Bitcoin ETF Dashed As SEC Agai...</td>\n      <td>link</td>\n      <td>268337</td>\n      <td>@satsyoshi  27 Sep</td>\n      <td>None</td>\n      <td>3 comments</td>\n      <td>None</td>\n      <td>bitcoin</td>\n      <td>2023-09-27 15:53:04</td>\n      <td>None</td>\n      <td>['https://zycrypto.com/hopes-of-a-spot-bitcoin...</td>\n      <td>0 sats</td>\n      <td>[268415, 268399, 268346]</td>\n    </tr>\n    <tr>\n      <th>1128</th>\n      <td>A reminder to purposely USE Bitcoin and Lightn...</td>\n      <td>discussion</td>\n      <td>268523</td>\n      <td>@satoshi_in_the_classroom  27 Sep</td>\n      <td>None</td>\n      <td>8 comments</td>\n      <td>None</td>\n      <td>bitcoin</td>\n      <td>2023-09-27 18:39:05</td>\n      <td>None</td>\n      <td>[]</td>\n      <td>35 sats</td>\n      <td>[268529, 268627, 268628, 268549, 268629, 26863...</td>\n    </tr>\n    <tr>\n      <th>1129</th>\n      <td>What Happens When Bitcoin Miners Mine an Inval...</td>\n      <td>link</td>\n      <td>268678</td>\n      <td>@satsyoshi  27 Sep</td>\n      <td>None</td>\n      <td>1 comment</td>\n      <td>None</td>\n      <td>bitcoin</td>\n      <td>2023-09-27 23:07:00</td>\n      <td>None</td>\n      <td>['https://beincrypto.com/marathon-digital-mine...</td>\n      <td>0 sats</td>\n      <td>[268680]</td>\n    </tr>\n    <tr>\n      <th>1130</th>\n      <td>Go to a Bitcoin meetup!!!! (Or organize one!)</td>\n      <td>discussion</td>\n      <td>269031</td>\n      <td>@satoshi_in_the_classroom  28 Sep</td>\n      <td>None</td>\n      <td>30 comments</td>\n      <td>None</td>\n      <td>bitcoin</td>\n      <td>2023-09-28 14:10:03</td>\n      <td>None</td>\n      <td>['https://www.nnva.gov/', 'https://btcmap.org/...</td>\n      <td>1055 sats</td>\n      <td>[269253, 269268, 269416, 269543, 269548, 26955...</td>\n    </tr>\n  </tbody>\n</table>\n<p>1131 rows × 13 columns</p>\n</div>"
     },
     "execution_count": 5,
     "metadata": {},
     "output_type": "execute_result"
    }
   ],
   "source": [
    "retrieve_wrong_posts"
   ],
   "metadata": {
    "collapsed": false,
    "ExecuteTime": {
     "end_time": "2023-10-28T13:48:40.459160833Z",
     "start_time": "2023-10-28T13:48:40.409754887Z"
    }
   },
   "id": "c6eb810a93a15c51"
  },
  {
   "cell_type": "markdown",
   "source": [
    "#### General list of items that must be scraped again"
   ],
   "metadata": {
    "collapsed": false
   },
   "id": "4d36537c3f91813e"
  },
  {
   "cell_type": "code",
   "execution_count": 6,
   "outputs": [],
   "source": [
    "retrieve = list(retrieve_wrong_posts['ItemCode']) + list(retrieve_wrong_comments['ItemCode'])"
   ],
   "metadata": {
    "collapsed": false,
    "ExecuteTime": {
     "end_time": "2023-10-28T13:48:43.951915117Z",
     "start_time": "2023-10-28T13:48:43.945890930Z"
    }
   },
   "id": "79ce6f7b5caa9e4b"
  },
  {
   "cell_type": "code",
   "execution_count": 7,
   "outputs": [],
   "source": [
    "# Queries for entry insertion in tables\n",
    "insert_comment = \"\"\"\n",
    "INSERT OR IGNORE INTO comments (\n",
    "    ItemCode,\n",
    "    Sats,\n",
    "    Boost,\n",
    "    Comments,\n",
    "    Author,\n",
    "    Tag,\n",
    "    Timestamp,\n",
    "    CommentsItemCode\n",
    "    ) values (?, ?, ?, ?, ?, ?, ?, ?)\n",
    "\"\"\"\n",
    "\n",
    "insert_post = \"\"\"\n",
    "INSERT OR IGNORE INTO post (\n",
    "    Title,\n",
    "    Category,\n",
    "    ItemCode,\n",
    "    Sats,\n",
    "    Boost,\n",
    "    Comments,\n",
    "    Author,\n",
    "    Tag,\n",
    "    Timestamp,\n",
    "    MainLink,\n",
    "    BodyLinks,\n",
    "    SatsReceivedComments,\n",
    "    CommentsItemCode\n",
    "    ) values (?, ?, ?, ?, ?, ?, ?, ?, ?, ?, ?, ?, ?)\n",
    "\"\"\"\n",
    "\n",
    "insert_exception = \"\"\"\n",
    "INSERT OR IGNORE INTO exceptions (\n",
    "    RequestResult,\n",
    "    ItemCode,\n",
    "    Soup\n",
    "    ) values (?, ?, ?)\n",
    "\"\"\""
   ],
   "metadata": {
    "collapsed": false,
    "ExecuteTime": {
     "end_time": "2023-10-28T13:48:52.872790767Z",
     "start_time": "2023-10-28T13:48:52.864310714Z"
    }
   },
   "id": "bd25d902b8ebfc1a"
  },
  {
   "cell_type": "markdown",
   "source": [
    "### Setup the fixing functions"
   ],
   "metadata": {
    "collapsed": false
   },
   "id": "cf6ab16922a13613"
  },
  {
   "cell_type": "code",
   "execution_count": 8,
   "outputs": [
    {
     "name": "stderr",
     "output_type": "stream",
     "text": [
      "100%|██████████| 2831/2831 [31:23<00:00,  1.50it/s]\n"
     ]
    }
   ],
   "source": [
    "conn = sqlite3.connect('../data/stacker_news.sqlite')\n",
    "cur = conn.cursor()\n",
    "\n",
    "for i in tqdm(retrieve):\n",
    "    try:\n",
    "        # Provided a string returns a bs4.BeautifulSoup object\n",
    "        url_posts = f'https://stacker.news/items/{i}'\n",
    "        response = requests.get(url_posts)\n",
    "        response.raise_for_status()\n",
    "        soup = BeautifulSoup(response.text, 'html.parser')\n",
    "\n",
    "        if item.detect_item_type(i, soup) == 'comment':\n",
    "            # Insert every new entry into a new row in the provided DB\n",
    "            entry = (str(i),\n",
    "                     str(comment.extract_banner(soup)['sats']),\n",
    "                     str(comment.extract_banner(soup)['boost']),\n",
    "                     str(comment.extract_banner(soup)['comments']),\n",
    "                     str(comment.extract_banner(soup)['author']),\n",
    "                     str(comment.extract_banner(soup)['tag']),\n",
    "                     str(comment.extract_banner(soup)['timestamp']),\n",
    "                     str(comment.extract_comment_item_code(soup))\n",
    "                     )\n",
    "            try:\n",
    "                cur.execute(insert_comment, entry)\n",
    "            except:\n",
    "                print(f'Error while inserting the comment item {i} in the database')\n",
    "\n",
    "        elif item.detect_item_type(i, soup) == 'link':\n",
    "            # Appends every new profile to a csv file in the provided path\n",
    "            entry = (str(link.extract_title(soup)),\n",
    "                     str(item.detect_item_type(i, soup)),\n",
    "                     str(i),\n",
    "                     str(link.extract_banner(soup)['sats']),\n",
    "                     str(link.extract_banner(soup)['boost']),\n",
    "                     str(link.extract_banner(soup)['comments']),\n",
    "                     str(link.extract_banner(soup)['author']),\n",
    "                     str(link.extract_banner(soup)['tag']),\n",
    "                     str(link.extract_banner(soup)['timestamp']),\n",
    "                     str(link.extract_link(soup)),\n",
    "                     str(link.extract_body_links(soup)),\n",
    "                     str(link.extract_comment_stacked(soup)),\n",
    "                     str(link.extract_comment_item_code(soup))\n",
    "                     )\n",
    "            try:\n",
    "                cur.execute(insert_post, entry)\n",
    "            except:\n",
    "                print(f'Error while inserting the link item {i} in the database')\n",
    "\n",
    "        elif item.detect_item_type(i, soup) in ['discussion', 'poll', 'bounty']:\n",
    "            entry = (str(discussion.extract_title(soup)),\n",
    "                     str(item.detect_item_type(i, soup)),\n",
    "                     str(i),\n",
    "                     str(discussion.extract_banner(soup)['sats']),\n",
    "                     str(discussion.extract_banner(soup)['boost']),\n",
    "                     str(discussion.extract_banner(soup)['comments']),\n",
    "                     str(discussion.extract_banner(soup)['author']),\n",
    "                     str(discussion.extract_banner(soup)['tag']),\n",
    "                     str(discussion.extract_banner(soup)['timestamp']),\n",
    "                     None,\n",
    "                     str(discussion.extract_body_links(soup)),\n",
    "                     str(discussion.extract_comment_stacked(soup)),\n",
    "                     str(discussion.extract_comment_item_code(soup))\n",
    "                     )\n",
    "\n",
    "            # Appends every new profile to a csv file in the provided path\n",
    "            try:\n",
    "                cur.execute(insert_post, entry)\n",
    "            except:\n",
    "                print(f'Error while inserting the post item {i} in the database')\n",
    "\n",
    "        if i % 1000 == 0:\n",
    "            conn.commit()\n",
    "            time.sleep(0.5)\n",
    "            continue\n",
    "    except:\n",
    "\n",
    "        try:\n",
    "            exception_entry = (\n",
    "                str(response),\n",
    "                str(i),\n",
    "                str(soup)\n",
    "            )\n",
    "\n",
    "            cur.execute(insert_exception, exception_entry)\n",
    "\n",
    "            # If the request is not authorized than stop the scraping because I've been probably blocked\n",
    "            if response.status_code == 403 or response.status_code == 401:\n",
    "                exit()\n",
    "        except:\n",
    "            continue\n",
    "\n",
    "# Final commit\n",
    "conn.commit()\n",
    "\n",
    "# Close connection to DB\n",
    "cur.close()\n",
    "conn.close()"
   ],
   "metadata": {
    "collapsed": false,
    "ExecuteTime": {
     "end_time": "2023-10-28T14:20:42.872206229Z",
     "start_time": "2023-10-28T13:49:19.285596627Z"
    }
   },
   "id": "10a560fe55161c47"
  },
  {
   "cell_type": "markdown",
   "source": [
    "## Profile scraping\n",
    "\n",
    "**NB**: this code must be run after the end of the whole scraping activity because an `unique(author)` is needed in order to scrape all the user profiles in the forum. \n",
    "\n",
    "**The `unique(author)` must be the result of a `UNION ALL` between the tables.**"
   ],
   "metadata": {
    "collapsed": false
   },
   "id": "45340082a7ccf465"
  },
  {
   "cell_type": "code",
   "execution_count": 3,
   "outputs": [],
   "source": [
    "conn = sqlite3.connect('../data/stacker_news.sqlite')\n",
    "\n",
    "query = \"\"\"\n",
    "SELECT DISTINCT Author\n",
    "FROM (\n",
    "    SELECT Author\n",
    "    FROM comments\n",
    "    UNION ALL\n",
    "    SELECT Author\n",
    "    FROM post\n",
    "     );\n",
    "\"\"\"\n",
    "\n",
    "sql_query = pd.read_sql(query, conn)\n",
    "result = pd.DataFrame(sql_query,\n",
    "                      columns=['Author'])\n",
    "\n",
    "conn.close()\n"
   ],
   "metadata": {
    "collapsed": false,
    "ExecuteTime": {
     "end_time": "2023-10-29T09:06:45.009481782Z",
     "start_time": "2023-10-29T09:06:44.099787945Z"
    }
   },
   "id": "cdcc38ce64f686ee"
  },
  {
   "cell_type": "code",
   "execution_count": 5,
   "outputs": [],
   "source": [
    "conn = sqlite3.connect('../data/stacker_news.sqlite')\n",
    "cur = conn.cursor()\n",
    "\n",
    "sql_user = \"\"\"\n",
    "DROP TABLE IF EXISTS user;\n",
    "CREATE TABLE user (\n",
    "    User TEXT,\n",
    "    TotalStacked TEXT,\n",
    "    FirstItem TEXT,\n",
    "    HatStreak TEXT,\n",
    "    NumItems TEXT,\n",
    "    PRIMARY KEY (User))\n",
    "\"\"\"\n",
    "\n",
    "cur.executescript(sql_user)\n",
    "\n",
    "conn.commit()\n",
    "conn.close()"
   ],
   "metadata": {
    "collapsed": false,
    "ExecuteTime": {
     "end_time": "2023-10-29T09:06:59.446094164Z",
     "start_time": "2023-10-29T09:06:59.418622612Z"
    }
   },
   "id": "df16eb4fc5e6b153"
  },
  {
   "cell_type": "code",
   "execution_count": 6,
   "outputs": [],
   "source": [
    "insert_user = \"\"\"\n",
    "INSERT INTO user (\n",
    "    User,\n",
    "    TotalStacked,\n",
    "    FirstItem,\n",
    "    HatStreak,\n",
    "    NumItems\n",
    "    ) values (?, ?, ?, ?, ?)\n",
    "\"\"\""
   ],
   "metadata": {
    "collapsed": false,
    "ExecuteTime": {
     "end_time": "2023-10-29T09:07:43.410623439Z",
     "start_time": "2023-10-29T09:07:43.400879440Z"
    }
   },
   "id": "ba0d83ffa888f3fe"
  },
  {
   "cell_type": "code",
   "execution_count": 7,
   "outputs": [
    {
     "name": "stderr",
     "output_type": "stream",
     "text": [
      "100%|██████████| 5883/5883 [1:03:41<00:00,  1.54it/s]\n"
     ]
    }
   ],
   "source": [
    "conn = sqlite3.connect('../data/stacker_news.sqlite')\n",
    "cur = conn.cursor()\n",
    "\n",
    "for i in tqdm(result['Author']):\n",
    "    try:\n",
    "        profile_data = user.get_profile(i)\n",
    "        entry = (\n",
    "            str(profile_data[0]),\n",
    "            str(profile_data[1]),\n",
    "            str(profile_data[2]),\n",
    "            str(profile_data[3]),\n",
    "            str(profile_data[4])\n",
    "        )\n",
    "        try:\n",
    "            cur.execute(insert_user, entry)\n",
    "        except:\n",
    "            continue\n",
    "    except:\n",
    "        continue\n",
    "\n",
    "conn.commit()\n",
    "cur.close()\n",
    "conn.close()"
   ],
   "metadata": {
    "collapsed": false,
    "ExecuteTime": {
     "end_time": "2023-10-29T10:11:27.011076619Z",
     "start_time": "2023-10-29T09:07:45.322467606Z"
    }
   },
   "id": "c9be74d662451a6"
  }
 ],
 "metadata": {
  "kernelspec": {
   "display_name": "Python 3",
   "language": "python",
   "name": "python3"
  },
  "language_info": {
   "codemirror_mode": {
    "name": "ipython",
    "version": 2
   },
   "file_extension": ".py",
   "mimetype": "text/x-python",
   "name": "python",
   "nbconvert_exporter": "python",
   "pygments_lexer": "ipython2",
   "version": "2.7.6"
  }
 },
 "nbformat": 4,
 "nbformat_minor": 5
}
