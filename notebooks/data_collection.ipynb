{
 "cells": [
  {
   "cell_type": "markdown",
   "source": [
    "# Data collection activities\n",
    "All the data collection activities are automated using user defined functions retrievable in the folder `scripts`."
   ],
   "metadata": {
    "collapsed": false
   },
   "id": "8cef29dc85632b19"
  },
  {
   "cell_type": "code",
   "execution_count": 1,
   "outputs": [],
   "source": [
    "import re\n",
    "import time\n",
    "from bs4 import BeautifulSoup\n",
    "import requests as requests\n",
    "from scripts import item \n",
    "from scripts import discussion \n",
    "from scripts import link\n",
    "from scripts import comment\n",
    "from scripts import user\n",
    "from tqdm import tqdm\n",
    "import sqlite3\n",
    "import pandas as pd"
   ],
   "metadata": {
    "collapsed": false,
    "ExecuteTime": {
     "end_time": "2023-10-28T12:02:53.612392926Z",
     "start_time": "2023-10-28T12:02:53.068560502Z"
    }
   },
   "id": "initial_id"
  },
  {
   "cell_type": "markdown",
   "source": [
    "### Fix wrongly retrieved rows\n",
    "Some posts and comments have been wrongfully retieved, now they're missing the author and the amount of sats stacked.\n",
    "In order to fix the error a new scraping session is needed.\n",
    "The goal is:\n",
    "- Collect the wrongfully scraped items\n",
    "- Scrape them again with the proper setup and correct html tags"
   ],
   "metadata": {
    "collapsed": false
   },
   "id": "202cfd1101a4c7fa"
  },
  {
   "cell_type": "markdown",
   "source": [
    "#### Comments"
   ],
   "metadata": {
    "collapsed": false
   },
   "id": "3eb5bef05e1bc3d2"
  },
  {
   "cell_type": "code",
   "execution_count": 2,
   "outputs": [],
   "source": [
    "# Spot the wrongfully retrieved rows for the Comments table\n",
    "conn = sqlite3.connect('../data/stacker_news.sqlite')\n",
    "\n",
    "wrong_comments = \"\"\"\n",
    "SELECT *\n",
    "FROM comments\n",
    "WHERE Author=='None' AND Sats LIKE '@%';\n",
    "\"\"\"\n",
    "\n",
    "retrieve_wrong_comments = pd.read_sql(wrong_comments, conn)\n",
    "\n",
    "retrieve_wrong_comments = pd.DataFrame(retrieve_wrong_comments)\n",
    "\n",
    "conn.close()"
   ],
   "metadata": {
    "collapsed": false,
    "ExecuteTime": {
     "end_time": "2023-10-28T12:02:56.348894715Z",
     "start_time": "2023-10-28T12:02:56.295039159Z"
    }
   },
   "id": "169659a8ee44481"
  },
  {
   "cell_type": "code",
   "execution_count": 3,
   "outputs": [
    {
     "data": {
      "text/plain": "     ItemCode                                  Sats    Boost   Comments  \\\n0          28           @satoshisuncle  12 Jun 2021  1 boost    1 reply   \n1          37        @satoshisuncle  OP 14 Jun 2021     None  0 replies   \n2          64           @satoshisuncle  17 Jun 2021     None  0 replies   \n3        1312          @satoshi_std  OP 23 Aug 2021     None  0 replies   \n4        1708         @satoshisuncle  OP 3 Sep 2021     None  0 replies   \n...       ...                                   ...      ...        ...   \n1695   269426                   @designsats  28 Sep     None    1 reply   \n1696   269543  @satoshi_in_the_classroom  OP 29 Sep     None  0 replies   \n1697   269544  @satoshi_in_the_classroom  OP 29 Sep     None  0 replies   \n1698   269546  @satoshi_in_the_classroom  OP 29 Sep     None  2 replies   \n1699   269547  @satoshi_in_the_classroom  OP 29 Sep     None  0 replies   \n\n     Author      Tag            Timestamp  CommentsItemCode  \n0      None  freebie  2021-06-12 17:26:20              [29]  \n1      None  freebie  2021-06-14 18:30:33                []  \n2      None  freebie  2021-06-17 22:07:33                []  \n3      None  freebie  2021-08-23 14:30:19                []  \n4      None  freebie  2021-09-03 22:49:38                []  \n...     ...      ...                  ...               ...  \n1695   None     meta  2023-09-28 21:26:33          [269427]  \n1696   None  bitcoin  2023-09-29 04:46:06                []  \n1697   None  bitcoin  2023-09-29 04:46:19                []  \n1698   None  bitcoin  2023-09-29 04:46:43  [269550, 269552]  \n1699   None  bitcoin  2023-09-29 04:46:51                []  \n\n[1700 rows x 8 columns]",
      "text/html": "<div>\n<style scoped>\n    .dataframe tbody tr th:only-of-type {\n        vertical-align: middle;\n    }\n\n    .dataframe tbody tr th {\n        vertical-align: top;\n    }\n\n    .dataframe thead th {\n        text-align: right;\n    }\n</style>\n<table border=\"1\" class=\"dataframe\">\n  <thead>\n    <tr style=\"text-align: right;\">\n      <th></th>\n      <th>ItemCode</th>\n      <th>Sats</th>\n      <th>Boost</th>\n      <th>Comments</th>\n      <th>Author</th>\n      <th>Tag</th>\n      <th>Timestamp</th>\n      <th>CommentsItemCode</th>\n    </tr>\n  </thead>\n  <tbody>\n    <tr>\n      <th>0</th>\n      <td>28</td>\n      <td>@satoshisuncle  12 Jun 2021</td>\n      <td>1 boost</td>\n      <td>1 reply</td>\n      <td>None</td>\n      <td>freebie</td>\n      <td>2021-06-12 17:26:20</td>\n      <td>[29]</td>\n    </tr>\n    <tr>\n      <th>1</th>\n      <td>37</td>\n      <td>@satoshisuncle  OP 14 Jun 2021</td>\n      <td>None</td>\n      <td>0 replies</td>\n      <td>None</td>\n      <td>freebie</td>\n      <td>2021-06-14 18:30:33</td>\n      <td>[]</td>\n    </tr>\n    <tr>\n      <th>2</th>\n      <td>64</td>\n      <td>@satoshisuncle  17 Jun 2021</td>\n      <td>None</td>\n      <td>0 replies</td>\n      <td>None</td>\n      <td>freebie</td>\n      <td>2021-06-17 22:07:33</td>\n      <td>[]</td>\n    </tr>\n    <tr>\n      <th>3</th>\n      <td>1312</td>\n      <td>@satoshi_std  OP 23 Aug 2021</td>\n      <td>None</td>\n      <td>0 replies</td>\n      <td>None</td>\n      <td>freebie</td>\n      <td>2021-08-23 14:30:19</td>\n      <td>[]</td>\n    </tr>\n    <tr>\n      <th>4</th>\n      <td>1708</td>\n      <td>@satoshisuncle  OP 3 Sep 2021</td>\n      <td>None</td>\n      <td>0 replies</td>\n      <td>None</td>\n      <td>freebie</td>\n      <td>2021-09-03 22:49:38</td>\n      <td>[]</td>\n    </tr>\n    <tr>\n      <th>...</th>\n      <td>...</td>\n      <td>...</td>\n      <td>...</td>\n      <td>...</td>\n      <td>...</td>\n      <td>...</td>\n      <td>...</td>\n      <td>...</td>\n    </tr>\n    <tr>\n      <th>1695</th>\n      <td>269426</td>\n      <td>@designsats  28 Sep</td>\n      <td>None</td>\n      <td>1 reply</td>\n      <td>None</td>\n      <td>meta</td>\n      <td>2023-09-28 21:26:33</td>\n      <td>[269427]</td>\n    </tr>\n    <tr>\n      <th>1696</th>\n      <td>269543</td>\n      <td>@satoshi_in_the_classroom  OP 29 Sep</td>\n      <td>None</td>\n      <td>0 replies</td>\n      <td>None</td>\n      <td>bitcoin</td>\n      <td>2023-09-29 04:46:06</td>\n      <td>[]</td>\n    </tr>\n    <tr>\n      <th>1697</th>\n      <td>269544</td>\n      <td>@satoshi_in_the_classroom  OP 29 Sep</td>\n      <td>None</td>\n      <td>0 replies</td>\n      <td>None</td>\n      <td>bitcoin</td>\n      <td>2023-09-29 04:46:19</td>\n      <td>[]</td>\n    </tr>\n    <tr>\n      <th>1698</th>\n      <td>269546</td>\n      <td>@satoshi_in_the_classroom  OP 29 Sep</td>\n      <td>None</td>\n      <td>2 replies</td>\n      <td>None</td>\n      <td>bitcoin</td>\n      <td>2023-09-29 04:46:43</td>\n      <td>[269550, 269552]</td>\n    </tr>\n    <tr>\n      <th>1699</th>\n      <td>269547</td>\n      <td>@satoshi_in_the_classroom  OP 29 Sep</td>\n      <td>None</td>\n      <td>0 replies</td>\n      <td>None</td>\n      <td>bitcoin</td>\n      <td>2023-09-29 04:46:51</td>\n      <td>[]</td>\n    </tr>\n  </tbody>\n</table>\n<p>1700 rows × 8 columns</p>\n</div>"
     },
     "execution_count": 3,
     "metadata": {},
     "output_type": "execute_result"
    }
   ],
   "source": [
    "retrieve_wrong_comments"
   ],
   "metadata": {
    "collapsed": false,
    "ExecuteTime": {
     "end_time": "2023-10-28T12:02:57.545023096Z",
     "start_time": "2023-10-28T12:02:57.528190680Z"
    }
   },
   "id": "42077e0f3912863b"
  },
  {
   "cell_type": "markdown",
   "source": [
    "#### Posts"
   ],
   "metadata": {
    "collapsed": false
   },
   "id": "6d95606aeb50c32d"
  },
  {
   "cell_type": "code",
   "execution_count": 4,
   "outputs": [],
   "source": [
    "# Spot the wrongfully retrieved rows for the Post table\n",
    "conn = sqlite3.connect('../data/stacker_news.sqlite')\n",
    "\n",
    "wrong_posts = \"\"\"\n",
    "SELECT *\n",
    "FROM post\n",
    "WHERE Author=='None' AND Sats LIKE '@%';\n",
    "\"\"\"\n",
    "\n",
    "retrieve_wrong_posts = pd.read_sql(wrong_posts, conn)\n",
    "\n",
    "retrieve_wrong_posts = pd.DataFrame(retrieve_wrong_posts)\n",
    "\n",
    "conn.close()"
   ],
   "metadata": {
    "collapsed": false,
    "ExecuteTime": {
     "end_time": "2023-10-28T12:02:59.236619671Z",
     "start_time": "2023-10-28T12:02:59.199292458Z"
    }
   },
   "id": "3bbf67b24007cdf0"
  },
  {
   "cell_type": "markdown",
   "source": [
    "#### General list of items that must be scraped again"
   ],
   "metadata": {
    "collapsed": false
   },
   "id": "4d36537c3f91813e"
  },
  {
   "cell_type": "code",
   "execution_count": 5,
   "outputs": [],
   "source": [
    "retrieve = list(retrieve_wrong_posts['ItemCode']) + list(retrieve_wrong_comments['ItemCode'])"
   ],
   "metadata": {
    "collapsed": false,
    "ExecuteTime": {
     "end_time": "2023-10-28T12:03:02.895402894Z",
     "start_time": "2023-10-28T12:03:02.882063575Z"
    }
   },
   "id": "79ce6f7b5caa9e4b"
  },
  {
   "cell_type": "code",
   "execution_count": 6,
   "outputs": [],
   "source": [
    "# Queries for entry insertion in tables\n",
    "insert_comment = \"\"\"\n",
    "INSERT OR IGNORE INTO comments (\n",
    "    ItemCode,\n",
    "    Sats,\n",
    "    Boost,\n",
    "    Comments,\n",
    "    Author,\n",
    "    Tag,\n",
    "    Timestamp,\n",
    "    CommentsItemCode\n",
    "    ) values (?, ?, ?, ?, ?, ?, ?, ?)\n",
    "\"\"\"\n",
    "\n",
    "insert_post = \"\"\"\n",
    "INSERT OR IGNORE INTO post (\n",
    "    Title,\n",
    "    Category,\n",
    "    ItemCode,\n",
    "    Sats,\n",
    "    Boost,\n",
    "    Comments,\n",
    "    Author,\n",
    "    Tag,\n",
    "    Timestamp,\n",
    "    MainLink,\n",
    "    BodyLinks,\n",
    "    SatsReceivedComments,\n",
    "    CommentsItemCode\n",
    "    ) values (?, ?, ?, ?, ?, ?, ?, ?, ?, ?, ?, ?, ?)\n",
    "\"\"\"\n",
    "\n",
    "insert_exception = \"\"\"\n",
    "INSERT OR IGNORE INTO exceptions (\n",
    "    RequestResult,\n",
    "    ItemCode,\n",
    "    Soup\n",
    "    ) values (?, ?, ?)\n",
    "\"\"\""
   ],
   "metadata": {
    "collapsed": false,
    "ExecuteTime": {
     "end_time": "2023-10-28T12:03:03.993030394Z",
     "start_time": "2023-10-28T12:03:03.981872669Z"
    }
   },
   "id": "bd25d902b8ebfc1a"
  },
  {
   "cell_type": "markdown",
   "source": [
    "### Setup the fixing functions"
   ],
   "metadata": {
    "collapsed": false
   },
   "id": "cf6ab16922a13613"
  },
  {
   "cell_type": "code",
   "execution_count": 8,
   "outputs": [
    {
     "name": "stderr",
     "output_type": "stream",
     "text": [
      " 11%|█         | 1/9 [00:00<00:06,  1.29it/s]"
     ]
    },
    {
     "name": "stdout",
     "output_type": "stream",
     "text": [
      "(\"Why Altcoins aren't copying Taproot. Bitcoin Tech Talk #244\", 'link', '34', '1 sat', 'None', '0 comments', 'satoshisuncle', 'bitcoin', '2021-06-14 18:17:21', 'None', \"['https://jimmysong.substack.com/p/why-altcoins-arent-copying-taproot']\", 'None', '[]')\n"
     ]
    },
    {
     "name": "stderr",
     "output_type": "stream",
     "text": [
      " 22%|██▏       | 2/9 [00:01<00:04,  1.53it/s]"
     ]
    },
    {
     "name": "stdout",
     "output_type": "stream",
     "text": [
      "(\"Bitrefill's Work in El Salvador\", 'link', '35', '1 sat', 'None', '0 comments', 'satoshisuncle', 'bitcoin', '2021-06-14 18:23:46', 'None', \"['https://twitter.com/bitrefill/status/1402624057120641036']\", 'None', '[]')\n"
     ]
    },
    {
     "name": "stderr",
     "output_type": "stream",
     "text": [
      " 33%|███▎      | 3/9 [00:02<00:04,  1.38it/s]"
     ]
    },
    {
     "name": "stdout",
     "output_type": "stream",
     "text": [
      "('3 Ways El Salvador Has Changed Bitcoin Forever', 'link', '36', '1 sat', 'None', '1 comment', 'satoshisuncle', 'bitcoin', '2021-06-14 18:27:33', 'None', \"['https://medium.com/tantra-labs/3-ways-el-salvador-has-changed-bitcoin-forever-4934bde5a2f0']\", '0 sats', '[37]')\n"
     ]
    },
    {
     "name": "stderr",
     "output_type": "stream",
     "text": [
      " 44%|████▍     | 4/9 [00:02<00:03,  1.36it/s]"
     ]
    },
    {
     "name": "stdout",
     "output_type": "stream",
     "text": [
      "(\"Lightning Builder's Guide: Understanding Liquidity\", 'link', '92', '3 sats', 'None', '1 comment', 'satoshisuncle', 'bitcoin', '2021-06-25 18:01:11', 'None', \"['https://docs.lightning.engineering/the-lightning-network/liquidity/understanding-liquidity']\", '1 sat', '[98]')\n"
     ]
    },
    {
     "name": "stderr",
     "output_type": "stream",
     "text": [
      " 56%|█████▌    | 5/9 [00:03<00:02,  1.42it/s]"
     ]
    },
    {
     "name": "stdout",
     "output_type": "stream",
     "text": [
      "('SoftBank Makes First Africa Bet on OPay at $2 Billion Valuation ', 'link', '1311', '3 sats', '5 boost', '1 comment', 'satoshi', 'bitcoin', '2021-08-23 14:28:20', 'None', \"['https://www.bloomberg.com/news/articles/2021-08-23/softbank-bets-on-fintech-startup-opay-at-2-billion-valuation']\", '1 sat', '[1312]')\n"
     ]
    },
    {
     "name": "stderr",
     "output_type": "stream",
     "text": [
      " 67%|██████▋   | 6/9 [00:04<00:02,  1.35it/s]"
     ]
    },
    {
     "name": "stdout",
     "output_type": "stream",
     "text": [
      "('The new Powell doctrine', 'link', '1325', '4 sats', '9 boost', '1 comment', 'satoshi', 'bitcoin', '2021-08-23 20:53:08', 'None', \"['https://www.economist.com/finance-and-economics/2021/08/22/the-new-powell-doctrine']\", '0 sats', '[1337]')\n"
     ]
    },
    {
     "name": "stderr",
     "output_type": "stream",
     "text": [
      " 78%|███████▊  | 7/9 [00:04<00:01,  1.45it/s]"
     ]
    },
    {
     "name": "stdout",
     "output_type": "stream",
     "text": [
      "('Lightning to the Moon: Building for Exponential Growth 🚀', 'link', '1446', '2 sats', '1 boost', '0 comments', 'satoshisuncle', 'bitcoin', '2021-08-26 19:52:03', 'None', \"['https://lightninglabs.substack.com/p/lightning-to-the-moon-building-for']\", 'None', '[]')\n"
     ]
    },
    {
     "name": "stderr",
     "output_type": "stream",
     "text": [
      " 89%|████████▉ | 8/9 [00:05<00:00,  1.54it/s]"
     ]
    },
    {
     "name": "stdout",
     "output_type": "stream",
     "text": [
      "('BTC Origin Stories', 'link', '1450', '2 sats', 'None', '0 comments', 'satoshisuncle', 'bitcoin', '2021-08-26 20:50:21', 'None', \"['https://btcoriginstories.com/']\", 'None', '[]')\n"
     ]
    },
    {
     "name": "stderr",
     "output_type": "stream",
     "text": [
      "100%|██████████| 9/9 [00:06<00:00,  1.46it/s]"
     ]
    },
    {
     "name": "stdout",
     "output_type": "stream",
     "text": [
      "(\"A brief explanation of Bitcoin's mining process\", 'link', '1451', '2 sats', 'None', '0 comments', 'satoshisuncle', 'bitcoin', '2021-08-26 20:54:01', 'None', \"['https://chainfail.substack.com/p/what-is-mining-the-blockchain']\", 'None', '[]')\n"
     ]
    },
    {
     "name": "stderr",
     "output_type": "stream",
     "text": [
      "\n"
     ]
    }
   ],
   "source": [
    "conn = sqlite3.connect('../data/stacker_news.sqlite')\n",
    "cur = conn.cursor()\n",
    "\n",
    "for i in tqdm(retrieve):\n",
    "    try:\n",
    "        # Provided a string returns a bs4.BeautifulSoup object\n",
    "        url_posts = f'https://stacker.news/items/{i}'\n",
    "        response = requests.get(url_posts)\n",
    "        response.raise_for_status()\n",
    "        soup = BeautifulSoup(response.text, 'html.parser')\n",
    "\n",
    "        if item.detect_item_type(i, soup) == 'comment':\n",
    "            # Insert every new entry into a new row in the provided DB\n",
    "            entry = (str(i),\n",
    "                     str(comment.extract_banner(soup)['sats']),\n",
    "                     str(comment.extract_banner(soup)['boost']),\n",
    "                     str(comment.extract_banner(soup)['comments']),\n",
    "                     str(comment.extract_banner(soup)['author']),\n",
    "                     str(comment.extract_banner(soup)['tag']),\n",
    "                     str(comment.extract_banner(soup)['timestamp']),\n",
    "                     str(comment.extract_comment_item_code(soup))\n",
    "                     )\n",
    "            try:\n",
    "                cur.execute(insert_comment, entry)\n",
    "            except:\n",
    "                print(f'Error while inserting the comment item {i} in the database')\n",
    "\n",
    "        elif item.detect_item_type(i, soup) == 'link':\n",
    "            # Appends every new profile to a csv file in the provided path\n",
    "            entry = (str(link.extract_title(soup)),\n",
    "                     str(item.detect_item_type(i, soup)),\n",
    "                     str(i),\n",
    "                     str(link.extract_banner(soup)['sats']),\n",
    "                     str(link.extract_banner(soup)['boost']),\n",
    "                     str(link.extract_banner(soup)['comments']),\n",
    "                     str(link.extract_banner(soup)['author']),\n",
    "                     str(link.extract_banner(soup)['tag']),\n",
    "                     str(link.extract_banner(soup)['timestamp']),\n",
    "                     str(link.extract_link(soup)),\n",
    "                     str(link.extract_body_links(soup)),\n",
    "                     str(link.extract_comment_stacked(soup)),\n",
    "                     str(link.extract_comment_item_code(soup))\n",
    "                     )\n",
    "            try:\n",
    "                cur.execute(insert_post, entry)\n",
    "            except:\n",
    "                print(f'Error while inserting the link item {i} in the database')\n",
    "\n",
    "        elif item.detect_item_type(i, soup) in ['discussion', 'poll', 'bounty']:\n",
    "            entry = (str(discussion.extract_title(soup)),\n",
    "                     str(item.detect_item_type(i, soup)),\n",
    "                     str(i),\n",
    "                     str(discussion.extract_banner(soup)['sats']),\n",
    "                     str(discussion.extract_banner(soup)['boost']),\n",
    "                     str(discussion.extract_banner(soup)['comments']),\n",
    "                     str(discussion.extract_banner(soup)['author']),\n",
    "                     str(discussion.extract_banner(soup)['tag']),\n",
    "                     str(discussion.extract_banner(soup)['timestamp']),\n",
    "                     None,\n",
    "                     str(discussion.extract_body_links(soup)),\n",
    "                     str(discussion.extract_comment_stacked(soup)),\n",
    "                     str(discussion.extract_comment_item_code(soup))\n",
    "                     )\n",
    "\n",
    "            # Appends every new profile to a csv file in the provided path\n",
    "            try:\n",
    "                cur.execute(insert_post, entry)\n",
    "            except:\n",
    "                print(f'Error while inserting the post item {i} in the database')\n",
    "\n",
    "        if i % 1000 == 0:\n",
    "            conn.commit()\n",
    "            time.sleep(0.5)\n",
    "            continue\n",
    "    except:\n",
    "\n",
    "        try:\n",
    "            exception_entry = (\n",
    "                str(response),\n",
    "                str(i),\n",
    "                str(soup)\n",
    "            )\n",
    "\n",
    "            cur.execute(insert_exception, exception_entry)\n",
    "\n",
    "            # If the request is not authorized than stop the scraping because I've been probably blocked\n",
    "            if response.status_code == 403 or response.status_code == 401:\n",
    "                exit()\n",
    "        except:\n",
    "            continue\n",
    "\n",
    "# Final commit\n",
    "conn.commit()\n",
    "\n",
    "# Close connection to DB\n",
    "cur.close()\n",
    "conn.close()"
   ],
   "metadata": {
    "collapsed": false,
    "ExecuteTime": {
     "end_time": "2023-10-28T12:04:38.177608072Z",
     "start_time": "2023-10-28T12:04:32.013454603Z"
    }
   },
   "id": "10a560fe55161c47"
  },
  {
   "cell_type": "markdown",
   "source": [
    "## Profile scraping\n",
    "\n",
    "**NB**: this code must be run after the end of the whole scraping activity because an `unique(author)` is needed in order to scrape all the user profiles in the forum. \n",
    "\n",
    "**The `unique(author)` must be the result of a `UNION ALL` between the tables.**"
   ],
   "metadata": {
    "collapsed": false
   },
   "id": "45340082a7ccf465"
  },
  {
   "cell_type": "code",
   "execution_count": null,
   "outputs": [],
   "source": [
    "conn = sqlite3.connect('../data/stacker_news.sqlite')\n",
    "\n",
    "query = \"\"\"\n",
    "SELECT DISTINCT Author\n",
    "FROM (\n",
    "    SELECT Author\n",
    "    FROM comments\n",
    "    UNION ALL\n",
    "    SELECT Author\n",
    "    FROM post\n",
    "     );\n",
    "\"\"\"\n",
    "\n",
    "sql_query = pd.read_sql(query, conn)\n",
    "result = pd.DataFrame(sql_query,\n",
    "                      columns=['Author'])\n",
    "\n",
    "conn.close()\n"
   ],
   "metadata": {
    "collapsed": false
   },
   "id": "cdcc38ce64f686ee"
  },
  {
   "cell_type": "code",
   "execution_count": null,
   "outputs": [],
   "source": [
    "conn = sqlite3.connect('../data/stacker_news.sqlite')\n",
    "cur = conn.cursor()\n",
    "\n",
    "sql_user = \"\"\"\n",
    "DROP TABLE IF EXISTS user;\n",
    "CREATE TABLE user (\n",
    "    User TEXT,\n",
    "    TotalStacked TEXT,\n",
    "    FirstItem TEXT,\n",
    "    HatStreak TEXT,\n",
    "    NumItems TEXT,\n",
    "    PRIMARY KEY (User))\n",
    "\"\"\"\n",
    "\n",
    "cur.executescript(sql_user)\n",
    "\n",
    "conn.commit()\n",
    "conn.close()"
   ],
   "metadata": {
    "collapsed": false
   },
   "id": "df16eb4fc5e6b153"
  },
  {
   "cell_type": "code",
   "execution_count": null,
   "outputs": [],
   "source": [
    "insert_user = \"\"\"\n",
    "INSERT INTO user (\n",
    "    User,\n",
    "    TotalStacked,\n",
    "    FirstItem,\n",
    "    HatStreak,\n",
    "    NumItems\n",
    "    ) values (?, ?, ?, ?, ?)\n",
    "\"\"\""
   ],
   "metadata": {
    "collapsed": false
   },
   "id": "ba0d83ffa888f3fe"
  },
  {
   "cell_type": "code",
   "execution_count": null,
   "outputs": [],
   "source": [
    "conn = sqlite3.connect('../data/stacker_news.sqlite')\n",
    "cur = conn.cursor()\n",
    "\n",
    "for i in tqdm(result['Author']):\n",
    "    try:\n",
    "        profile_data = user.get_profile(i)\n",
    "        entry = (\n",
    "            str(profile_data[0]),\n",
    "            str(profile_data[1]),\n",
    "            str(profile_data[2]),\n",
    "            str(profile_data[3]),\n",
    "            str(profile_data[4])\n",
    "        )\n",
    "        try:\n",
    "            cur.execute(insert_user, entry)\n",
    "        except:\n",
    "            continue\n",
    "    except:\n",
    "        continue\n",
    "\n",
    "conn.commit()\n",
    "cur.close()\n",
    "conn.close()"
   ],
   "metadata": {
    "collapsed": false
   },
   "id": "c9be74d662451a6"
  }
 ],
 "metadata": {
  "kernelspec": {
   "display_name": "Python 3",
   "language": "python",
   "name": "python3"
  },
  "language_info": {
   "codemirror_mode": {
    "name": "ipython",
    "version": 2
   },
   "file_extension": ".py",
   "mimetype": "text/x-python",
   "name": "python",
   "nbconvert_exporter": "python",
   "pygments_lexer": "ipython2",
   "version": "2.7.6"
  }
 },
 "nbformat": 4,
 "nbformat_minor": 5
}
