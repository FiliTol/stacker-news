{
 "cells": [
  {
   "cell_type": "markdown",
   "source": [
    "# Data collection activities\n",
    "All the data collection activities are automated using user defined functions retrievable in the folder `scripts`."
   ],
   "metadata": {
    "collapsed": false
   },
   "id": "8cef29dc85632b19"
  },
  {
   "cell_type": "code",
   "execution_count": 1,
   "outputs": [],
   "source": [
    "from bs4 import BeautifulSoup\n",
    "import requests as requests\n",
    "from scripts import item \n",
    "from scripts import discussion \n",
    "from scripts import link\n",
    "from scripts import comment\n",
    "from scripts import user\n",
    "import csv\n",
    "from tqdm import tqdm\n",
    "import sqlite3\n",
    "import pandas as pd"
   ],
   "metadata": {
    "collapsed": false,
    "ExecuteTime": {
     "end_time": "2023-10-27T13:29:30.275171542Z",
     "start_time": "2023-10-27T13:29:29.593334202Z"
    }
   },
   "id": "initial_id"
  },
  {
   "cell_type": "markdown",
   "source": [
    "## Fix wrongly retrieved rows\n",
    "Some posts and comments have been "
   ],
   "metadata": {
    "collapsed": false
   },
   "id": "202cfd1101a4c7fa"
  },
  {
   "cell_type": "code",
   "execution_count": null,
   "outputs": [],
   "source": [],
   "metadata": {
    "collapsed": false
   },
   "id": "169659a8ee44481"
  },
  {
   "cell_type": "markdown",
   "source": [
    "# Profile scraping\n",
    "\n",
    "**NB**: this code must be run after the end of the whole scraping activity because an `unique(author)` is needed in order to scrape all the user profiles in the forum. \n",
    "\n",
    "**The `unique(author)` must be the result of a `UNION ALL` between the tables.**"
   ],
   "metadata": {
    "collapsed": false
   },
   "id": "45340082a7ccf465"
  },
  {
   "cell_type": "code",
   "execution_count": 2,
   "outputs": [],
   "source": [
    "conn = sqlite3.connect('../data/stacker_news.sqlite')\n",
    "\n",
    "query = \"\"\"\n",
    "SELECT DISTINCT Author\n",
    "FROM (\n",
    "    SELECT Author\n",
    "    FROM comments\n",
    "    UNION ALL\n",
    "    SELECT Author\n",
    "    FROM post\n",
    "     );\n",
    "\"\"\"\n",
    "\n",
    "sql_query = pd.read_sql(query, conn)\n",
    "result = pd.DataFrame(sql_query,\n",
    "                      columns=['Author'])\n",
    "\n",
    "conn.close()\n"
   ],
   "metadata": {
    "collapsed": false,
    "ExecuteTime": {
     "end_time": "2023-10-27T13:29:35.972313681Z",
     "start_time": "2023-10-27T13:29:35.738280450Z"
    }
   },
   "id": "cdcc38ce64f686ee"
  },
  {
   "cell_type": "code",
   "execution_count": 3,
   "outputs": [],
   "source": [
    "conn = sqlite3.connect('../data/stacker_news.sqlite')\n",
    "cur = conn.cursor()\n",
    "\n",
    "sql_user = \"\"\"\n",
    "DROP TABLE IF EXISTS user;\n",
    "CREATE TABLE user (\n",
    "    User TEXT,\n",
    "    TotalStacked TEXT,\n",
    "    FirstItem TEXT,\n",
    "    HatStreak TEXT,\n",
    "    NumItems TEXT,\n",
    "    PRIMARY KEY (User))\n",
    "\"\"\"\n",
    "\n",
    "cur.executescript(sql_user)\n",
    "\n",
    "conn.commit()\n",
    "conn.close()"
   ],
   "metadata": {
    "collapsed": false,
    "ExecuteTime": {
     "end_time": "2023-10-27T13:29:37.863934088Z",
     "start_time": "2023-10-27T13:29:37.843733625Z"
    }
   },
   "id": "df16eb4fc5e6b153"
  },
  {
   "cell_type": "code",
   "execution_count": 4,
   "outputs": [],
   "source": [
    "insert_user = \"\"\"\n",
    "INSERT INTO user (\n",
    "    User,\n",
    "    TotalStacked,\n",
    "    FirstItem,\n",
    "    HatStreak,\n",
    "    NumItems\n",
    "    ) values (?, ?, ?, ?, ?)\n",
    "\"\"\""
   ],
   "metadata": {
    "collapsed": false,
    "ExecuteTime": {
     "end_time": "2023-10-27T13:29:39.282311816Z",
     "start_time": "2023-10-27T13:29:39.257659592Z"
    }
   },
   "id": "ba0d83ffa888f3fe"
  },
  {
   "cell_type": "code",
   "execution_count": 6,
   "outputs": [
    {
     "name": "stderr",
     "output_type": "stream",
     "text": [
      "100%|██████████| 5806/5806 [1:02:07<00:00,  1.56it/s]\n"
     ]
    }
   ],
   "source": [
    "conn = sqlite3.connect('../data/stacker_news.sqlite')\n",
    "cur = conn.cursor()\n",
    "\n",
    "for i in tqdm(result['Author']):\n",
    "    try:\n",
    "        profile_data = user.get_profile(i)\n",
    "        entry = (\n",
    "            str(profile_data[0]),\n",
    "            str(profile_data[1]),\n",
    "            str(profile_data[2]),\n",
    "            str(profile_data[3]),\n",
    "            str(profile_data[4])\n",
    "        )\n",
    "        try:\n",
    "            cur.execute(insert_user, entry)\n",
    "        except:\n",
    "            continue\n",
    "    except:\n",
    "        continue\n",
    "\n",
    "conn.commit()\n",
    "cur.close()\n",
    "conn.close()"
   ],
   "metadata": {
    "collapsed": false,
    "ExecuteTime": {
     "end_time": "2023-10-27T14:31:58.435291068Z",
     "start_time": "2023-10-27T13:29:50.581719671Z"
    }
   },
   "id": "c9be74d662451a6"
  }
 ],
 "metadata": {
  "kernelspec": {
   "display_name": "Python 3",
   "language": "python",
   "name": "python3"
  },
  "language_info": {
   "codemirror_mode": {
    "name": "ipython",
    "version": 2
   },
   "file_extension": ".py",
   "mimetype": "text/x-python",
   "name": "python",
   "nbconvert_exporter": "python",
   "pygments_lexer": "ipython2",
   "version": "2.7.6"
  }
 },
 "nbformat": 4,
 "nbformat_minor": 5
}
