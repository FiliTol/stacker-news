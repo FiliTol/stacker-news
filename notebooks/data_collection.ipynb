{
 "cells": [
  {
   "cell_type": "markdown",
   "source": [
    "# Data collection activities\n",
    "All the data collection activities are automated using user defined functions retrievable in the folder `scripts`."
   ],
   "metadata": {
    "collapsed": false
   },
   "id": "8cef29dc85632b19"
  },
  {
   "cell_type": "code",
   "execution_count": 1,
   "id": "initial_id",
   "metadata": {
    "collapsed": true,
    "ExecuteTime": {
     "end_time": "2023-10-10T20:49:06.561456074Z",
     "start_time": "2023-10-10T20:49:06.309558227Z"
    }
   },
   "outputs": [],
   "source": [
    "from bs4 import BeautifulSoup\n",
    "import requests as requests\n",
    "from scripts import user, item, discussion\n",
    "import csv\n",
    "from tqdm import tqdm "
   ]
  },
  {
   "cell_type": "markdown",
   "source": [
    "## Discussion items\n",
    "The following code saves the discussion items data into a csv file, provided a range of item codes fixed by the operator.\n",
    "\n",
    "First of all we need to initialize all the files for data collection"
   ],
   "metadata": {
    "collapsed": false
   },
   "id": "7b87be68b26ebf12"
  },
  {
   "cell_type": "code",
   "execution_count": 2,
   "outputs": [],
   "source": [
    "file_path_discussion = \"../data/discussion.csv\"\n",
    "row_head_discussion = [\"Title\",\n",
    "            \"Item code\",\n",
    "            \"Banner data\",\n",
    "            \"Body links\",\n",
    "            \"Sats received by comments\",\n",
    "            \"Comments item code\",\n",
    "            ]\n",
    "    \n",
    "with open(file_path_discussion, 'w', encoding='utf_8_sig', newline=\"\") as csvfile:\n",
    "    csvwriter = csv.writer(csvfile)\n",
    "    csvwriter.writerow(row_head_discussion)"
   ],
   "metadata": {
    "collapsed": false,
    "ExecuteTime": {
     "end_time": "2023-10-10T20:49:08.513817295Z",
     "start_time": "2023-10-10T20:49:08.507792345Z"
    }
   },
   "id": "6564de73a2be1f53"
  },
  {
   "cell_type": "code",
   "execution_count": 3,
   "outputs": [
    {
     "name": "stderr",
     "output_type": "stream",
     "text": [
      "100%|██████████| 299/299 [03:00<00:00,  1.66it/s]\n"
     ]
    }
   ],
   "source": [
    "for i in tqdm(range(1,300)):\n",
    "    url_posts = f'https://stacker.news/items/{i}'\n",
    "    response = requests.get(url_posts)\n",
    "    soup = BeautifulSoup(response.text, 'html.parser')\n",
    "    \n",
    "    if item.detect_item_type(i, soup)=='discussion':\n",
    "        entry = [discussion.extract_title(soup),\n",
    "                 str(i),\n",
    "                 discussion.extract_banner(soup),\n",
    "                 discussion.extract_body_links(soup),\n",
    "                 discussion.extract_comment_stacked(soup),\n",
    "                 discussion.extract_comment_item_code(soup)\n",
    "                 ]\n",
    "        \n",
    "        # Appends every new profile to a csv file in the provided path\n",
    "        try:\n",
    "            with open(file_path_discussion, 'a', encoding='utf_8_sig', newline=\"\") as csvfile:\n",
    "                csvwriter = csv.writer(csvfile)\n",
    "                csvwriter.writerow(entry)\n",
    "        except:\n",
    "            print('Error while processing data')\n"
   ],
   "metadata": {
    "collapsed": false,
    "ExecuteTime": {
     "end_time": "2023-10-10T20:52:15.479024864Z",
     "start_time": "2023-10-10T20:49:15.092920674Z"
    }
   },
   "id": "4f0d197720b15859"
  }
 ],
 "metadata": {
  "kernelspec": {
   "display_name": "Python 3",
   "language": "python",
   "name": "python3"
  },
  "language_info": {
   "codemirror_mode": {
    "name": "ipython",
    "version": 2
   },
   "file_extension": ".py",
   "mimetype": "text/x-python",
   "name": "python",
   "nbconvert_exporter": "python",
   "pygments_lexer": "ipython2",
   "version": "2.7.6"
  }
 },
 "nbformat": 4,
 "nbformat_minor": 5
}
