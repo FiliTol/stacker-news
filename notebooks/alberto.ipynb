{
 "cells": [
  {
   "cell_type": "code",
   "execution_count": 1,
   "outputs": [],
   "source": [
    "from bs4 import BeautifulSoup\n",
    "import requests as requests\n",
    "import pandas as pd\n"
   ],
   "metadata": {
    "collapsed": false,
    "ExecuteTime": {
     "end_time": "2023-10-09T12:48:39.526910853Z",
     "start_time": "2023-10-09T12:48:38.991609638Z"
    }
   },
   "id": "49cdbd18047bcedd"
  },
  {
   "cell_type": "code",
   "execution_count": 3,
   "id": "initial_id",
   "metadata": {
    "collapsed": true,
    "ExecuteTime": {
     "end_time": "2023-10-09T12:54:15.685937788Z",
     "start_time": "2023-10-09T12:53:37.601877589Z"
    }
   },
   "outputs": [
    {
     "data": {
      "text/plain": "   item                                              title   n_comments  \\\n0     1             El Salvador Makes Bitcoin Legal Tender  13 comments   \n1     2                       stacker news soft launch AMA  30 comments   \n7     8       The Lightning Conference 2019: Alex Bosworth   2 comments   \n20   21        Pieter Wuille on the Taproot Genesis Story    2 comments   \n25   26                  Next Bitcoin Soft-Fork ANYPREVOUT    1 comment   \n30   31                                  Fedcoin is coming   2 comments   \n33   34  Why Altcoins aren't copying Taproot. Bitcoin T...   0 comments   \n34   35                    Bitrefill's Work in El Salvador   0 comments   \n35   36     3 Ways El Salvador Has Changed Bitcoin Forever    1 comment   \n37   38  Russell Okung asks the Nigerian government to ...   0 comments   \n38   39                     Bitcoin Optech Newsletter #152   2 comments   \n39   40  The Colonial Pipeline hack - what actually hap...   0 comments   \n40   41       China Miner Shutdown Actually Being Enforced   0 comments   \n41   42                    Stranded Energy and Home Mining   0 comments   \n44   45  Submarine swaps and Loops (Lightning Network) ...   0 comments   \n46   47                     Stacks Blockchain Explanation     1 comment   \n48   49  Lightning Ubiquity and the United Nations of B...   0 comments   \n\n                                               corpus    boost      sats  \\\n0                                                      4 boost  603 sats   \n1   Figured I'd make a place to raise questions ab...      NaN    2 sats   \n7                                                          NaN    0 sats   \n20                                                         NaN       NaN   \n25                                                         NaN    4 sats   \n30                                                         NaN    3 sats   \n33                                                         NaN       NaN   \n34                                                         NaN       NaN   \n35                                                         NaN       NaN   \n37                                                         NaN    0 sats   \n38                                                         NaN    2 sats   \n39                                                         NaN       NaN   \n40                                                         NaN    0 sats   \n41                                                         NaN    0 sats   \n44                                                         NaN    0 sats   \n46                                                         NaN    2 sats   \n48                                                         NaN    3 sats   \n\n                                           commentors  \\\n0   [/k00b, /ln123, /k00b, /k00b, /OneOneSeven, /e...   \n1   [/k00b, /sha256, /k00b, /banana, /banana, /k00...   \n7          [/k00b, /k00b, /k00b, /k00b, /kr, /ekzyis]   \n20     [/banana, /sha256, /k00b, /k00b, /kr, /ekzyis]   \n25              [/sha256, /k00b, /k00b, /kr, /ekzyis]   \n30  [/satoshisuncle, /k00b, /washedup, /k00b, /kr,...   \n33              [/satoshisuncle, /k00b, /kr, /ekzyis]   \n34              [/satoshisuncle, /k00b, /kr, /ekzyis]   \n35  [/satoshisuncle, /satoshisuncle, /k00b, /kr, /...   \n37                       [/k00b, /k00b, /kr, /ekzyis]   \n38            [/k00b, /guacjoin, /k00b, /kr, /ekzyis]   \n39                     [/banana, /k00b, /kr, /ekzyis]   \n40                       [/k00b, /k00b, /kr, /ekzyis]   \n41                       [/k00b, /k00b, /kr, /ekzyis]   \n44                       [/k00b, /k00b, /kr, /ekzyis]   \n46        [/washedup, /washedup, /k00b, /kr, /ekzyis]   \n48                   [/washedup, /k00b, /kr, /ekzyis]   \n\n                                       external_links         author  \\\n0   bitcoinmagazine.com/business/el-salvador-appro...           k00b   \n1   bitcoinmagazine.com/business/el-salvador-appro...           k00b   \n7                 www.youtube.com/watch?v=Y4uxMtFwaYc           k00b   \n20     twitter.com/pwuille/status/1403725170993336322         banana   \n25                   github.com/bitcoin/bips/pull/943         sha256   \n30  www.politico.com/news/2021/06/12/fed-remake-us...  satoshisuncle   \n33  jimmysong.substack.com/p/why-altcoins-arent-co...  satoshisuncle   \n34   twitter.com/bitrefill/status/1402624057120641036  satoshisuncle   \n35  medium.com/tantra-labs/3-ways-el-salvador-has-...  satoshisuncle   \n37  bitcoinmagazine.com/culture/bitcoin-letter-to-...           k00b   \n38          bitcoinops.org/en/newsletters/2021/06/09/           k00b   \n39  dossier.substack.com/p/the-colonial-pipeline-h...         banana   \n40  www.theblockcrypto.com/post/107707/xinjiang-bi...           k00b   \n41  chainfail.substack.com/p/stranded-energy-and-h...           k00b   \n44                www.youtube.com/watch?v=qixhNBIHDyE           k00b   \n46                       stacks.org/stacks-blockchain       washedup   \n48  lightninglabs.substack.com/p/lightning-ubiquit...       washedup   \n\n           data  \n0   11 Jun 2021  \n1   11 Jun 2021  \n7   11 Jun 2021  \n20  12 Jun 2021  \n25  12 Jun 2021  \n30  13 Jun 2021  \n33  14 Jun 2021  \n34  14 Jun 2021  \n35  14 Jun 2021  \n37  14 Jun 2021  \n38  14 Jun 2021  \n39  14 Jun 2021  \n40  14 Jun 2021  \n41  14 Jun 2021  \n44  15 Jun 2021  \n46  16 Jun 2021  \n48  16 Jun 2021  ",
      "text/html": "<div>\n<style scoped>\n    .dataframe tbody tr th:only-of-type {\n        vertical-align: middle;\n    }\n\n    .dataframe tbody tr th {\n        vertical-align: top;\n    }\n\n    .dataframe thead th {\n        text-align: right;\n    }\n</style>\n<table border=\"1\" class=\"dataframe\">\n  <thead>\n    <tr style=\"text-align: right;\">\n      <th></th>\n      <th>item</th>\n      <th>title</th>\n      <th>n_comments</th>\n      <th>corpus</th>\n      <th>boost</th>\n      <th>sats</th>\n      <th>commentors</th>\n      <th>external_links</th>\n      <th>author</th>\n      <th>data</th>\n    </tr>\n  </thead>\n  <tbody>\n    <tr>\n      <th>0</th>\n      <td>1</td>\n      <td>El Salvador Makes Bitcoin Legal Tender</td>\n      <td>13 comments</td>\n      <td></td>\n      <td>4 boost</td>\n      <td>603 sats</td>\n      <td>[/k00b, /ln123, /k00b, /k00b, /OneOneSeven, /e...</td>\n      <td>bitcoinmagazine.com/business/el-salvador-appro...</td>\n      <td>k00b</td>\n      <td>11 Jun 2021</td>\n    </tr>\n    <tr>\n      <th>1</th>\n      <td>2</td>\n      <td>stacker news soft launch AMA</td>\n      <td>30 comments</td>\n      <td>Figured I'd make a place to raise questions ab...</td>\n      <td>NaN</td>\n      <td>2 sats</td>\n      <td>[/k00b, /sha256, /k00b, /banana, /banana, /k00...</td>\n      <td>bitcoinmagazine.com/business/el-salvador-appro...</td>\n      <td>k00b</td>\n      <td>11 Jun 2021</td>\n    </tr>\n    <tr>\n      <th>7</th>\n      <td>8</td>\n      <td>The Lightning Conference 2019: Alex Bosworth</td>\n      <td>2 comments</td>\n      <td></td>\n      <td>NaN</td>\n      <td>0 sats</td>\n      <td>[/k00b, /k00b, /k00b, /k00b, /kr, /ekzyis]</td>\n      <td>www.youtube.com/watch?v=Y4uxMtFwaYc</td>\n      <td>k00b</td>\n      <td>11 Jun 2021</td>\n    </tr>\n    <tr>\n      <th>20</th>\n      <td>21</td>\n      <td>Pieter Wuille on the Taproot Genesis Story</td>\n      <td>2 comments</td>\n      <td></td>\n      <td>NaN</td>\n      <td>NaN</td>\n      <td>[/banana, /sha256, /k00b, /k00b, /kr, /ekzyis]</td>\n      <td>twitter.com/pwuille/status/1403725170993336322</td>\n      <td>banana</td>\n      <td>12 Jun 2021</td>\n    </tr>\n    <tr>\n      <th>25</th>\n      <td>26</td>\n      <td>Next Bitcoin Soft-Fork ANYPREVOUT</td>\n      <td>1 comment</td>\n      <td></td>\n      <td>NaN</td>\n      <td>4 sats</td>\n      <td>[/sha256, /k00b, /k00b, /kr, /ekzyis]</td>\n      <td>github.com/bitcoin/bips/pull/943</td>\n      <td>sha256</td>\n      <td>12 Jun 2021</td>\n    </tr>\n    <tr>\n      <th>30</th>\n      <td>31</td>\n      <td>Fedcoin is coming</td>\n      <td>2 comments</td>\n      <td></td>\n      <td>NaN</td>\n      <td>3 sats</td>\n      <td>[/satoshisuncle, /k00b, /washedup, /k00b, /kr,...</td>\n      <td>www.politico.com/news/2021/06/12/fed-remake-us...</td>\n      <td>satoshisuncle</td>\n      <td>13 Jun 2021</td>\n    </tr>\n    <tr>\n      <th>33</th>\n      <td>34</td>\n      <td>Why Altcoins aren't copying Taproot. Bitcoin T...</td>\n      <td>0 comments</td>\n      <td></td>\n      <td>NaN</td>\n      <td>NaN</td>\n      <td>[/satoshisuncle, /k00b, /kr, /ekzyis]</td>\n      <td>jimmysong.substack.com/p/why-altcoins-arent-co...</td>\n      <td>satoshisuncle</td>\n      <td>14 Jun 2021</td>\n    </tr>\n    <tr>\n      <th>34</th>\n      <td>35</td>\n      <td>Bitrefill's Work in El Salvador</td>\n      <td>0 comments</td>\n      <td></td>\n      <td>NaN</td>\n      <td>NaN</td>\n      <td>[/satoshisuncle, /k00b, /kr, /ekzyis]</td>\n      <td>twitter.com/bitrefill/status/1402624057120641036</td>\n      <td>satoshisuncle</td>\n      <td>14 Jun 2021</td>\n    </tr>\n    <tr>\n      <th>35</th>\n      <td>36</td>\n      <td>3 Ways El Salvador Has Changed Bitcoin Forever</td>\n      <td>1 comment</td>\n      <td></td>\n      <td>NaN</td>\n      <td>NaN</td>\n      <td>[/satoshisuncle, /satoshisuncle, /k00b, /kr, /...</td>\n      <td>medium.com/tantra-labs/3-ways-el-salvador-has-...</td>\n      <td>satoshisuncle</td>\n      <td>14 Jun 2021</td>\n    </tr>\n    <tr>\n      <th>37</th>\n      <td>38</td>\n      <td>Russell Okung asks the Nigerian government to ...</td>\n      <td>0 comments</td>\n      <td></td>\n      <td>NaN</td>\n      <td>0 sats</td>\n      <td>[/k00b, /k00b, /kr, /ekzyis]</td>\n      <td>bitcoinmagazine.com/culture/bitcoin-letter-to-...</td>\n      <td>k00b</td>\n      <td>14 Jun 2021</td>\n    </tr>\n    <tr>\n      <th>38</th>\n      <td>39</td>\n      <td>Bitcoin Optech Newsletter #152</td>\n      <td>2 comments</td>\n      <td></td>\n      <td>NaN</td>\n      <td>2 sats</td>\n      <td>[/k00b, /guacjoin, /k00b, /kr, /ekzyis]</td>\n      <td>bitcoinops.org/en/newsletters/2021/06/09/</td>\n      <td>k00b</td>\n      <td>14 Jun 2021</td>\n    </tr>\n    <tr>\n      <th>39</th>\n      <td>40</td>\n      <td>The Colonial Pipeline hack - what actually hap...</td>\n      <td>0 comments</td>\n      <td></td>\n      <td>NaN</td>\n      <td>NaN</td>\n      <td>[/banana, /k00b, /kr, /ekzyis]</td>\n      <td>dossier.substack.com/p/the-colonial-pipeline-h...</td>\n      <td>banana</td>\n      <td>14 Jun 2021</td>\n    </tr>\n    <tr>\n      <th>40</th>\n      <td>41</td>\n      <td>China Miner Shutdown Actually Being Enforced</td>\n      <td>0 comments</td>\n      <td></td>\n      <td>NaN</td>\n      <td>0 sats</td>\n      <td>[/k00b, /k00b, /kr, /ekzyis]</td>\n      <td>www.theblockcrypto.com/post/107707/xinjiang-bi...</td>\n      <td>k00b</td>\n      <td>14 Jun 2021</td>\n    </tr>\n    <tr>\n      <th>41</th>\n      <td>42</td>\n      <td>Stranded Energy and Home Mining</td>\n      <td>0 comments</td>\n      <td></td>\n      <td>NaN</td>\n      <td>0 sats</td>\n      <td>[/k00b, /k00b, /kr, /ekzyis]</td>\n      <td>chainfail.substack.com/p/stranded-energy-and-h...</td>\n      <td>k00b</td>\n      <td>14 Jun 2021</td>\n    </tr>\n    <tr>\n      <th>44</th>\n      <td>45</td>\n      <td>Submarine swaps and Loops (Lightning Network) ...</td>\n      <td>0 comments</td>\n      <td></td>\n      <td>NaN</td>\n      <td>0 sats</td>\n      <td>[/k00b, /k00b, /kr, /ekzyis]</td>\n      <td>www.youtube.com/watch?v=qixhNBIHDyE</td>\n      <td>k00b</td>\n      <td>15 Jun 2021</td>\n    </tr>\n    <tr>\n      <th>46</th>\n      <td>47</td>\n      <td>Stacks Blockchain Explanation</td>\n      <td>1 comment</td>\n      <td></td>\n      <td>NaN</td>\n      <td>2 sats</td>\n      <td>[/washedup, /washedup, /k00b, /kr, /ekzyis]</td>\n      <td>stacks.org/stacks-blockchain</td>\n      <td>washedup</td>\n      <td>16 Jun 2021</td>\n    </tr>\n    <tr>\n      <th>48</th>\n      <td>49</td>\n      <td>Lightning Ubiquity and the United Nations of B...</td>\n      <td>0 comments</td>\n      <td></td>\n      <td>NaN</td>\n      <td>3 sats</td>\n      <td>[/washedup, /k00b, /kr, /ekzyis]</td>\n      <td>lightninglabs.substack.com/p/lightning-ubiquit...</td>\n      <td>washedup</td>\n      <td>16 Jun 2021</td>\n    </tr>\n  </tbody>\n</table>\n</div>"
     },
     "execution_count": 3,
     "metadata": {},
     "output_type": "execute_result"
    }
   ],
   "source": [
    "# Create a list of the items to scrape\n",
    "n_posts = range(1, 50)\n",
    "df = pd.DataFrame(columns=['item','title', 'n_comments','corpus' ,'boost', 'sats', 'betha','commentors','external_links'])\n",
    "for number in n_posts:\n",
    "    # Initialize the dataframe\n",
    " \n",
    "    #print(\"Doing\", number)\n",
    "    url_posts = f'https://stacker.news/items/{number}'\n",
    "    response = requests.get(url_posts)\n",
    "    soup = BeautifulSoup(response.text, 'html.parser')\n",
    "    index = number-1\n",
    "#-------------------------------------------------------------------------------\n",
    "    # TITLE\n",
    "    try:\n",
    "        title = soup.find('a', class_='item_title__FH7AS text-reset me-2').get_text()\n",
    "    except:\n",
    "        continue\n",
    "    # add title to dataframe\n",
    "    df.at[index, 'title'] = title\n",
    "#-------------------------------------------------------------------------------\n",
    "    # ITEM\n",
    "    df.at[index, 'item'] = number\n",
    "#-------------------------------------------------------------------------------\n",
    "    # CORPUS\n",
    "    try:\n",
    "        corpus=soup.find('div', class_=\"item_fullItemContainer__ZAYtZ\").get_text()\n",
    "    except:\n",
    "        df.at[index, 'corpus'] = \"NaN\"\n",
    "    # add title to dataframe\n",
    "    df.at[index, 'corpus'] = corpus\n",
    "#-------------------------------------------------------------------------------\n",
    "    # EXTERNAL LINKS\n",
    "    try:\n",
    "        ex_link=soup.find('a', class_=\"item_link__4cWVs\").get_text()\n",
    "    except:\n",
    "        df.at[index, 'external_links'] = \"NaN\"\n",
    "    # add external links to dataframe\n",
    "    df.at[index, 'external_links'] = ex_link\n",
    "\n",
    "#-------------------------------------------------------------------------------\n",
    "    # BANNER\n",
    "    try:\n",
    "        banner = soup.find('div', class_='item_other__MjgP3')\n",
    "    except:\n",
    "        df.at[index, 'boost'] = \"NaN\"\n",
    "        df.at[index, 'sats'] = \"NaN\"\n",
    "        df.at[index, 'betha'] = \"NaN\"\n",
    "    # deal with banner\n",
    "    banner_data = []\n",
    "    for i in banner.find_all('span'):\n",
    "        banner_data.append(i.text)\n",
    "    for b in banner_data:\n",
    "        if \"boost\" in b:\n",
    "            df.at[index, 'boost'] = b\n",
    "        if \"sats\" in b:\n",
    "            df.at[index, 'sats'] = b\n",
    "        if \"@\" in b:\n",
    "            df.at[index, 'betha'] = b\n",
    "#-------------------------------------------------------------------------------\n",
    "    # N_COMMENTS\n",
    "    try:\n",
    "        n_comments = soup.find('a', class_='text-reset position-relative').get_text()\n",
    "    except:        \n",
    "        df.at[index, 'n_comments'] = \"NaN\"\n",
    "    # add n_comments to dataframe\n",
    "    df.at[index, 'n_comments'] = n_comments\n",
    "#-------------------------------------------------------------------------------\n",
    "    # COMMENTORS\n",
    "    \n",
    "    a_elements = soup.find_all('a')\n",
    "    \n",
    "    df.at[index, 'commentors'] = \"NaN\"\n",
    "    at_elements = []\n",
    "\n",
    "    for el in a_elements:\n",
    "        links = el.get_text() \n",
    "        if links.startswith('@'):\n",
    "            at_elements.append(el)\n",
    "    \n",
    "    commentors_list=[]\n",
    "    for ind in range(0,len(at_elements)):\n",
    "        commentors_list.append(at_elements[ind][\"href\"])\n",
    "    # add commentors to dataframe\n",
    "    df.at[index, 'commentors'] = commentors_list\n",
    "#-------------------------------------------------------------------------------\n",
    "# Fixing the dataframe\n",
    "df['author'] = df['betha'].str.extract(r'@(\\w+)')\n",
    "df['data'] = df['betha'].str.extract(r'(\\d+\\s\\w+\\s\\d+)')\n",
    "df.drop('betha', axis=1, inplace=True)\n",
    "df"
   ]
  }
 ],
 "metadata": {
  "kernelspec": {
   "display_name": "Python 3",
   "language": "python",
   "name": "python3"
  },
  "language_info": {
   "codemirror_mode": {
    "name": "ipython",
    "version": 2
   },
   "file_extension": ".py",
   "mimetype": "text/x-python",
   "name": "python",
   "nbconvert_exporter": "python",
   "pygments_lexer": "ipython2",
   "version": "2.7.6"
  }
 },
 "nbformat": 4,
 "nbformat_minor": 5
}
