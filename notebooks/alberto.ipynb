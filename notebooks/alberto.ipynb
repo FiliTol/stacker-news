{
 "cells": [
  {
   "cell_type": "code",
   "execution_count": 116,
   "outputs": [],
   "source": [
    "from bs4 import BeautifulSoup\n",
    "import requests as requests\n",
    "import pandas as pd\n",
    "from tqdm import tqdm"
   ],
   "metadata": {
    "collapsed": false,
    "ExecuteTime": {
     "end_time": "2023-10-10T10:55:39.045320840Z",
     "start_time": "2023-10-10T10:55:39.003381654Z"
    }
   },
   "id": "49cdbd18047bcedd"
  },
  {
   "cell_type": "code",
   "execution_count": 118,
   "id": "initial_id",
   "metadata": {
    "collapsed": true,
    "ExecuteTime": {
     "end_time": "2023-10-10T10:56:14.491789791Z",
     "start_time": "2023-10-10T10:56:07.216977789Z"
    }
   },
   "outputs": [
    {
     "name": "stderr",
     "output_type": "stream",
     "text": [
      "100%|██████████| 9/9 [00:07<00:00,  1.25it/s]\n"
     ]
    },
    {
     "data": {
      "text/plain": "  item                                         title   n_comments  \\\n0    1        El Salvador Makes Bitcoin Legal Tender  13 comments   \n1    2                  stacker news soft launch AMA  30 comments   \n7    8  The Lightning Conference 2019: Alex Bosworth   2 comments   \n\n                                              corpus    boost      sats  \\\n0                                                     4 boost  603 sats   \n1  Figured I'd make a place to raise questions ab...      NaN    2 sats   \n7                                                         NaN    0 sats   \n\n                                          commentors  \\\n0  [/k00b, /ln123, /k00b, /k00b, /OneOneSeven, /e...   \n1  [/k00b, /sha256, /k00b, /banana, /banana, /k00...   \n7         [/k00b, /k00b, /k00b, /k00b, /kr, /ekzyis]   \n\n                                      external_links author         data  \n0  bitcoinmagazine.com/business/el-salvador-appro...   k00b  11 Jun 2021  \n1  bitcoinmagazine.com/business/el-salvador-appro...   k00b  11 Jun 2021  \n7                www.youtube.com/watch?v=Y4uxMtFwaYc   k00b  11 Jun 2021  ",
      "text/html": "<div>\n<style scoped>\n    .dataframe tbody tr th:only-of-type {\n        vertical-align: middle;\n    }\n\n    .dataframe tbody tr th {\n        vertical-align: top;\n    }\n\n    .dataframe thead th {\n        text-align: right;\n    }\n</style>\n<table border=\"1\" class=\"dataframe\">\n  <thead>\n    <tr style=\"text-align: right;\">\n      <th></th>\n      <th>item</th>\n      <th>title</th>\n      <th>n_comments</th>\n      <th>corpus</th>\n      <th>boost</th>\n      <th>sats</th>\n      <th>commentors</th>\n      <th>external_links</th>\n      <th>author</th>\n      <th>data</th>\n    </tr>\n  </thead>\n  <tbody>\n    <tr>\n      <th>0</th>\n      <td>1</td>\n      <td>El Salvador Makes Bitcoin Legal Tender</td>\n      <td>13 comments</td>\n      <td></td>\n      <td>4 boost</td>\n      <td>603 sats</td>\n      <td>[/k00b, /ln123, /k00b, /k00b, /OneOneSeven, /e...</td>\n      <td>bitcoinmagazine.com/business/el-salvador-appro...</td>\n      <td>k00b</td>\n      <td>11 Jun 2021</td>\n    </tr>\n    <tr>\n      <th>1</th>\n      <td>2</td>\n      <td>stacker news soft launch AMA</td>\n      <td>30 comments</td>\n      <td>Figured I'd make a place to raise questions ab...</td>\n      <td>NaN</td>\n      <td>2 sats</td>\n      <td>[/k00b, /sha256, /k00b, /banana, /banana, /k00...</td>\n      <td>bitcoinmagazine.com/business/el-salvador-appro...</td>\n      <td>k00b</td>\n      <td>11 Jun 2021</td>\n    </tr>\n    <tr>\n      <th>7</th>\n      <td>8</td>\n      <td>The Lightning Conference 2019: Alex Bosworth</td>\n      <td>2 comments</td>\n      <td></td>\n      <td>NaN</td>\n      <td>0 sats</td>\n      <td>[/k00b, /k00b, /k00b, /k00b, /kr, /ekzyis]</td>\n      <td>www.youtube.com/watch?v=Y4uxMtFwaYc</td>\n      <td>k00b</td>\n      <td>11 Jun 2021</td>\n    </tr>\n  </tbody>\n</table>\n</div>"
     },
     "execution_count": 118,
     "metadata": {},
     "output_type": "execute_result"
    }
   ],
   "source": [
    "# Create a list of the items to scrape\n",
    "n_posts = range(1, 10)\n",
    "df = pd.DataFrame(columns=['item','title', 'n_comments','corpus' ,'boost', 'sats', 'betha','commentors','external_links'])\n",
    "for number in tqdm(n_posts):\n",
    "    # Initialize the dataframe\n",
    " \n",
    "    url_posts = f'https://stacker.news/items/{number}'\n",
    "    response = requests.get(url_posts)\n",
    "    soup = BeautifulSoup(response.text, 'html.parser')\n",
    "    index = number-1\n",
    "#-------------------------------------------------------------------------------\n",
    "    # TITLE\n",
    "    try:\n",
    "        title = soup.find('a', class_='item_title__FH7AS text-reset me-2').get_text()\n",
    "    except:\n",
    "        continue\n",
    "    # add title to dataframe\n",
    "    df.at[index, 'title'] = title\n",
    "#-------------------------------------------------------------------------------\n",
    "    # ITEM\n",
    "    df.at[index, 'item'] = number\n",
    "#-------------------------------------------------------------------------------\n",
    "    # CORPUS\n",
    "    try:\n",
    "        corpus=soup.find('div', class_=\"item_fullItemContainer__ZAYtZ\").get_text()\n",
    "    except:\n",
    "        df.at[index, 'corpus'] = \"NaN\"\n",
    "    # add title to dataframe\n",
    "    df.at[index, 'corpus'] = corpus\n",
    "#-------------------------------------------------------------------------------\n",
    "    # EXTERNAL LINKS\n",
    "    try:\n",
    "        ex_link=soup.find('a', class_=\"item_link__4cWVs\").get_text()\n",
    "    except:\n",
    "        df.at[index, 'external_links'] = \"NaN\"\n",
    "    # add external links to dataframe\n",
    "    df.at[index, 'external_links'] = ex_link\n",
    "\n",
    "#-------------------------------------------------------------------------------\n",
    "    # BANNER\n",
    "    try:\n",
    "        banner = soup.find('div', class_='item_other__MjgP3')\n",
    "    except:\n",
    "        df.at[index, 'boost'] = \"NaN\"\n",
    "        df.at[index, 'sats'] = \"NaN\"\n",
    "        df.at[index, 'betha'] = \"NaN\"\n",
    "    # deal with banner\n",
    "    banner_data = []\n",
    "    for i in banner.find_all('span'):\n",
    "        banner_data.append(i.text)\n",
    "    for b in banner_data:\n",
    "        if \"boost\" in b:\n",
    "            df.at[index, 'boost'] = b\n",
    "        if \"sats\" in b:\n",
    "            df.at[index, 'sats'] = b\n",
    "        if \"@\" in b:\n",
    "            df.at[index, 'betha'] = b\n",
    "#-------------------------------------------------------------------------------\n",
    "    # N_COMMENTS\n",
    "    try:\n",
    "        n_comments = soup.find('a', class_='text-reset position-relative').get_text()\n",
    "    except:        \n",
    "        df.at[index, 'n_comments'] = \"NaN\"\n",
    "    # add n_comments to dataframe\n",
    "    df.at[index, 'n_comments'] = n_comments\n",
    "#-------------------------------------------------------------------------------\n",
    "    # COMMENTORS\n",
    "    \n",
    "    a_elements = soup.find_all('a')\n",
    "    \n",
    "    df.at[index, 'commentors'] = \"NaN\"\n",
    "    at_elements = []\n",
    "\n",
    "    for el in a_elements:\n",
    "        links = el.get_text() \n",
    "        if links.startswith('@'):\n",
    "            at_elements.append(el)\n",
    "    \n",
    "    commentors_list=[]\n",
    "    for ind in range(0,len(at_elements)):\n",
    "        commentors_list.append(at_elements[ind][\"href\"])\n",
    "    # add commentors to dataframe\n",
    "    df.at[index, 'commentors'] = commentors_list\n",
    "#-------------------------------------------------------------------------------\n",
    "# Fixing the dataframe\n",
    "df['author'] = df['betha'].str.extract(r'@(\\w+)')\n",
    "df['data'] = df['betha'].str.extract(r'(\\d+\\s\\w+\\s\\d+)')\n",
    "df.drop('betha', axis=1, inplace=True)\n",
    "df"
   ]
  },
  {
   "cell_type": "markdown",
   "source": [
    "# Function pandas.explode\n",
    "\n",
    "The following function explodes the selected dataframe by the desired column. This helps us to visualize in each row the relationship between the post item and the comment item, and therefore let us merge the dataframe with itself in order to retrieve the relationship between the users and all the details of the item (sats, replies etc) "
   ],
   "metadata": {
    "collapsed": false
   },
   "id": "e5a377f392706e3d"
  },
  {
   "cell_type": "code",
   "execution_count": 112,
   "outputs": [],
   "source": [
    "new_df = df.explode('commentors')"
   ],
   "metadata": {
    "collapsed": false,
    "ExecuteTime": {
     "end_time": "2023-10-10T10:52:14.159044264Z",
     "start_time": "2023-10-10T10:52:14.152698619Z"
    }
   },
   "id": "7d7dcd1027662f6c"
  },
  {
   "cell_type": "code",
   "execution_count": 113,
   "outputs": [
    {
     "data": {
      "text/plain": "  item                                         title   n_comments  \\\n0    1        El Salvador Makes Bitcoin Legal Tender  13 comments   \n0    1        El Salvador Makes Bitcoin Legal Tender  13 comments   \n0    1        El Salvador Makes Bitcoin Legal Tender  13 comments   \n0    1        El Salvador Makes Bitcoin Legal Tender  13 comments   \n0    1        El Salvador Makes Bitcoin Legal Tender  13 comments   \n0    1        El Salvador Makes Bitcoin Legal Tender  13 comments   \n0    1        El Salvador Makes Bitcoin Legal Tender  13 comments   \n0    1        El Salvador Makes Bitcoin Legal Tender  13 comments   \n0    1        El Salvador Makes Bitcoin Legal Tender  13 comments   \n0    1        El Salvador Makes Bitcoin Legal Tender  13 comments   \n0    1        El Salvador Makes Bitcoin Legal Tender  13 comments   \n0    1        El Salvador Makes Bitcoin Legal Tender  13 comments   \n0    1        El Salvador Makes Bitcoin Legal Tender  13 comments   \n0    1        El Salvador Makes Bitcoin Legal Tender  13 comments   \n0    1        El Salvador Makes Bitcoin Legal Tender  13 comments   \n0    1        El Salvador Makes Bitcoin Legal Tender  13 comments   \n0    1        El Salvador Makes Bitcoin Legal Tender  13 comments   \n1    2                  stacker news soft launch AMA  30 comments   \n1    2                  stacker news soft launch AMA  30 comments   \n1    2                  stacker news soft launch AMA  30 comments   \n1    2                  stacker news soft launch AMA  30 comments   \n1    2                  stacker news soft launch AMA  30 comments   \n1    2                  stacker news soft launch AMA  30 comments   \n1    2                  stacker news soft launch AMA  30 comments   \n1    2                  stacker news soft launch AMA  30 comments   \n1    2                  stacker news soft launch AMA  30 comments   \n1    2                  stacker news soft launch AMA  30 comments   \n1    2                  stacker news soft launch AMA  30 comments   \n1    2                  stacker news soft launch AMA  30 comments   \n1    2                  stacker news soft launch AMA  30 comments   \n1    2                  stacker news soft launch AMA  30 comments   \n1    2                  stacker news soft launch AMA  30 comments   \n1    2                  stacker news soft launch AMA  30 comments   \n1    2                  stacker news soft launch AMA  30 comments   \n1    2                  stacker news soft launch AMA  30 comments   \n1    2                  stacker news soft launch AMA  30 comments   \n1    2                  stacker news soft launch AMA  30 comments   \n1    2                  stacker news soft launch AMA  30 comments   \n1    2                  stacker news soft launch AMA  30 comments   \n7    8  The Lightning Conference 2019: Alex Bosworth   2 comments   \n7    8  The Lightning Conference 2019: Alex Bosworth   2 comments   \n7    8  The Lightning Conference 2019: Alex Bosworth   2 comments   \n7    8  The Lightning Conference 2019: Alex Bosworth   2 comments   \n7    8  The Lightning Conference 2019: Alex Bosworth   2 comments   \n7    8  The Lightning Conference 2019: Alex Bosworth   2 comments   \n\n                                              corpus    boost      sats  \\\n0                                                     4 boost  603 sats   \n0                                                     4 boost  603 sats   \n0                                                     4 boost  603 sats   \n0                                                     4 boost  603 sats   \n0                                                     4 boost  603 sats   \n0                                                     4 boost  603 sats   \n0                                                     4 boost  603 sats   \n0                                                     4 boost  603 sats   \n0                                                     4 boost  603 sats   \n0                                                     4 boost  603 sats   \n0                                                     4 boost  603 sats   \n0                                                     4 boost  603 sats   \n0                                                     4 boost  603 sats   \n0                                                     4 boost  603 sats   \n0                                                     4 boost  603 sats   \n0                                                     4 boost  603 sats   \n0                                                     4 boost  603 sats   \n1  Figured I'd make a place to raise questions ab...      NaN    2 sats   \n1  Figured I'd make a place to raise questions ab...      NaN    2 sats   \n1  Figured I'd make a place to raise questions ab...      NaN    2 sats   \n1  Figured I'd make a place to raise questions ab...      NaN    2 sats   \n1  Figured I'd make a place to raise questions ab...      NaN    2 sats   \n1  Figured I'd make a place to raise questions ab...      NaN    2 sats   \n1  Figured I'd make a place to raise questions ab...      NaN    2 sats   \n1  Figured I'd make a place to raise questions ab...      NaN    2 sats   \n1  Figured I'd make a place to raise questions ab...      NaN    2 sats   \n1  Figured I'd make a place to raise questions ab...      NaN    2 sats   \n1  Figured I'd make a place to raise questions ab...      NaN    2 sats   \n1  Figured I'd make a place to raise questions ab...      NaN    2 sats   \n1  Figured I'd make a place to raise questions ab...      NaN    2 sats   \n1  Figured I'd make a place to raise questions ab...      NaN    2 sats   \n1  Figured I'd make a place to raise questions ab...      NaN    2 sats   \n1  Figured I'd make a place to raise questions ab...      NaN    2 sats   \n1  Figured I'd make a place to raise questions ab...      NaN    2 sats   \n1  Figured I'd make a place to raise questions ab...      NaN    2 sats   \n1  Figured I'd make a place to raise questions ab...      NaN    2 sats   \n1  Figured I'd make a place to raise questions ab...      NaN    2 sats   \n1  Figured I'd make a place to raise questions ab...      NaN    2 sats   \n1  Figured I'd make a place to raise questions ab...      NaN    2 sats   \n7                                                         NaN    0 sats   \n7                                                         NaN    0 sats   \n7                                                         NaN    0 sats   \n7                                                         NaN    0 sats   \n7                                                         NaN    0 sats   \n7                                                         NaN    0 sats   \n\n       commentors                                     external_links author  \\\n0           /k00b  bitcoinmagazine.com/business/el-salvador-appro...   k00b   \n0          /ln123  bitcoinmagazine.com/business/el-salvador-appro...   k00b   \n0           /k00b  bitcoinmagazine.com/business/el-salvador-appro...   k00b   \n0           /k00b  bitcoinmagazine.com/business/el-salvador-appro...   k00b   \n0    /OneOneSeven  bitcoinmagazine.com/business/el-salvador-appro...   k00b   \n0         /ekzyis  bitcoinmagazine.com/business/el-salvador-appro...   k00b   \n0           /k00b  bitcoinmagazine.com/business/el-salvador-appro...   k00b   \n0         /ekzyis  bitcoinmagazine.com/business/el-salvador-appro...   k00b   \n0         /Bitman  bitcoinmagazine.com/business/el-salvador-appro...   k00b   \n0         /ekzyis  bitcoinmagazine.com/business/el-salvador-appro...   k00b   \n0           /nemo  bitcoinmagazine.com/business/el-salvador-appro...   k00b   \n0          /Gar0x  bitcoinmagazine.com/business/el-salvador-appro...   k00b   \n0     /scottathan  bitcoinmagazine.com/business/el-salvador-appro...   k00b   \n0          /sahil  bitcoinmagazine.com/business/el-salvador-appro...   k00b   \n0           /k00b  bitcoinmagazine.com/business/el-salvador-appro...   k00b   \n0             /kr  bitcoinmagazine.com/business/el-salvador-appro...   k00b   \n0         /ekzyis  bitcoinmagazine.com/business/el-salvador-appro...   k00b   \n1           /k00b  bitcoinmagazine.com/business/el-salvador-appro...   k00b   \n1         /sha256  bitcoinmagazine.com/business/el-salvador-appro...   k00b   \n1           /k00b  bitcoinmagazine.com/business/el-salvador-appro...   k00b   \n1         /banana  bitcoinmagazine.com/business/el-salvador-appro...   k00b   \n1         /banana  bitcoinmagazine.com/business/el-salvador-appro...   k00b   \n1           /k00b  bitcoinmagazine.com/business/el-salvador-appro...   k00b   \n1          /qecez  bitcoinmagazine.com/business/el-salvador-appro...   k00b   \n1          /qecez  bitcoinmagazine.com/business/el-salvador-appro...   k00b   \n1  /satoshisuncle  bitcoinmagazine.com/business/el-salvador-appro...   k00b   \n1          /jason  bitcoinmagazine.com/business/el-salvador-appro...   k00b   \n1           /k00b  bitcoinmagazine.com/business/el-salvador-appro...   k00b   \n1          /qecez  bitcoinmagazine.com/business/el-salvador-appro...   k00b   \n1           /k00b  bitcoinmagazine.com/business/el-salvador-appro...   k00b   \n1           /k00b  bitcoinmagazine.com/business/el-salvador-appro...   k00b   \n1           /k00b  bitcoinmagazine.com/business/el-salvador-appro...   k00b   \n1        /pplanel  bitcoinmagazine.com/business/el-salvador-appro...   k00b   \n1           /k00b  bitcoinmagazine.com/business/el-salvador-appro...   k00b   \n1          /jason  bitcoinmagazine.com/business/el-salvador-appro...   k00b   \n1           /k00b  bitcoinmagazine.com/business/el-salvador-appro...   k00b   \n1           /k00b  bitcoinmagazine.com/business/el-salvador-appro...   k00b   \n1             /kr  bitcoinmagazine.com/business/el-salvador-appro...   k00b   \n1         /ekzyis  bitcoinmagazine.com/business/el-salvador-appro...   k00b   \n7           /k00b                www.youtube.com/watch?v=Y4uxMtFwaYc   k00b   \n7           /k00b                www.youtube.com/watch?v=Y4uxMtFwaYc   k00b   \n7           /k00b                www.youtube.com/watch?v=Y4uxMtFwaYc   k00b   \n7           /k00b                www.youtube.com/watch?v=Y4uxMtFwaYc   k00b   \n7             /kr                www.youtube.com/watch?v=Y4uxMtFwaYc   k00b   \n7         /ekzyis                www.youtube.com/watch?v=Y4uxMtFwaYc   k00b   \n\n          data  \n0  11 Jun 2021  \n0  11 Jun 2021  \n0  11 Jun 2021  \n0  11 Jun 2021  \n0  11 Jun 2021  \n0  11 Jun 2021  \n0  11 Jun 2021  \n0  11 Jun 2021  \n0  11 Jun 2021  \n0  11 Jun 2021  \n0  11 Jun 2021  \n0  11 Jun 2021  \n0  11 Jun 2021  \n0  11 Jun 2021  \n0  11 Jun 2021  \n0  11 Jun 2021  \n0  11 Jun 2021  \n1  11 Jun 2021  \n1  11 Jun 2021  \n1  11 Jun 2021  \n1  11 Jun 2021  \n1  11 Jun 2021  \n1  11 Jun 2021  \n1  11 Jun 2021  \n1  11 Jun 2021  \n1  11 Jun 2021  \n1  11 Jun 2021  \n1  11 Jun 2021  \n1  11 Jun 2021  \n1  11 Jun 2021  \n1  11 Jun 2021  \n1  11 Jun 2021  \n1  11 Jun 2021  \n1  11 Jun 2021  \n1  11 Jun 2021  \n1  11 Jun 2021  \n1  11 Jun 2021  \n1  11 Jun 2021  \n1  11 Jun 2021  \n7  11 Jun 2021  \n7  11 Jun 2021  \n7  11 Jun 2021  \n7  11 Jun 2021  \n7  11 Jun 2021  \n7  11 Jun 2021  ",
      "text/html": "<div>\n<style scoped>\n    .dataframe tbody tr th:only-of-type {\n        vertical-align: middle;\n    }\n\n    .dataframe tbody tr th {\n        vertical-align: top;\n    }\n\n    .dataframe thead th {\n        text-align: right;\n    }\n</style>\n<table border=\"1\" class=\"dataframe\">\n  <thead>\n    <tr style=\"text-align: right;\">\n      <th></th>\n      <th>item</th>\n      <th>title</th>\n      <th>n_comments</th>\n      <th>corpus</th>\n      <th>boost</th>\n      <th>sats</th>\n      <th>commentors</th>\n      <th>external_links</th>\n      <th>author</th>\n      <th>data</th>\n    </tr>\n  </thead>\n  <tbody>\n    <tr>\n      <th>0</th>\n      <td>1</td>\n      <td>El Salvador Makes Bitcoin Legal Tender</td>\n      <td>13 comments</td>\n      <td></td>\n      <td>4 boost</td>\n      <td>603 sats</td>\n      <td>/k00b</td>\n      <td>bitcoinmagazine.com/business/el-salvador-appro...</td>\n      <td>k00b</td>\n      <td>11 Jun 2021</td>\n    </tr>\n    <tr>\n      <th>0</th>\n      <td>1</td>\n      <td>El Salvador Makes Bitcoin Legal Tender</td>\n      <td>13 comments</td>\n      <td></td>\n      <td>4 boost</td>\n      <td>603 sats</td>\n      <td>/ln123</td>\n      <td>bitcoinmagazine.com/business/el-salvador-appro...</td>\n      <td>k00b</td>\n      <td>11 Jun 2021</td>\n    </tr>\n    <tr>\n      <th>0</th>\n      <td>1</td>\n      <td>El Salvador Makes Bitcoin Legal Tender</td>\n      <td>13 comments</td>\n      <td></td>\n      <td>4 boost</td>\n      <td>603 sats</td>\n      <td>/k00b</td>\n      <td>bitcoinmagazine.com/business/el-salvador-appro...</td>\n      <td>k00b</td>\n      <td>11 Jun 2021</td>\n    </tr>\n    <tr>\n      <th>0</th>\n      <td>1</td>\n      <td>El Salvador Makes Bitcoin Legal Tender</td>\n      <td>13 comments</td>\n      <td></td>\n      <td>4 boost</td>\n      <td>603 sats</td>\n      <td>/k00b</td>\n      <td>bitcoinmagazine.com/business/el-salvador-appro...</td>\n      <td>k00b</td>\n      <td>11 Jun 2021</td>\n    </tr>\n    <tr>\n      <th>0</th>\n      <td>1</td>\n      <td>El Salvador Makes Bitcoin Legal Tender</td>\n      <td>13 comments</td>\n      <td></td>\n      <td>4 boost</td>\n      <td>603 sats</td>\n      <td>/OneOneSeven</td>\n      <td>bitcoinmagazine.com/business/el-salvador-appro...</td>\n      <td>k00b</td>\n      <td>11 Jun 2021</td>\n    </tr>\n    <tr>\n      <th>0</th>\n      <td>1</td>\n      <td>El Salvador Makes Bitcoin Legal Tender</td>\n      <td>13 comments</td>\n      <td></td>\n      <td>4 boost</td>\n      <td>603 sats</td>\n      <td>/ekzyis</td>\n      <td>bitcoinmagazine.com/business/el-salvador-appro...</td>\n      <td>k00b</td>\n      <td>11 Jun 2021</td>\n    </tr>\n    <tr>\n      <th>0</th>\n      <td>1</td>\n      <td>El Salvador Makes Bitcoin Legal Tender</td>\n      <td>13 comments</td>\n      <td></td>\n      <td>4 boost</td>\n      <td>603 sats</td>\n      <td>/k00b</td>\n      <td>bitcoinmagazine.com/business/el-salvador-appro...</td>\n      <td>k00b</td>\n      <td>11 Jun 2021</td>\n    </tr>\n    <tr>\n      <th>0</th>\n      <td>1</td>\n      <td>El Salvador Makes Bitcoin Legal Tender</td>\n      <td>13 comments</td>\n      <td></td>\n      <td>4 boost</td>\n      <td>603 sats</td>\n      <td>/ekzyis</td>\n      <td>bitcoinmagazine.com/business/el-salvador-appro...</td>\n      <td>k00b</td>\n      <td>11 Jun 2021</td>\n    </tr>\n    <tr>\n      <th>0</th>\n      <td>1</td>\n      <td>El Salvador Makes Bitcoin Legal Tender</td>\n      <td>13 comments</td>\n      <td></td>\n      <td>4 boost</td>\n      <td>603 sats</td>\n      <td>/Bitman</td>\n      <td>bitcoinmagazine.com/business/el-salvador-appro...</td>\n      <td>k00b</td>\n      <td>11 Jun 2021</td>\n    </tr>\n    <tr>\n      <th>0</th>\n      <td>1</td>\n      <td>El Salvador Makes Bitcoin Legal Tender</td>\n      <td>13 comments</td>\n      <td></td>\n      <td>4 boost</td>\n      <td>603 sats</td>\n      <td>/ekzyis</td>\n      <td>bitcoinmagazine.com/business/el-salvador-appro...</td>\n      <td>k00b</td>\n      <td>11 Jun 2021</td>\n    </tr>\n    <tr>\n      <th>0</th>\n      <td>1</td>\n      <td>El Salvador Makes Bitcoin Legal Tender</td>\n      <td>13 comments</td>\n      <td></td>\n      <td>4 boost</td>\n      <td>603 sats</td>\n      <td>/nemo</td>\n      <td>bitcoinmagazine.com/business/el-salvador-appro...</td>\n      <td>k00b</td>\n      <td>11 Jun 2021</td>\n    </tr>\n    <tr>\n      <th>0</th>\n      <td>1</td>\n      <td>El Salvador Makes Bitcoin Legal Tender</td>\n      <td>13 comments</td>\n      <td></td>\n      <td>4 boost</td>\n      <td>603 sats</td>\n      <td>/Gar0x</td>\n      <td>bitcoinmagazine.com/business/el-salvador-appro...</td>\n      <td>k00b</td>\n      <td>11 Jun 2021</td>\n    </tr>\n    <tr>\n      <th>0</th>\n      <td>1</td>\n      <td>El Salvador Makes Bitcoin Legal Tender</td>\n      <td>13 comments</td>\n      <td></td>\n      <td>4 boost</td>\n      <td>603 sats</td>\n      <td>/scottathan</td>\n      <td>bitcoinmagazine.com/business/el-salvador-appro...</td>\n      <td>k00b</td>\n      <td>11 Jun 2021</td>\n    </tr>\n    <tr>\n      <th>0</th>\n      <td>1</td>\n      <td>El Salvador Makes Bitcoin Legal Tender</td>\n      <td>13 comments</td>\n      <td></td>\n      <td>4 boost</td>\n      <td>603 sats</td>\n      <td>/sahil</td>\n      <td>bitcoinmagazine.com/business/el-salvador-appro...</td>\n      <td>k00b</td>\n      <td>11 Jun 2021</td>\n    </tr>\n    <tr>\n      <th>0</th>\n      <td>1</td>\n      <td>El Salvador Makes Bitcoin Legal Tender</td>\n      <td>13 comments</td>\n      <td></td>\n      <td>4 boost</td>\n      <td>603 sats</td>\n      <td>/k00b</td>\n      <td>bitcoinmagazine.com/business/el-salvador-appro...</td>\n      <td>k00b</td>\n      <td>11 Jun 2021</td>\n    </tr>\n    <tr>\n      <th>0</th>\n      <td>1</td>\n      <td>El Salvador Makes Bitcoin Legal Tender</td>\n      <td>13 comments</td>\n      <td></td>\n      <td>4 boost</td>\n      <td>603 sats</td>\n      <td>/kr</td>\n      <td>bitcoinmagazine.com/business/el-salvador-appro...</td>\n      <td>k00b</td>\n      <td>11 Jun 2021</td>\n    </tr>\n    <tr>\n      <th>0</th>\n      <td>1</td>\n      <td>El Salvador Makes Bitcoin Legal Tender</td>\n      <td>13 comments</td>\n      <td></td>\n      <td>4 boost</td>\n      <td>603 sats</td>\n      <td>/ekzyis</td>\n      <td>bitcoinmagazine.com/business/el-salvador-appro...</td>\n      <td>k00b</td>\n      <td>11 Jun 2021</td>\n    </tr>\n    <tr>\n      <th>1</th>\n      <td>2</td>\n      <td>stacker news soft launch AMA</td>\n      <td>30 comments</td>\n      <td>Figured I'd make a place to raise questions ab...</td>\n      <td>NaN</td>\n      <td>2 sats</td>\n      <td>/k00b</td>\n      <td>bitcoinmagazine.com/business/el-salvador-appro...</td>\n      <td>k00b</td>\n      <td>11 Jun 2021</td>\n    </tr>\n    <tr>\n      <th>1</th>\n      <td>2</td>\n      <td>stacker news soft launch AMA</td>\n      <td>30 comments</td>\n      <td>Figured I'd make a place to raise questions ab...</td>\n      <td>NaN</td>\n      <td>2 sats</td>\n      <td>/sha256</td>\n      <td>bitcoinmagazine.com/business/el-salvador-appro...</td>\n      <td>k00b</td>\n      <td>11 Jun 2021</td>\n    </tr>\n    <tr>\n      <th>1</th>\n      <td>2</td>\n      <td>stacker news soft launch AMA</td>\n      <td>30 comments</td>\n      <td>Figured I'd make a place to raise questions ab...</td>\n      <td>NaN</td>\n      <td>2 sats</td>\n      <td>/k00b</td>\n      <td>bitcoinmagazine.com/business/el-salvador-appro...</td>\n      <td>k00b</td>\n      <td>11 Jun 2021</td>\n    </tr>\n    <tr>\n      <th>1</th>\n      <td>2</td>\n      <td>stacker news soft launch AMA</td>\n      <td>30 comments</td>\n      <td>Figured I'd make a place to raise questions ab...</td>\n      <td>NaN</td>\n      <td>2 sats</td>\n      <td>/banana</td>\n      <td>bitcoinmagazine.com/business/el-salvador-appro...</td>\n      <td>k00b</td>\n      <td>11 Jun 2021</td>\n    </tr>\n    <tr>\n      <th>1</th>\n      <td>2</td>\n      <td>stacker news soft launch AMA</td>\n      <td>30 comments</td>\n      <td>Figured I'd make a place to raise questions ab...</td>\n      <td>NaN</td>\n      <td>2 sats</td>\n      <td>/banana</td>\n      <td>bitcoinmagazine.com/business/el-salvador-appro...</td>\n      <td>k00b</td>\n      <td>11 Jun 2021</td>\n    </tr>\n    <tr>\n      <th>1</th>\n      <td>2</td>\n      <td>stacker news soft launch AMA</td>\n      <td>30 comments</td>\n      <td>Figured I'd make a place to raise questions ab...</td>\n      <td>NaN</td>\n      <td>2 sats</td>\n      <td>/k00b</td>\n      <td>bitcoinmagazine.com/business/el-salvador-appro...</td>\n      <td>k00b</td>\n      <td>11 Jun 2021</td>\n    </tr>\n    <tr>\n      <th>1</th>\n      <td>2</td>\n      <td>stacker news soft launch AMA</td>\n      <td>30 comments</td>\n      <td>Figured I'd make a place to raise questions ab...</td>\n      <td>NaN</td>\n      <td>2 sats</td>\n      <td>/qecez</td>\n      <td>bitcoinmagazine.com/business/el-salvador-appro...</td>\n      <td>k00b</td>\n      <td>11 Jun 2021</td>\n    </tr>\n    <tr>\n      <th>1</th>\n      <td>2</td>\n      <td>stacker news soft launch AMA</td>\n      <td>30 comments</td>\n      <td>Figured I'd make a place to raise questions ab...</td>\n      <td>NaN</td>\n      <td>2 sats</td>\n      <td>/qecez</td>\n      <td>bitcoinmagazine.com/business/el-salvador-appro...</td>\n      <td>k00b</td>\n      <td>11 Jun 2021</td>\n    </tr>\n    <tr>\n      <th>1</th>\n      <td>2</td>\n      <td>stacker news soft launch AMA</td>\n      <td>30 comments</td>\n      <td>Figured I'd make a place to raise questions ab...</td>\n      <td>NaN</td>\n      <td>2 sats</td>\n      <td>/satoshisuncle</td>\n      <td>bitcoinmagazine.com/business/el-salvador-appro...</td>\n      <td>k00b</td>\n      <td>11 Jun 2021</td>\n    </tr>\n    <tr>\n      <th>1</th>\n      <td>2</td>\n      <td>stacker news soft launch AMA</td>\n      <td>30 comments</td>\n      <td>Figured I'd make a place to raise questions ab...</td>\n      <td>NaN</td>\n      <td>2 sats</td>\n      <td>/jason</td>\n      <td>bitcoinmagazine.com/business/el-salvador-appro...</td>\n      <td>k00b</td>\n      <td>11 Jun 2021</td>\n    </tr>\n    <tr>\n      <th>1</th>\n      <td>2</td>\n      <td>stacker news soft launch AMA</td>\n      <td>30 comments</td>\n      <td>Figured I'd make a place to raise questions ab...</td>\n      <td>NaN</td>\n      <td>2 sats</td>\n      <td>/k00b</td>\n      <td>bitcoinmagazine.com/business/el-salvador-appro...</td>\n      <td>k00b</td>\n      <td>11 Jun 2021</td>\n    </tr>\n    <tr>\n      <th>1</th>\n      <td>2</td>\n      <td>stacker news soft launch AMA</td>\n      <td>30 comments</td>\n      <td>Figured I'd make a place to raise questions ab...</td>\n      <td>NaN</td>\n      <td>2 sats</td>\n      <td>/qecez</td>\n      <td>bitcoinmagazine.com/business/el-salvador-appro...</td>\n      <td>k00b</td>\n      <td>11 Jun 2021</td>\n    </tr>\n    <tr>\n      <th>1</th>\n      <td>2</td>\n      <td>stacker news soft launch AMA</td>\n      <td>30 comments</td>\n      <td>Figured I'd make a place to raise questions ab...</td>\n      <td>NaN</td>\n      <td>2 sats</td>\n      <td>/k00b</td>\n      <td>bitcoinmagazine.com/business/el-salvador-appro...</td>\n      <td>k00b</td>\n      <td>11 Jun 2021</td>\n    </tr>\n    <tr>\n      <th>1</th>\n      <td>2</td>\n      <td>stacker news soft launch AMA</td>\n      <td>30 comments</td>\n      <td>Figured I'd make a place to raise questions ab...</td>\n      <td>NaN</td>\n      <td>2 sats</td>\n      <td>/k00b</td>\n      <td>bitcoinmagazine.com/business/el-salvador-appro...</td>\n      <td>k00b</td>\n      <td>11 Jun 2021</td>\n    </tr>\n    <tr>\n      <th>1</th>\n      <td>2</td>\n      <td>stacker news soft launch AMA</td>\n      <td>30 comments</td>\n      <td>Figured I'd make a place to raise questions ab...</td>\n      <td>NaN</td>\n      <td>2 sats</td>\n      <td>/k00b</td>\n      <td>bitcoinmagazine.com/business/el-salvador-appro...</td>\n      <td>k00b</td>\n      <td>11 Jun 2021</td>\n    </tr>\n    <tr>\n      <th>1</th>\n      <td>2</td>\n      <td>stacker news soft launch AMA</td>\n      <td>30 comments</td>\n      <td>Figured I'd make a place to raise questions ab...</td>\n      <td>NaN</td>\n      <td>2 sats</td>\n      <td>/pplanel</td>\n      <td>bitcoinmagazine.com/business/el-salvador-appro...</td>\n      <td>k00b</td>\n      <td>11 Jun 2021</td>\n    </tr>\n    <tr>\n      <th>1</th>\n      <td>2</td>\n      <td>stacker news soft launch AMA</td>\n      <td>30 comments</td>\n      <td>Figured I'd make a place to raise questions ab...</td>\n      <td>NaN</td>\n      <td>2 sats</td>\n      <td>/k00b</td>\n      <td>bitcoinmagazine.com/business/el-salvador-appro...</td>\n      <td>k00b</td>\n      <td>11 Jun 2021</td>\n    </tr>\n    <tr>\n      <th>1</th>\n      <td>2</td>\n      <td>stacker news soft launch AMA</td>\n      <td>30 comments</td>\n      <td>Figured I'd make a place to raise questions ab...</td>\n      <td>NaN</td>\n      <td>2 sats</td>\n      <td>/jason</td>\n      <td>bitcoinmagazine.com/business/el-salvador-appro...</td>\n      <td>k00b</td>\n      <td>11 Jun 2021</td>\n    </tr>\n    <tr>\n      <th>1</th>\n      <td>2</td>\n      <td>stacker news soft launch AMA</td>\n      <td>30 comments</td>\n      <td>Figured I'd make a place to raise questions ab...</td>\n      <td>NaN</td>\n      <td>2 sats</td>\n      <td>/k00b</td>\n      <td>bitcoinmagazine.com/business/el-salvador-appro...</td>\n      <td>k00b</td>\n      <td>11 Jun 2021</td>\n    </tr>\n    <tr>\n      <th>1</th>\n      <td>2</td>\n      <td>stacker news soft launch AMA</td>\n      <td>30 comments</td>\n      <td>Figured I'd make a place to raise questions ab...</td>\n      <td>NaN</td>\n      <td>2 sats</td>\n      <td>/k00b</td>\n      <td>bitcoinmagazine.com/business/el-salvador-appro...</td>\n      <td>k00b</td>\n      <td>11 Jun 2021</td>\n    </tr>\n    <tr>\n      <th>1</th>\n      <td>2</td>\n      <td>stacker news soft launch AMA</td>\n      <td>30 comments</td>\n      <td>Figured I'd make a place to raise questions ab...</td>\n      <td>NaN</td>\n      <td>2 sats</td>\n      <td>/kr</td>\n      <td>bitcoinmagazine.com/business/el-salvador-appro...</td>\n      <td>k00b</td>\n      <td>11 Jun 2021</td>\n    </tr>\n    <tr>\n      <th>1</th>\n      <td>2</td>\n      <td>stacker news soft launch AMA</td>\n      <td>30 comments</td>\n      <td>Figured I'd make a place to raise questions ab...</td>\n      <td>NaN</td>\n      <td>2 sats</td>\n      <td>/ekzyis</td>\n      <td>bitcoinmagazine.com/business/el-salvador-appro...</td>\n      <td>k00b</td>\n      <td>11 Jun 2021</td>\n    </tr>\n    <tr>\n      <th>7</th>\n      <td>8</td>\n      <td>The Lightning Conference 2019: Alex Bosworth</td>\n      <td>2 comments</td>\n      <td></td>\n      <td>NaN</td>\n      <td>0 sats</td>\n      <td>/k00b</td>\n      <td>www.youtube.com/watch?v=Y4uxMtFwaYc</td>\n      <td>k00b</td>\n      <td>11 Jun 2021</td>\n    </tr>\n    <tr>\n      <th>7</th>\n      <td>8</td>\n      <td>The Lightning Conference 2019: Alex Bosworth</td>\n      <td>2 comments</td>\n      <td></td>\n      <td>NaN</td>\n      <td>0 sats</td>\n      <td>/k00b</td>\n      <td>www.youtube.com/watch?v=Y4uxMtFwaYc</td>\n      <td>k00b</td>\n      <td>11 Jun 2021</td>\n    </tr>\n    <tr>\n      <th>7</th>\n      <td>8</td>\n      <td>The Lightning Conference 2019: Alex Bosworth</td>\n      <td>2 comments</td>\n      <td></td>\n      <td>NaN</td>\n      <td>0 sats</td>\n      <td>/k00b</td>\n      <td>www.youtube.com/watch?v=Y4uxMtFwaYc</td>\n      <td>k00b</td>\n      <td>11 Jun 2021</td>\n    </tr>\n    <tr>\n      <th>7</th>\n      <td>8</td>\n      <td>The Lightning Conference 2019: Alex Bosworth</td>\n      <td>2 comments</td>\n      <td></td>\n      <td>NaN</td>\n      <td>0 sats</td>\n      <td>/k00b</td>\n      <td>www.youtube.com/watch?v=Y4uxMtFwaYc</td>\n      <td>k00b</td>\n      <td>11 Jun 2021</td>\n    </tr>\n    <tr>\n      <th>7</th>\n      <td>8</td>\n      <td>The Lightning Conference 2019: Alex Bosworth</td>\n      <td>2 comments</td>\n      <td></td>\n      <td>NaN</td>\n      <td>0 sats</td>\n      <td>/kr</td>\n      <td>www.youtube.com/watch?v=Y4uxMtFwaYc</td>\n      <td>k00b</td>\n      <td>11 Jun 2021</td>\n    </tr>\n    <tr>\n      <th>7</th>\n      <td>8</td>\n      <td>The Lightning Conference 2019: Alex Bosworth</td>\n      <td>2 comments</td>\n      <td></td>\n      <td>NaN</td>\n      <td>0 sats</td>\n      <td>/ekzyis</td>\n      <td>www.youtube.com/watch?v=Y4uxMtFwaYc</td>\n      <td>k00b</td>\n      <td>11 Jun 2021</td>\n    </tr>\n  </tbody>\n</table>\n</div>"
     },
     "execution_count": 113,
     "metadata": {},
     "output_type": "execute_result"
    }
   ],
   "source": [
    "new_df"
   ],
   "metadata": {
    "collapsed": false,
    "ExecuteTime": {
     "end_time": "2023-10-10T10:52:19.654943259Z",
     "start_time": "2023-10-10T10:52:19.592305348Z"
    }
   },
   "id": "e381da76e7c440c5"
  }
 ],
 "metadata": {
  "kernelspec": {
   "display_name": "Python 3",
   "language": "python",
   "name": "python3"
  },
  "language_info": {
   "codemirror_mode": {
    "name": "ipython",
    "version": 2
   },
   "file_extension": ".py",
   "mimetype": "text/x-python",
   "name": "python",
   "nbconvert_exporter": "python",
   "pygments_lexer": "ipython2",
   "version": "2.7.6"
  }
 },
 "nbformat": 4,
 "nbformat_minor": 5
}
